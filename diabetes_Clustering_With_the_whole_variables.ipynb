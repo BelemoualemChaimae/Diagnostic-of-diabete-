{
  "nbformat": 4,
  "nbformat_minor": 0,
  "metadata": {
    "colab": {
      "name": "diabetes-Clustering-With_the-whole-variables.ipynb",
      "provenance": [],
      "collapsed_sections": [],
      "authorship_tag": "ABX9TyNLnflYeI+Yc68sxDbTgg6Q",
      "include_colab_link": true
    },
    "kernelspec": {
      "name": "python3",
      "display_name": "Python 3"
    },
    "language_info": {
      "name": "python"
    }
  },
  "cells": [
    {
      "cell_type": "markdown",
      "metadata": {
        "id": "view-in-github",
        "colab_type": "text"
      },
      "source": [
        "<a href=\"https://colab.research.google.com/github/BelemoualemChaimae/Diagnostic-of-diabete-/blob/main/diabetes_Clustering_With_the_whole_variables.ipynb\" target=\"_parent\"><img src=\"https://colab.research.google.com/assets/colab-badge.svg\" alt=\"Open In Colab\"/></a>"
      ]
    },
    {
      "cell_type": "code",
      "metadata": {
        "id": "aJsuxtK8mcY1"
      },
      "source": [
        "from __future__ import absolute_import, division, print_function  \n",
        "import warnings\n",
        "warnings.filterwarnings(\"ignore\")\n",
        "import numpy as np\n",
        "import pandas as pd\n",
        "import matplotlib.pyplot as plt\n",
        "from sklearn.metrics import classification_report, confusion_matrix\n",
        "from sklearn.model_selection import train_test_split\n",
        "from sklearn.preprocessing import StandardScaler\n",
        "from sklearn.metrics import confusion_matrix, precision_recall_curve, roc_auc_score, roc_curve, accuracy_score\n",
        "from sklearn.preprocessing import MinMaxScaler\n",
        "from sklearn.model_selection import train_test_split\n",
        "from sklearn.cluster import KMeans\n",
        "from matplotlib import pyplot\n",
        "from sklearn.metrics import precision_score,f1_score, precision_score,recall_score\n",
        "# import random undersampling and other necessary libraries \n",
        "from collections import Counter\n",
        "from imblearn.under_sampling import RandomUnderSampler\n",
        "import seaborn as sns\n",
        "from sklearn.linear_model import LogisticRegression\n",
        "from sklearn.externals import joblib\n",
        "\n",
        "%matplotlib inline"
      ],
      "execution_count": null,
      "outputs": []
    },
    {
      "cell_type": "code",
      "metadata": {
        "colab": {
          "base_uri": "https://localhost:8080/",
          "height": 191
        },
        "id": "0Ogj8IuKP2Av",
        "outputId": "7fb6ad61-1567-4b9f-ebcc-f235df7cfd3d"
      },
      "source": [
        "diabetes_df = pd.read_csv('diabetes.csv')\n",
        "diabetes_df.head()"
      ],
      "execution_count": null,
      "outputs": [
        {
          "output_type": "execute_result",
          "data": {
            "text/html": [
              "<div>\n",
              "<style scoped>\n",
              "    .dataframe tbody tr th:only-of-type {\n",
              "        vertical-align: middle;\n",
              "    }\n",
              "\n",
              "    .dataframe tbody tr th {\n",
              "        vertical-align: top;\n",
              "    }\n",
              "\n",
              "    .dataframe thead th {\n",
              "        text-align: right;\n",
              "    }\n",
              "</style>\n",
              "<table border=\"1\" class=\"dataframe\">\n",
              "  <thead>\n",
              "    <tr style=\"text-align: right;\">\n",
              "      <th></th>\n",
              "      <th>Pregnancies</th>\n",
              "      <th>Glucose</th>\n",
              "      <th>BloodPressure</th>\n",
              "      <th>SkinThickness</th>\n",
              "      <th>Insulin</th>\n",
              "      <th>BMI</th>\n",
              "      <th>DiabetesPedigreeFunction</th>\n",
              "      <th>Age</th>\n",
              "      <th>Outcome</th>\n",
              "    </tr>\n",
              "  </thead>\n",
              "  <tbody>\n",
              "    <tr>\n",
              "      <th>0</th>\n",
              "      <td>6</td>\n",
              "      <td>148</td>\n",
              "      <td>72</td>\n",
              "      <td>35</td>\n",
              "      <td>0</td>\n",
              "      <td>33.6</td>\n",
              "      <td>0.627</td>\n",
              "      <td>50</td>\n",
              "      <td>1</td>\n",
              "    </tr>\n",
              "    <tr>\n",
              "      <th>1</th>\n",
              "      <td>1</td>\n",
              "      <td>85</td>\n",
              "      <td>66</td>\n",
              "      <td>29</td>\n",
              "      <td>0</td>\n",
              "      <td>26.6</td>\n",
              "      <td>0.351</td>\n",
              "      <td>31</td>\n",
              "      <td>0</td>\n",
              "    </tr>\n",
              "    <tr>\n",
              "      <th>2</th>\n",
              "      <td>8</td>\n",
              "      <td>183</td>\n",
              "      <td>64</td>\n",
              "      <td>0</td>\n",
              "      <td>0</td>\n",
              "      <td>23.3</td>\n",
              "      <td>0.672</td>\n",
              "      <td>32</td>\n",
              "      <td>1</td>\n",
              "    </tr>\n",
              "    <tr>\n",
              "      <th>3</th>\n",
              "      <td>1</td>\n",
              "      <td>89</td>\n",
              "      <td>66</td>\n",
              "      <td>23</td>\n",
              "      <td>94</td>\n",
              "      <td>28.1</td>\n",
              "      <td>0.167</td>\n",
              "      <td>21</td>\n",
              "      <td>0</td>\n",
              "    </tr>\n",
              "    <tr>\n",
              "      <th>4</th>\n",
              "      <td>0</td>\n",
              "      <td>137</td>\n",
              "      <td>40</td>\n",
              "      <td>35</td>\n",
              "      <td>168</td>\n",
              "      <td>43.1</td>\n",
              "      <td>2.288</td>\n",
              "      <td>33</td>\n",
              "      <td>1</td>\n",
              "    </tr>\n",
              "  </tbody>\n",
              "</table>\n",
              "</div>"
            ],
            "text/plain": [
              "   Pregnancies  Glucose  BloodPressure  ...  DiabetesPedigreeFunction  Age  Outcome\n",
              "0            6      148             72  ...                     0.627   50        1\n",
              "1            1       85             66  ...                     0.351   31        0\n",
              "2            8      183             64  ...                     0.672   32        1\n",
              "3            1       89             66  ...                     0.167   21        0\n",
              "4            0      137             40  ...                     2.288   33        1\n",
              "\n",
              "[5 rows x 9 columns]"
            ]
          },
          "metadata": {
            "tags": []
          },
          "execution_count": 170
        }
      ]
    },
    {
      "cell_type": "code",
      "metadata": {
        "colab": {
          "base_uri": "https://localhost:8080/",
          "height": 191
        },
        "id": "TDZvcJdJCdK6",
        "outputId": "a8267a14-6ff5-4a7a-8d58-546c0d366ea9"
      },
      "source": [
        "#diabetes_df.drop('Insulin',inplace=True, axis=1)\n",
        " #diabetes_df.drop('SkinThickness',inplace=True, axis=1)\n",
        "diabetes_df.head()"
      ],
      "execution_count": null,
      "outputs": [
        {
          "output_type": "execute_result",
          "data": {
            "text/html": [
              "<div>\n",
              "<style scoped>\n",
              "    .dataframe tbody tr th:only-of-type {\n",
              "        vertical-align: middle;\n",
              "    }\n",
              "\n",
              "    .dataframe tbody tr th {\n",
              "        vertical-align: top;\n",
              "    }\n",
              "\n",
              "    .dataframe thead th {\n",
              "        text-align: right;\n",
              "    }\n",
              "</style>\n",
              "<table border=\"1\" class=\"dataframe\">\n",
              "  <thead>\n",
              "    <tr style=\"text-align: right;\">\n",
              "      <th></th>\n",
              "      <th>Pregnancies</th>\n",
              "      <th>Glucose</th>\n",
              "      <th>BloodPressure</th>\n",
              "      <th>SkinThickness</th>\n",
              "      <th>Insulin</th>\n",
              "      <th>BMI</th>\n",
              "      <th>DiabetesPedigreeFunction</th>\n",
              "      <th>Age</th>\n",
              "      <th>Outcome</th>\n",
              "    </tr>\n",
              "  </thead>\n",
              "  <tbody>\n",
              "    <tr>\n",
              "      <th>0</th>\n",
              "      <td>6</td>\n",
              "      <td>148</td>\n",
              "      <td>72</td>\n",
              "      <td>35</td>\n",
              "      <td>0</td>\n",
              "      <td>33.6</td>\n",
              "      <td>0.627</td>\n",
              "      <td>50</td>\n",
              "      <td>1</td>\n",
              "    </tr>\n",
              "    <tr>\n",
              "      <th>1</th>\n",
              "      <td>1</td>\n",
              "      <td>85</td>\n",
              "      <td>66</td>\n",
              "      <td>29</td>\n",
              "      <td>0</td>\n",
              "      <td>26.6</td>\n",
              "      <td>0.351</td>\n",
              "      <td>31</td>\n",
              "      <td>0</td>\n",
              "    </tr>\n",
              "    <tr>\n",
              "      <th>2</th>\n",
              "      <td>8</td>\n",
              "      <td>183</td>\n",
              "      <td>64</td>\n",
              "      <td>0</td>\n",
              "      <td>0</td>\n",
              "      <td>23.3</td>\n",
              "      <td>0.672</td>\n",
              "      <td>32</td>\n",
              "      <td>1</td>\n",
              "    </tr>\n",
              "    <tr>\n",
              "      <th>3</th>\n",
              "      <td>1</td>\n",
              "      <td>89</td>\n",
              "      <td>66</td>\n",
              "      <td>23</td>\n",
              "      <td>94</td>\n",
              "      <td>28.1</td>\n",
              "      <td>0.167</td>\n",
              "      <td>21</td>\n",
              "      <td>0</td>\n",
              "    </tr>\n",
              "    <tr>\n",
              "      <th>4</th>\n",
              "      <td>0</td>\n",
              "      <td>137</td>\n",
              "      <td>40</td>\n",
              "      <td>35</td>\n",
              "      <td>168</td>\n",
              "      <td>43.1</td>\n",
              "      <td>2.288</td>\n",
              "      <td>33</td>\n",
              "      <td>1</td>\n",
              "    </tr>\n",
              "  </tbody>\n",
              "</table>\n",
              "</div>"
            ],
            "text/plain": [
              "   Pregnancies  Glucose  BloodPressure  ...  DiabetesPedigreeFunction  Age  Outcome\n",
              "0            6      148             72  ...                     0.627   50        1\n",
              "1            1       85             66  ...                     0.351   31        0\n",
              "2            8      183             64  ...                     0.672   32        1\n",
              "3            1       89             66  ...                     0.167   21        0\n",
              "4            0      137             40  ...                     2.288   33        1\n",
              "\n",
              "[5 rows x 9 columns]"
            ]
          },
          "metadata": {
            "tags": []
          },
          "execution_count": 171
        }
      ]
    },
    {
      "cell_type": "markdown",
      "metadata": {
        "id": "92J-lN3GQyJJ"
      },
      "source": [
        "Pre-Processing step "
      ]
    },
    {
      "cell_type": "code",
      "metadata": {
        "colab": {
          "base_uri": "https://localhost:8080/",
          "height": 191
        },
        "id": "6mQaOOlaQwGl",
        "outputId": "42dd808e-1d40-4e86-c702-0c72baee0f17"
      },
      "source": [
        "def clean_data(df_raw,cols_with_zeros=['Glucose', 'BloodPressure', 'SkinThickness', 'Insulin', 'BMI'],response = ['Outcome']):\n",
        "    df = df_raw.copy()\n",
        "    # replace zero with NaN in features\n",
        "    df[cols_with_zeros] = df[cols_with_zeros].replace(0, np.nan)\n",
        "    # change response data type to int\n",
        "    df[response] = df[response].astype('int')\n",
        "    return df\n",
        " \n",
        "diabetes_df = clean_data(diabetes_df)\n",
        "diabetes_df.head()"
      ],
      "execution_count": null,
      "outputs": [
        {
          "output_type": "execute_result",
          "data": {
            "text/html": [
              "<div>\n",
              "<style scoped>\n",
              "    .dataframe tbody tr th:only-of-type {\n",
              "        vertical-align: middle;\n",
              "    }\n",
              "\n",
              "    .dataframe tbody tr th {\n",
              "        vertical-align: top;\n",
              "    }\n",
              "\n",
              "    .dataframe thead th {\n",
              "        text-align: right;\n",
              "    }\n",
              "</style>\n",
              "<table border=\"1\" class=\"dataframe\">\n",
              "  <thead>\n",
              "    <tr style=\"text-align: right;\">\n",
              "      <th></th>\n",
              "      <th>Pregnancies</th>\n",
              "      <th>Glucose</th>\n",
              "      <th>BloodPressure</th>\n",
              "      <th>SkinThickness</th>\n",
              "      <th>Insulin</th>\n",
              "      <th>BMI</th>\n",
              "      <th>DiabetesPedigreeFunction</th>\n",
              "      <th>Age</th>\n",
              "      <th>Outcome</th>\n",
              "    </tr>\n",
              "  </thead>\n",
              "  <tbody>\n",
              "    <tr>\n",
              "      <th>0</th>\n",
              "      <td>6</td>\n",
              "      <td>148.0</td>\n",
              "      <td>72.0</td>\n",
              "      <td>35.0</td>\n",
              "      <td>NaN</td>\n",
              "      <td>33.6</td>\n",
              "      <td>0.627</td>\n",
              "      <td>50</td>\n",
              "      <td>1</td>\n",
              "    </tr>\n",
              "    <tr>\n",
              "      <th>1</th>\n",
              "      <td>1</td>\n",
              "      <td>85.0</td>\n",
              "      <td>66.0</td>\n",
              "      <td>29.0</td>\n",
              "      <td>NaN</td>\n",
              "      <td>26.6</td>\n",
              "      <td>0.351</td>\n",
              "      <td>31</td>\n",
              "      <td>0</td>\n",
              "    </tr>\n",
              "    <tr>\n",
              "      <th>2</th>\n",
              "      <td>8</td>\n",
              "      <td>183.0</td>\n",
              "      <td>64.0</td>\n",
              "      <td>NaN</td>\n",
              "      <td>NaN</td>\n",
              "      <td>23.3</td>\n",
              "      <td>0.672</td>\n",
              "      <td>32</td>\n",
              "      <td>1</td>\n",
              "    </tr>\n",
              "    <tr>\n",
              "      <th>3</th>\n",
              "      <td>1</td>\n",
              "      <td>89.0</td>\n",
              "      <td>66.0</td>\n",
              "      <td>23.0</td>\n",
              "      <td>94.0</td>\n",
              "      <td>28.1</td>\n",
              "      <td>0.167</td>\n",
              "      <td>21</td>\n",
              "      <td>0</td>\n",
              "    </tr>\n",
              "    <tr>\n",
              "      <th>4</th>\n",
              "      <td>0</td>\n",
              "      <td>137.0</td>\n",
              "      <td>40.0</td>\n",
              "      <td>35.0</td>\n",
              "      <td>168.0</td>\n",
              "      <td>43.1</td>\n",
              "      <td>2.288</td>\n",
              "      <td>33</td>\n",
              "      <td>1</td>\n",
              "    </tr>\n",
              "  </tbody>\n",
              "</table>\n",
              "</div>"
            ],
            "text/plain": [
              "   Pregnancies  Glucose  BloodPressure  ...  DiabetesPedigreeFunction  Age  Outcome\n",
              "0            6    148.0           72.0  ...                     0.627   50        1\n",
              "1            1     85.0           66.0  ...                     0.351   31        0\n",
              "2            8    183.0           64.0  ...                     0.672   32        1\n",
              "3            1     89.0           66.0  ...                     0.167   21        0\n",
              "4            0    137.0           40.0  ...                     2.288   33        1\n",
              "\n",
              "[5 rows x 9 columns]"
            ]
          },
          "metadata": {
            "tags": []
          },
          "execution_count": 172
        }
      ]
    },
    {
      "cell_type": "code",
      "metadata": {
        "colab": {
          "base_uri": "https://localhost:8080/",
          "height": 240
        },
        "id": "JxuQs-EIRJ9w",
        "outputId": "9af0048c-f3e4-4873-8b66-12eb085ce687"
      },
      "source": [
        "#Exploring the missing value\n",
        "print(\"Proportion of missing values\")\n",
        "missing_values_count = diabetes_df.isna().sum()*100/diabetes_df.shape[0]\n",
        "features_with_missing_values = missing_values_count[missing_values_count > 0].index.values\n",
        "missing_values_count"
      ],
      "execution_count": null,
      "outputs": [
        {
          "output_type": "stream",
          "text": [
            "Proportion of missing values\n"
          ],
          "name": "stdout"
        },
        {
          "output_type": "error",
          "ename": "NameError",
          "evalue": "ignored",
          "traceback": [
            "\u001b[0;31m---------------------------------------------------------------------------\u001b[0m",
            "\u001b[0;31mNameError\u001b[0m                                 Traceback (most recent call last)",
            "\u001b[0;32m<ipython-input-1-d2a3934588eb>\u001b[0m in \u001b[0;36m<module>\u001b[0;34m()\u001b[0m\n\u001b[1;32m      1\u001b[0m \u001b[0;31m#Exploring the missing value\u001b[0m\u001b[0;34m\u001b[0m\u001b[0;34m\u001b[0m\u001b[0;34m\u001b[0m\u001b[0m\n\u001b[1;32m      2\u001b[0m \u001b[0mprint\u001b[0m\u001b[0;34m(\u001b[0m\u001b[0;34m\"Proportion of missing values\"\u001b[0m\u001b[0;34m)\u001b[0m\u001b[0;34m\u001b[0m\u001b[0;34m\u001b[0m\u001b[0m\n\u001b[0;32m----> 3\u001b[0;31m \u001b[0mmissing_values_count\u001b[0m \u001b[0;34m=\u001b[0m \u001b[0mdiabetes_df\u001b[0m\u001b[0;34m.\u001b[0m\u001b[0misna\u001b[0m\u001b[0;34m(\u001b[0m\u001b[0;34m)\u001b[0m\u001b[0;34m.\u001b[0m\u001b[0msum\u001b[0m\u001b[0;34m(\u001b[0m\u001b[0;34m)\u001b[0m\u001b[0;34m*\u001b[0m\u001b[0;36m100\u001b[0m\u001b[0;34m/\u001b[0m\u001b[0mdiabetes_df\u001b[0m\u001b[0;34m.\u001b[0m\u001b[0mshape\u001b[0m\u001b[0;34m[\u001b[0m\u001b[0;36m0\u001b[0m\u001b[0;34m]\u001b[0m\u001b[0;34m\u001b[0m\u001b[0;34m\u001b[0m\u001b[0m\n\u001b[0m\u001b[1;32m      4\u001b[0m \u001b[0mfeatures_with_missing_values\u001b[0m \u001b[0;34m=\u001b[0m \u001b[0mmissing_values_count\u001b[0m\u001b[0;34m[\u001b[0m\u001b[0mmissing_values_count\u001b[0m \u001b[0;34m>\u001b[0m \u001b[0;36m0\u001b[0m\u001b[0;34m]\u001b[0m\u001b[0;34m.\u001b[0m\u001b[0mindex\u001b[0m\u001b[0;34m.\u001b[0m\u001b[0mvalues\u001b[0m\u001b[0;34m\u001b[0m\u001b[0;34m\u001b[0m\u001b[0m\n\u001b[1;32m      5\u001b[0m \u001b[0mmissing_values_count\u001b[0m\u001b[0;34m\u001b[0m\u001b[0;34m\u001b[0m\u001b[0m\n",
            "\u001b[0;31mNameError\u001b[0m: name 'diabetes_df' is not defined"
          ]
        }
      ]
    },
    {
      "cell_type": "code",
      "metadata": {
        "id": "aNKk__YyZu9H"
      },
      "source": [
        "diabetes_df.dropna(subset = [\"Insulin\"], inplace=True)\n",
        "#diabetes_df.reset_index(drop=True)"
      ],
      "execution_count": null,
      "outputs": []
    },
    {
      "cell_type": "code",
      "metadata": {
        "colab": {
          "base_uri": "https://localhost:8080/",
          "height": 577
        },
        "id": "IIJ2jAl2Vq7V",
        "outputId": "8c1b4046-317a-4176-d88d-2b785695695a"
      },
      "source": [
        "plt.figure(figsize=(20,10))\n",
        "plt.subplot(2,4,1)\n",
        "sns.boxplot(y = diabetes_df.Pregnancies,color='blue')\n",
        "plt.subplot(2,4,2)\n",
        "sns.boxplot(y = diabetes_df.Glucose,color='green')\n",
        "plt.subplot(2,4,3)\n",
        "sns.boxplot(y = diabetes_df.BloodPressure,color='red')\n",
        "plt.subplot(2,4,4)\n",
        "sns.boxplot(y = diabetes_df.SkinThickness,color='cyan')\n",
        "plt.subplot(2,4,5)\n",
        "sns.boxplot(y = diabetes_df.Insulin,color='cyan')\n",
        "plt.subplot(2,4,6)\n",
        "sns.boxplot(y = diabetes_df.BMI,color='red')\n",
        "plt.subplot(2,4,7)\n",
        "sns.boxplot(y = diabetes_df.Age,color='green')\n",
        "plt.subplot(2,4,8)\n",
        "sns.boxplot(y = diabetes_df.DiabetesPedigreeFunction,color='blue')\n",
        "plt.show()"
      ],
      "execution_count": null,
      "outputs": [
        {
          "output_type": "display_data",
          "data": {
            "image/png": "[encoded data removed]",
            "text/plain": [
              "<Figure size 1440x720 with 8 Axes>"
            ]
          },
          "metadata": {
            "tags": [],
            "needs_background": "light"
          }
        }
      ]
    },
    {
      "cell_type": "code",
      "metadata": {
        "colab": {
          "base_uri": "https://localhost:8080/"
        },
        "id": "CX84Om9TbRV4",
        "outputId": "815416c7-0e59-4f8e-f65a-961bd6ebb855"
      },
      "source": [
        "#Exploring the missing value\n",
        "print(\"Proportion of missing values\")\n",
        "missing_values_count = diabetes_df.isna().sum()*100/diabetes_df.shape[0]\n",
        "features_with_missing_values = missing_values_count[missing_values_count > 0].index.values\n",
        "missing_values_count"
      ],
      "execution_count": null,
      "outputs": [
        {
          "output_type": "stream",
          "text": [
            "Proportion of missing values\n"
          ],
          "name": "stdout"
        },
        {
          "output_type": "execute_result",
          "data": {
            "text/plain": [
              "Pregnancies                 0.000000\n",
              "Glucose                     0.253807\n",
              "BloodPressure               0.000000\n",
              "SkinThickness               0.000000\n",
              "Insulin                     0.000000\n",
              "BMI                         0.253807\n",
              "DiabetesPedigreeFunction    0.000000\n",
              "Age                         0.000000\n",
              "Outcome                     0.000000\n",
              "dtype: float64"
            ]
          },
          "metadata": {
            "tags": []
          },
          "execution_count": 176
        }
      ]
    },
    {
      "cell_type": "code",
      "metadata": {
        "id": "jgDg4JWnROoJ"
      },
      "source": [
        "# Dealing with missing values #Techniques pour traiter les valeurs manquantes\n",
        "from sklearn.impute import SimpleImputer\n",
        "from sklearn.neighbors import KNeighborsRegressor\n",
        "from sklearn.preprocessing import MinMaxScaler\n",
        " \n",
        "# function for KNN model-based imputation of missing values using features without NaN as predictors\n",
        "def impute_model_basic(df):\n",
        "  cols_nan = df.columns[df.isna().any()].tolist()\n",
        "  cols_no_nan = df.columns.difference(cols_nan).values\n",
        "  for col in cols_nan:\n",
        "      test_data = df[df[col].isna()]\n",
        "      train_data = df.dropna()\n",
        "      knr = KNeighborsRegressor(n_neighbors=5).fit(train_data[cols_no_nan], train_data[col])\n",
        "      df.loc[df[col].isna(), col] = knr.predict(test_data[cols_no_nan])\n",
        "  return df\n",
        " "
      ],
      "execution_count": null,
      "outputs": []
    },
    {
      "cell_type": "code",
      "metadata": {
        "colab": {
          "base_uri": "https://localhost:8080/",
          "height": 391
        },
        "id": "TypxCW4_zyQ_",
        "outputId": "154750c5-c53e-4931-fe4d-13f1061e473c"
      },
      "source": [
        "diabetes_df=impute_model_basic(diabetes_df)\n",
        "diabetes_df.reset_index(drop=True)"
      ],
      "execution_count": null,
      "outputs": [
        {
          "output_type": "execute_result",
          "data": {
            "text/html": [
              "<div>\n",
              "<style scoped>\n",
              "    .dataframe tbody tr th:only-of-type {\n",
              "        vertical-align: middle;\n",
              "    }\n",
              "\n",
              "    .dataframe tbody tr th {\n",
              "        vertical-align: top;\n",
              "    }\n",
              "\n",
              "    .dataframe thead th {\n",
              "        text-align: right;\n",
              "    }\n",
              "</style>\n",
              "<table border=\"1\" class=\"dataframe\">\n",
              "  <thead>\n",
              "    <tr style=\"text-align: right;\">\n",
              "      <th></th>\n",
              "      <th>Pregnancies</th>\n",
              "      <th>Glucose</th>\n",
              "      <th>BloodPressure</th>\n",
              "      <th>SkinThickness</th>\n",
              "      <th>Insulin</th>\n",
              "      <th>BMI</th>\n",
              "      <th>DiabetesPedigreeFunction</th>\n",
              "      <th>Age</th>\n",
              "      <th>Outcome</th>\n",
              "    </tr>\n",
              "  </thead>\n",
              "  <tbody>\n",
              "    <tr>\n",
              "      <th>0</th>\n",
              "      <td>1</td>\n",
              "      <td>89.0</td>\n",
              "      <td>66.0</td>\n",
              "      <td>23.0</td>\n",
              "      <td>94.0</td>\n",
              "      <td>28.1</td>\n",
              "      <td>0.167</td>\n",
              "      <td>21</td>\n",
              "      <td>0</td>\n",
              "    </tr>\n",
              "    <tr>\n",
              "      <th>1</th>\n",
              "      <td>0</td>\n",
              "      <td>137.0</td>\n",
              "      <td>40.0</td>\n",
              "      <td>35.0</td>\n",
              "      <td>168.0</td>\n",
              "      <td>43.1</td>\n",
              "      <td>2.288</td>\n",
              "      <td>33</td>\n",
              "      <td>1</td>\n",
              "    </tr>\n",
              "    <tr>\n",
              "      <th>2</th>\n",
              "      <td>3</td>\n",
              "      <td>78.0</td>\n",
              "      <td>50.0</td>\n",
              "      <td>32.0</td>\n",
              "      <td>88.0</td>\n",
              "      <td>31.0</td>\n",
              "      <td>0.248</td>\n",
              "      <td>26</td>\n",
              "      <td>1</td>\n",
              "    </tr>\n",
              "    <tr>\n",
              "      <th>3</th>\n",
              "      <td>2</td>\n",
              "      <td>197.0</td>\n",
              "      <td>70.0</td>\n",
              "      <td>45.0</td>\n",
              "      <td>543.0</td>\n",
              "      <td>30.5</td>\n",
              "      <td>0.158</td>\n",
              "      <td>53</td>\n",
              "      <td>1</td>\n",
              "    </tr>\n",
              "    <tr>\n",
              "      <th>4</th>\n",
              "      <td>1</td>\n",
              "      <td>189.0</td>\n",
              "      <td>60.0</td>\n",
              "      <td>23.0</td>\n",
              "      <td>846.0</td>\n",
              "      <td>30.1</td>\n",
              "      <td>0.398</td>\n",
              "      <td>59</td>\n",
              "      <td>1</td>\n",
              "    </tr>\n",
              "    <tr>\n",
              "      <th>...</th>\n",
              "      <td>...</td>\n",
              "      <td>...</td>\n",
              "      <td>...</td>\n",
              "      <td>...</td>\n",
              "      <td>...</td>\n",
              "      <td>...</td>\n",
              "      <td>...</td>\n",
              "      <td>...</td>\n",
              "      <td>...</td>\n",
              "    </tr>\n",
              "    <tr>\n",
              "      <th>389</th>\n",
              "      <td>0</td>\n",
              "      <td>181.0</td>\n",
              "      <td>88.0</td>\n",
              "      <td>44.0</td>\n",
              "      <td>510.0</td>\n",
              "      <td>43.3</td>\n",
              "      <td>0.222</td>\n",
              "      <td>26</td>\n",
              "      <td>1</td>\n",
              "    </tr>\n",
              "    <tr>\n",
              "      <th>390</th>\n",
              "      <td>1</td>\n",
              "      <td>128.0</td>\n",
              "      <td>88.0</td>\n",
              "      <td>39.0</td>\n",
              "      <td>110.0</td>\n",
              "      <td>36.5</td>\n",
              "      <td>1.057</td>\n",
              "      <td>37</td>\n",
              "      <td>1</td>\n",
              "    </tr>\n",
              "    <tr>\n",
              "      <th>391</th>\n",
              "      <td>2</td>\n",
              "      <td>88.0</td>\n",
              "      <td>58.0</td>\n",
              "      <td>26.0</td>\n",
              "      <td>16.0</td>\n",
              "      <td>28.4</td>\n",
              "      <td>0.766</td>\n",
              "      <td>22</td>\n",
              "      <td>0</td>\n",
              "    </tr>\n",
              "    <tr>\n",
              "      <th>392</th>\n",
              "      <td>10</td>\n",
              "      <td>101.0</td>\n",
              "      <td>76.0</td>\n",
              "      <td>48.0</td>\n",
              "      <td>180.0</td>\n",
              "      <td>32.9</td>\n",
              "      <td>0.171</td>\n",
              "      <td>63</td>\n",
              "      <td>0</td>\n",
              "    </tr>\n",
              "    <tr>\n",
              "      <th>393</th>\n",
              "      <td>5</td>\n",
              "      <td>121.0</td>\n",
              "      <td>72.0</td>\n",
              "      <td>23.0</td>\n",
              "      <td>112.0</td>\n",
              "      <td>26.2</td>\n",
              "      <td>0.245</td>\n",
              "      <td>30</td>\n",
              "      <td>0</td>\n",
              "    </tr>\n",
              "  </tbody>\n",
              "</table>\n",
              "<p>394 rows × 9 columns</p>\n",
              "</div>"
            ],
            "text/plain": [
              "     Pregnancies  Glucose  ...  Age  Outcome\n",
              "0              1     89.0  ...   21        0\n",
              "1              0    137.0  ...   33        1\n",
              "2              3     78.0  ...   26        1\n",
              "3              2    197.0  ...   53        1\n",
              "4              1    189.0  ...   59        1\n",
              "..           ...      ...  ...  ...      ...\n",
              "389            0    181.0  ...   26        1\n",
              "390            1    128.0  ...   37        1\n",
              "391            2     88.0  ...   22        0\n",
              "392           10    101.0  ...   63        0\n",
              "393            5    121.0  ...   30        0\n",
              "\n",
              "[394 rows x 9 columns]"
            ]
          },
          "metadata": {
            "tags": []
          },
          "execution_count": 178
        }
      ]
    },
    {
      "cell_type": "code",
      "metadata": {
        "colab": {
          "base_uri": "https://localhost:8080/",
          "height": 577
        },
        "id": "hOOJdBYHSbQi",
        "outputId": "29151f0d-fcba-454e-f48d-180394453983"
      },
      "source": [
        "plt.figure(figsize=(20,10))\n",
        "plt.subplot(2,4,1)\n",
        "sns.boxplot(y = diabetes_df.Pregnancies,color='blue')\n",
        "plt.subplot(2,4,2)\n",
        "sns.boxplot(y = diabetes_df.Glucose,color='green')\n",
        "plt.subplot(2,4,3)\n",
        "sns.boxplot(y = diabetes_df.BloodPressure,color='red')\n",
        "plt.subplot(2,4,4)\n",
        "sns.boxplot(y = diabetes_df.SkinThickness,color='cyan')\n",
        "plt.subplot(2,4,5)\n",
        "sns.boxplot(y = diabetes_df.Insulin,color='cyan')\n",
        "plt.subplot(2,4,6)\n",
        "sns.boxplot(y = diabetes_df.BMI,color='red')\n",
        "plt.subplot(2,4,7)\n",
        "sns.boxplot(y = diabetes_df.Age,color='green')\n",
        "plt.subplot(2,4,8)\n",
        "sns.boxplot(y = diabetes_df.DiabetesPedigreeFunction,color='blue')\n",
        "plt.show()"
      ],
      "execution_count": null,
      "outputs": [
        {
          "output_type": "display_data",
          "data": {
            "image/png": "[encoded data removed]",
            "text/plain": [
              "<Figure size 1440x720 with 8 Axes>"
            ]
          },
          "metadata": {
            "tags": [],
            "needs_background": "light"
          }
        }
      ]
    },
    {
      "cell_type": "code",
      "metadata": {
        "colab": {
          "base_uri": "https://localhost:8080/"
        },
        "id": "yezJQ2XhQIK2",
        "outputId": "ad2e5637-d8f2-4dd0-d1bf-2cb73ddb662e"
      },
      "source": [
        "#removing outliers\n",
        "diabetes_df=diabetes_df[diabetes_df['Insulin']<=340]\n",
        "diabetes_df.shape"
      ],
      "execution_count": null,
      "outputs": [
        {
          "output_type": "execute_result",
          "data": {
            "text/plain": [
              "(368, 9)"
            ]
          },
          "metadata": {
            "tags": []
          },
          "execution_count": 180
        }
      ]
    },
    {
      "cell_type": "code",
      "metadata": {
        "colab": {
          "base_uri": "https://localhost:8080/",
          "height": 391
        },
        "id": "EoLq8K0PeBB_",
        "outputId": "da91e3dc-cb1f-4766-bf79-3f0c045de605"
      },
      "source": [
        "diabetes_df.reset_index(drop=True)"
      ],
      "execution_count": null,
      "outputs": [
        {
          "output_type": "execute_result",
          "data": {
            "text/html": [
              "<div>\n",
              "<style scoped>\n",
              "    .dataframe tbody tr th:only-of-type {\n",
              "        vertical-align: middle;\n",
              "    }\n",
              "\n",
              "    .dataframe tbody tr th {\n",
              "        vertical-align: top;\n",
              "    }\n",
              "\n",
              "    .dataframe thead th {\n",
              "        text-align: right;\n",
              "    }\n",
              "</style>\n",
              "<table border=\"1\" class=\"dataframe\">\n",
              "  <thead>\n",
              "    <tr style=\"text-align: right;\">\n",
              "      <th></th>\n",
              "      <th>Pregnancies</th>\n",
              "      <th>Glucose</th>\n",
              "      <th>BloodPressure</th>\n",
              "      <th>SkinThickness</th>\n",
              "      <th>Insulin</th>\n",
              "      <th>BMI</th>\n",
              "      <th>DiabetesPedigreeFunction</th>\n",
              "      <th>Age</th>\n",
              "      <th>Outcome</th>\n",
              "    </tr>\n",
              "  </thead>\n",
              "  <tbody>\n",
              "    <tr>\n",
              "      <th>0</th>\n",
              "      <td>1</td>\n",
              "      <td>89.0</td>\n",
              "      <td>66.0</td>\n",
              "      <td>23.0</td>\n",
              "      <td>94.0</td>\n",
              "      <td>28.1</td>\n",
              "      <td>0.167</td>\n",
              "      <td>21</td>\n",
              "      <td>0</td>\n",
              "    </tr>\n",
              "    <tr>\n",
              "      <th>1</th>\n",
              "      <td>0</td>\n",
              "      <td>137.0</td>\n",
              "      <td>40.0</td>\n",
              "      <td>35.0</td>\n",
              "      <td>168.0</td>\n",
              "      <td>43.1</td>\n",
              "      <td>2.288</td>\n",
              "      <td>33</td>\n",
              "      <td>1</td>\n",
              "    </tr>\n",
              "    <tr>\n",
              "      <th>2</th>\n",
              "      <td>3</td>\n",
              "      <td>78.0</td>\n",
              "      <td>50.0</td>\n",
              "      <td>32.0</td>\n",
              "      <td>88.0</td>\n",
              "      <td>31.0</td>\n",
              "      <td>0.248</td>\n",
              "      <td>26</td>\n",
              "      <td>1</td>\n",
              "    </tr>\n",
              "    <tr>\n",
              "      <th>3</th>\n",
              "      <td>5</td>\n",
              "      <td>166.0</td>\n",
              "      <td>72.0</td>\n",
              "      <td>19.0</td>\n",
              "      <td>175.0</td>\n",
              "      <td>25.8</td>\n",
              "      <td>0.587</td>\n",
              "      <td>51</td>\n",
              "      <td>1</td>\n",
              "    </tr>\n",
              "    <tr>\n",
              "      <th>4</th>\n",
              "      <td>0</td>\n",
              "      <td>118.0</td>\n",
              "      <td>84.0</td>\n",
              "      <td>47.0</td>\n",
              "      <td>230.0</td>\n",
              "      <td>45.8</td>\n",
              "      <td>0.551</td>\n",
              "      <td>31</td>\n",
              "      <td>1</td>\n",
              "    </tr>\n",
              "    <tr>\n",
              "      <th>...</th>\n",
              "      <td>...</td>\n",
              "      <td>...</td>\n",
              "      <td>...</td>\n",
              "      <td>...</td>\n",
              "      <td>...</td>\n",
              "      <td>...</td>\n",
              "      <td>...</td>\n",
              "      <td>...</td>\n",
              "      <td>...</td>\n",
              "    </tr>\n",
              "    <tr>\n",
              "      <th>363</th>\n",
              "      <td>1</td>\n",
              "      <td>121.0</td>\n",
              "      <td>78.0</td>\n",
              "      <td>39.0</td>\n",
              "      <td>74.0</td>\n",
              "      <td>39.0</td>\n",
              "      <td>0.261</td>\n",
              "      <td>28</td>\n",
              "      <td>0</td>\n",
              "    </tr>\n",
              "    <tr>\n",
              "      <th>364</th>\n",
              "      <td>1</td>\n",
              "      <td>128.0</td>\n",
              "      <td>88.0</td>\n",
              "      <td>39.0</td>\n",
              "      <td>110.0</td>\n",
              "      <td>36.5</td>\n",
              "      <td>1.057</td>\n",
              "      <td>37</td>\n",
              "      <td>1</td>\n",
              "    </tr>\n",
              "    <tr>\n",
              "      <th>365</th>\n",
              "      <td>2</td>\n",
              "      <td>88.0</td>\n",
              "      <td>58.0</td>\n",
              "      <td>26.0</td>\n",
              "      <td>16.0</td>\n",
              "      <td>28.4</td>\n",
              "      <td>0.766</td>\n",
              "      <td>22</td>\n",
              "      <td>0</td>\n",
              "    </tr>\n",
              "    <tr>\n",
              "      <th>366</th>\n",
              "      <td>10</td>\n",
              "      <td>101.0</td>\n",
              "      <td>76.0</td>\n",
              "      <td>48.0</td>\n",
              "      <td>180.0</td>\n",
              "      <td>32.9</td>\n",
              "      <td>0.171</td>\n",
              "      <td>63</td>\n",
              "      <td>0</td>\n",
              "    </tr>\n",
              "    <tr>\n",
              "      <th>367</th>\n",
              "      <td>5</td>\n",
              "      <td>121.0</td>\n",
              "      <td>72.0</td>\n",
              "      <td>23.0</td>\n",
              "      <td>112.0</td>\n",
              "      <td>26.2</td>\n",
              "      <td>0.245</td>\n",
              "      <td>30</td>\n",
              "      <td>0</td>\n",
              "    </tr>\n",
              "  </tbody>\n",
              "</table>\n",
              "<p>368 rows × 9 columns</p>\n",
              "</div>"
            ],
            "text/plain": [
              "     Pregnancies  Glucose  ...  Age  Outcome\n",
              "0              1     89.0  ...   21        0\n",
              "1              0    137.0  ...   33        1\n",
              "2              3     78.0  ...   26        1\n",
              "3              5    166.0  ...   51        1\n",
              "4              0    118.0  ...   31        1\n",
              "..           ...      ...  ...  ...      ...\n",
              "363            1    121.0  ...   28        0\n",
              "364            1    128.0  ...   37        1\n",
              "365            2     88.0  ...   22        0\n",
              "366           10    101.0  ...   63        0\n",
              "367            5    121.0  ...   30        0\n",
              "\n",
              "[368 rows x 9 columns]"
            ]
          },
          "metadata": {
            "tags": []
          },
          "execution_count": 181
        }
      ]
    },
    {
      "cell_type": "code",
      "metadata": {
        "colab": {
          "base_uri": "https://localhost:8080/",
          "height": 133
        },
        "id": "NWUhrZ39CXig",
        "outputId": "50531283-9dc9-4e80-8f3d-d7844c9cc83d"
      },
      "source": [
        "diabetes_df.groupby('Outcome').count()"
      ],
      "execution_count": null,
      "outputs": [
        {
          "output_type": "execute_result",
          "data": {
            "text/html": [
              "<div>\n",
              "<style scoped>\n",
              "    .dataframe tbody tr th:only-of-type {\n",
              "        vertical-align: middle;\n",
              "    }\n",
              "\n",
              "    .dataframe tbody tr th {\n",
              "        vertical-align: top;\n",
              "    }\n",
              "\n",
              "    .dataframe thead th {\n",
              "        text-align: right;\n",
              "    }\n",
              "</style>\n",
              "<table border=\"1\" class=\"dataframe\">\n",
              "  <thead>\n",
              "    <tr style=\"text-align: right;\">\n",
              "      <th></th>\n",
              "      <th>Pregnancies</th>\n",
              "      <th>Glucose</th>\n",
              "      <th>BloodPressure</th>\n",
              "      <th>SkinThickness</th>\n",
              "      <th>Insulin</th>\n",
              "      <th>BMI</th>\n",
              "      <th>DiabetesPedigreeFunction</th>\n",
              "      <th>Age</th>\n",
              "    </tr>\n",
              "    <tr>\n",
              "      <th>Outcome</th>\n",
              "      <th></th>\n",
              "      <th></th>\n",
              "      <th></th>\n",
              "      <th></th>\n",
              "      <th></th>\n",
              "      <th></th>\n",
              "      <th></th>\n",
              "      <th></th>\n",
              "    </tr>\n",
              "  </thead>\n",
              "  <tbody>\n",
              "    <tr>\n",
              "      <th>0</th>\n",
              "      <td>253</td>\n",
              "      <td>253</td>\n",
              "      <td>253</td>\n",
              "      <td>253</td>\n",
              "      <td>253</td>\n",
              "      <td>253</td>\n",
              "      <td>253</td>\n",
              "      <td>253</td>\n",
              "    </tr>\n",
              "    <tr>\n",
              "      <th>1</th>\n",
              "      <td>115</td>\n",
              "      <td>115</td>\n",
              "      <td>115</td>\n",
              "      <td>115</td>\n",
              "      <td>115</td>\n",
              "      <td>115</td>\n",
              "      <td>115</td>\n",
              "      <td>115</td>\n",
              "    </tr>\n",
              "  </tbody>\n",
              "</table>\n",
              "</div>"
            ],
            "text/plain": [
              "         Pregnancies  Glucose  ...  DiabetesPedigreeFunction  Age\n",
              "Outcome                        ...                               \n",
              "0                253      253  ...                       253  253\n",
              "1                115      115  ...                       115  115\n",
              "\n",
              "[2 rows x 8 columns]"
            ]
          },
          "metadata": {
            "tags": []
          },
          "execution_count": 182
        }
      ]
    },
    {
      "cell_type": "code",
      "metadata": {
        "id": "pceWV8g7RxzC"
      },
      "source": [
        "#Split the data\n",
        "X = diabetes_df.iloc[:, :-1].values\n",
        "y = diabetes_df[\"Outcome\"].values\n",
        "X_train, X_test, y_train, y_test = train_test_split(X, y, test_size=0.1, random_state=11111)\n"
      ],
      "execution_count": null,
      "outputs": []
    },
    {
      "cell_type": "code",
      "metadata": {
        "id": "Pb3y-VjlR3_M"
      },
      "source": [
        "#Normalisation des données \n",
        "normalizer = StandardScaler()\n",
        "X_train_norm = normalizer.fit_transform(X_train)\n",
        "X_test_norm = normalizer.transform(X_test)"
      ],
      "execution_count": null,
      "outputs": []
    },
    {
      "cell_type": "code",
      "metadata": {
        "colab": {
          "base_uri": "https://localhost:8080/"
        },
        "id": "qZRVhZQc1FPu",
        "outputId": "8b84033a-6cca-4a47-b2d8-aae4fc6fa8ea"
      },
      "source": [
        "diabetesCheck_logistic = LogisticRegression()\n",
        "diabetesCheck_logistic.fit(X_train_norm, y_train)"
      ],
      "execution_count": null,
      "outputs": [
        {
          "output_type": "execute_result",
          "data": {
            "text/plain": [
              "LogisticRegression(C=1.0, class_weight=None, dual=False, fit_intercept=True,\n",
              "                   intercept_scaling=1, l1_ratio=None, max_iter=100,\n",
              "                   multi_class='auto', n_jobs=None, penalty='l2',\n",
              "                   random_state=None, solver='lbfgs', tol=0.0001, verbose=0,\n",
              "                   warm_start=False)"
            ]
          },
          "metadata": {
            "tags": []
          },
          "execution_count": 185
        }
      ]
    },
    {
      "cell_type": "code",
      "metadata": {
        "colab": {
          "base_uri": "https://localhost:8080/"
        },
        "id": "k8mL-wQj1Mjn",
        "outputId": "24f9be86-52e9-48c6-84df-71822f63bcde"
      },
      "source": [
        "accuracy = diabetesCheck_logistic.score(X_test_norm, y_test)\n",
        "print(\"accuracy = \", accuracy * 100, \"%\")"
      ],
      "execution_count": null,
      "outputs": [
        {
          "output_type": "stream",
          "text": [
            "accuracy =  81.08108108108108 %\n"
          ],
          "name": "stdout"
        }
      ]
    },
    {
      "cell_type": "code",
      "metadata": {
        "colab": {
          "base_uri": "https://localhost:8080/",
          "height": 403
        },
        "id": "GU4yZQWA1WzE",
        "outputId": "dcbced0e-9a5a-4e65-9f82-0842ea4dd7a2"
      },
      "source": [
        "coeff = list(diabetesCheck_logistic.coef_[0])\n",
        "labels = list(diabetes_df.columns[:-1])\n",
        "features = pd.DataFrame()\n",
        "features['Features'] = labels\n",
        "features['importance'] = coeff\n",
        "features.sort_values(by=['importance'], ascending=True, inplace=True)\n",
        "features['positive'] = features['importance'] > 0\n",
        "features.set_index('Features', inplace=True)\n",
        "features.importance.plot(kind='barh', figsize=(11, 6),color = features.positive.map({True: 'blue', False: 'red'}))\n",
        "plt.xlabel('Importance')"
      ],
      "execution_count": null,
      "outputs": [
        {
          "output_type": "execute_result",
          "data": {
            "text/plain": [
              "Text(0.5, 0, 'Importance')"
            ]
          },
          "metadata": {
            "tags": []
          },
          "execution_count": 187
        },
        {
          "output_type": "display_data",
          "data": {
            "image/png": "[encoded data removed]",
            "text/plain": [
              "<Figure size 792x432 with 1 Axes>"
            ]
          },
          "metadata": {
            "tags": [],
            "needs_background": "light"
          }
        }
      ]
    },
    {
      "cell_type": "code",
      "metadata": {
        "colab": {
          "base_uri": "https://localhost:8080/"
        },
        "id": "akS_ac651nX_",
        "outputId": "54ca267d-5e0f-4e0f-b6a5-71e4e229e49a"
      },
      "source": [
        "from sklearn.feature_selection import RFECV\n",
        "rfe = RFECV(estimator=LogisticRegression())\n",
        "rfe = rfe.fit(X_train_norm, y_train)\n",
        "print(rfe.support_)\n",
        "print(rfe.ranking_)"
      ],
      "execution_count": null,
      "outputs": [
        {
          "output_type": "stream",
          "text": [
            "[False  True False False False  True  True  True]\n",
            "[2 1 5 3 4 1 1 1]\n"
          ],
          "name": "stdout"
        }
      ]
    },
    {
      "cell_type": "code",
      "metadata": {
        "colab": {
          "base_uri": "https://localhost:8080/"
        },
        "id": "H6OMv2AN3P1A",
        "outputId": "3bba0054-c3c8-46b0-b8c1-49bb0bb1f695"
      },
      "source": [
        "diabetes_df.columns"
      ],
      "execution_count": null,
      "outputs": [
        {
          "output_type": "execute_result",
          "data": {
            "text/plain": [
              "Index(['Pregnancies', 'Glucose', 'BloodPressure', 'SkinThickness', 'Insulin',\n",
              "       'BMI', 'DiabetesPedigreeFunction', 'Age', 'Outcome'],\n",
              "      dtype='object')"
            ]
          },
          "metadata": {
            "tags": []
          },
          "execution_count": 189
        }
      ]
    },
    {
      "cell_type": "code",
      "metadata": {
        "id": "TKhbDYOG5FvC"
      },
      "source": [
        "df_diabetes_new=diabetes_df.copy()\n",
        "df_diabetes_new.drop('SkinThickness',axis=1,inplace=True)\n",
        "df_diabetes_new.drop('Insulin',axis=1,inplace=True)\n",
        "df_diabetes_new.reset_index(drop=True,inplace=True)"
      ],
      "execution_count": null,
      "outputs": []
    },
    {
      "cell_type": "code",
      "metadata": {
        "id": "htw-tK9248jt"
      },
      "source": [
        "X_new=df_diabetes_new.iloc[:, :-1].values\n",
        "y_new = df_diabetes_new[\"Outcome\"].values\n",
        "X_new_train, X_new_test, y_new_train, y_new_test = train_test_split(X_new, y_new, test_size=0.1, random_state=11111)\n",
        "X_train_d=X_new_train\n",
        "y_train_d=y_new_train\n",
        "X_test_d=X_new_test\n",
        "y_test_d=y_new_test"
      ],
      "execution_count": null,
      "outputs": []
    },
    {
      "cell_type": "code",
      "metadata": {
        "colab": {
          "base_uri": "https://localhost:8080/"
        },
        "id": "XLRpadqvjzMX",
        "outputId": "d05af601-b287-4c32-875a-3a8ff08e3f81"
      },
      "source": [
        "from imblearn.over_sampling import RandomOverSampler\n",
        "# define undersampling strategy-- Balancing the data (lesss importante data is small ! )\n",
        "undersample =RandomOverSampler(sampling_strategy='minority')\n",
        "\n",
        "# fit and apply the transform\n",
        "X_train_d, y_train_d = undersample.fit_resample(X_train_d, y_train_d)\n",
        "# summarize class distribution\n",
        "print(\"After undersampling: \", Counter(y_train_d))"
      ],
      "execution_count": null,
      "outputs": [
        {
          "output_type": "stream",
          "text": [
            "After undersampling:  Counter({0: 230, 1: 230})\n"
          ],
          "name": "stdout"
        }
      ]
    },
    {
      "cell_type": "code",
      "metadata": {
        "id": "w1FGA5C2dLeN"
      },
      "source": [
        "#from imblearn.over_sampling import SMOTE\n",
        "\n",
        "#smt = SMOTE()\n",
        "#X_train_d, y_train_d = smt.fit_sample(X_train_d, y_train_d)\n",
        "#np.bincount(y_train_d)"
      ],
      "execution_count": null,
      "outputs": []
    },
    {
      "cell_type": "code",
      "metadata": {
        "id": "zQtiujq_7s5Z"
      },
      "source": [
        "#Normalisation des données \n",
        "normalizer = StandardScaler()\n",
        "X_new_train_norm = normalizer.fit_transform(X_new_train)\n",
        "X_new_test_norm = normalizer.transform(X_new_test)"
      ],
      "execution_count": null,
      "outputs": []
    },
    {
      "cell_type": "code",
      "metadata": {
        "colab": {
          "base_uri": "https://localhost:8080/"
        },
        "id": "vgIG5BXW6tId",
        "outputId": "c482ffa7-80e2-4ab4-a1e5-5dfba0665053"
      },
      "source": [
        "diabetesCheck_logistic_without_variables = LogisticRegression()\n",
        "diabetesCheck_logistic_without_variables.fit(X_new_train_norm, y_new_train)"
      ],
      "execution_count": null,
      "outputs": [
        {
          "output_type": "execute_result",
          "data": {
            "text/plain": [
              "LogisticRegression(C=1.0, class_weight=None, dual=False, fit_intercept=True,\n",
              "                   intercept_scaling=1, l1_ratio=None, max_iter=100,\n",
              "                   multi_class='auto', n_jobs=None, penalty='l2',\n",
              "                   random_state=None, solver='lbfgs', tol=0.0001, verbose=0,\n",
              "                   warm_start=False)"
            ]
          },
          "metadata": {
            "tags": []
          },
          "execution_count": 195
        }
      ]
    },
    {
      "cell_type": "code",
      "metadata": {
        "colab": {
          "base_uri": "https://localhost:8080/"
        },
        "id": "hPwPpc-n6y9-",
        "outputId": "ee0aba6c-64fe-4a23-8be6-37f38c6e786f"
      },
      "source": [
        "accuracy = diabetesCheck_logistic_without_variables.score(X_new_test_norm, y_new_test)\n",
        "print(\"accuracy = \", accuracy * 100, \"%\")"
      ],
      "execution_count": null,
      "outputs": [
        {
          "output_type": "stream",
          "text": [
            "accuracy =  83.78378378378379 %\n"
          ],
          "name": "stdout"
        }
      ]
    },
    {
      "cell_type": "code",
      "metadata": {
        "colab": {
          "base_uri": "https://localhost:8080/",
          "height": 191
        },
        "id": "WtfQC4Q4Tnqr",
        "outputId": "732e802d-9231-4b6b-b311-82326291a070"
      },
      "source": [
        "People_Diabetes=df_diabetes_new[df_diabetes_new['Outcome']==1]\n",
        "People_Diabetes.drop(columns=['Outcome'],inplace=True)\n",
        "People_Diabetes.head()"
      ],
      "execution_count": null,
      "outputs": [
        {
          "output_type": "execute_result",
          "data": {
            "text/html": [
              "<div>\n",
              "<style scoped>\n",
              "    .dataframe tbody tr th:only-of-type {\n",
              "        vertical-align: middle;\n",
              "    }\n",
              "\n",
              "    .dataframe tbody tr th {\n",
              "        vertical-align: top;\n",
              "    }\n",
              "\n",
              "    .dataframe thead th {\n",
              "        text-align: right;\n",
              "    }\n",
              "</style>\n",
              "<table border=\"1\" class=\"dataframe\">\n",
              "  <thead>\n",
              "    <tr style=\"text-align: right;\">\n",
              "      <th></th>\n",
              "      <th>Pregnancies</th>\n",
              "      <th>Glucose</th>\n",
              "      <th>BloodPressure</th>\n",
              "      <th>BMI</th>\n",
              "      <th>DiabetesPedigreeFunction</th>\n",
              "      <th>Age</th>\n",
              "    </tr>\n",
              "  </thead>\n",
              "  <tbody>\n",
              "    <tr>\n",
              "      <th>1</th>\n",
              "      <td>0</td>\n",
              "      <td>137.0</td>\n",
              "      <td>40.0</td>\n",
              "      <td>43.1</td>\n",
              "      <td>2.288</td>\n",
              "      <td>33</td>\n",
              "    </tr>\n",
              "    <tr>\n",
              "      <th>2</th>\n",
              "      <td>3</td>\n",
              "      <td>78.0</td>\n",
              "      <td>50.0</td>\n",
              "      <td>31.0</td>\n",
              "      <td>0.248</td>\n",
              "      <td>26</td>\n",
              "    </tr>\n",
              "    <tr>\n",
              "      <th>3</th>\n",
              "      <td>5</td>\n",
              "      <td>166.0</td>\n",
              "      <td>72.0</td>\n",
              "      <td>25.8</td>\n",
              "      <td>0.587</td>\n",
              "      <td>51</td>\n",
              "    </tr>\n",
              "    <tr>\n",
              "      <th>4</th>\n",
              "      <td>0</td>\n",
              "      <td>118.0</td>\n",
              "      <td>84.0</td>\n",
              "      <td>45.8</td>\n",
              "      <td>0.551</td>\n",
              "      <td>31</td>\n",
              "    </tr>\n",
              "    <tr>\n",
              "      <th>6</th>\n",
              "      <td>1</td>\n",
              "      <td>115.0</td>\n",
              "      <td>70.0</td>\n",
              "      <td>34.6</td>\n",
              "      <td>0.529</td>\n",
              "      <td>32</td>\n",
              "    </tr>\n",
              "  </tbody>\n",
              "</table>\n",
              "</div>"
            ],
            "text/plain": [
              "   Pregnancies  Glucose  BloodPressure   BMI  DiabetesPedigreeFunction  Age\n",
              "1            0    137.0           40.0  43.1                     2.288   33\n",
              "2            3     78.0           50.0  31.0                     0.248   26\n",
              "3            5    166.0           72.0  25.8                     0.587   51\n",
              "4            0    118.0           84.0  45.8                     0.551   31\n",
              "6            1    115.0           70.0  34.6                     0.529   32"
            ]
          },
          "metadata": {
            "tags": []
          },
          "execution_count": 197
        }
      ]
    },
    {
      "cell_type": "code",
      "metadata": {
        "colab": {
          "base_uri": "https://localhost:8080/",
          "height": 191
        },
        "id": "fwmmRMHyVFjN",
        "outputId": "322f3277-216e-4ae6-9284-58eb4479d6c5"
      },
      "source": [
        "People_NDiabetes=df_diabetes_new[df_diabetes_new['Outcome']==0]\n",
        "People_NDiabetes.drop(columns=['Outcome'],inplace=True)\n",
        "People_NDiabetes.head()"
      ],
      "execution_count": null,
      "outputs": [
        {
          "output_type": "execute_result",
          "data": {
            "text/html": [
              "<div>\n",
              "<style scoped>\n",
              "    .dataframe tbody tr th:only-of-type {\n",
              "        vertical-align: middle;\n",
              "    }\n",
              "\n",
              "    .dataframe tbody tr th {\n",
              "        vertical-align: top;\n",
              "    }\n",
              "\n",
              "    .dataframe thead th {\n",
              "        text-align: right;\n",
              "    }\n",
              "</style>\n",
              "<table border=\"1\" class=\"dataframe\">\n",
              "  <thead>\n",
              "    <tr style=\"text-align: right;\">\n",
              "      <th></th>\n",
              "      <th>Pregnancies</th>\n",
              "      <th>Glucose</th>\n",
              "      <th>BloodPressure</th>\n",
              "      <th>BMI</th>\n",
              "      <th>DiabetesPedigreeFunction</th>\n",
              "      <th>Age</th>\n",
              "    </tr>\n",
              "  </thead>\n",
              "  <tbody>\n",
              "    <tr>\n",
              "      <th>0</th>\n",
              "      <td>1</td>\n",
              "      <td>89.0</td>\n",
              "      <td>66.0</td>\n",
              "      <td>28.1</td>\n",
              "      <td>0.167</td>\n",
              "      <td>21</td>\n",
              "    </tr>\n",
              "    <tr>\n",
              "      <th>5</th>\n",
              "      <td>1</td>\n",
              "      <td>103.0</td>\n",
              "      <td>30.0</td>\n",
              "      <td>43.3</td>\n",
              "      <td>0.183</td>\n",
              "      <td>33</td>\n",
              "    </tr>\n",
              "    <tr>\n",
              "      <th>7</th>\n",
              "      <td>3</td>\n",
              "      <td>126.0</td>\n",
              "      <td>88.0</td>\n",
              "      <td>39.3</td>\n",
              "      <td>0.704</td>\n",
              "      <td>27</td>\n",
              "    </tr>\n",
              "    <tr>\n",
              "      <th>10</th>\n",
              "      <td>1</td>\n",
              "      <td>97.0</td>\n",
              "      <td>66.0</td>\n",
              "      <td>23.2</td>\n",
              "      <td>0.487</td>\n",
              "      <td>22</td>\n",
              "    </tr>\n",
              "    <tr>\n",
              "      <th>11</th>\n",
              "      <td>13</td>\n",
              "      <td>145.0</td>\n",
              "      <td>82.0</td>\n",
              "      <td>22.2</td>\n",
              "      <td>0.245</td>\n",
              "      <td>57</td>\n",
              "    </tr>\n",
              "  </tbody>\n",
              "</table>\n",
              "</div>"
            ],
            "text/plain": [
              "    Pregnancies  Glucose  BloodPressure   BMI  DiabetesPedigreeFunction  Age\n",
              "0             1     89.0           66.0  28.1                     0.167   21\n",
              "5             1    103.0           30.0  43.3                     0.183   33\n",
              "7             3    126.0           88.0  39.3                     0.704   27\n",
              "10            1     97.0           66.0  23.2                     0.487   22\n",
              "11           13    145.0           82.0  22.2                     0.245   57"
            ]
          },
          "metadata": {
            "tags": []
          },
          "execution_count": 198
        }
      ]
    },
    {
      "cell_type": "markdown",
      "metadata": {
        "id": "1Lr7SCc7l1oI"
      },
      "source": [
        "Clustering Methods -Choosing the appropriate parameters "
      ]
    },
    {
      "cell_type": "code",
      "metadata": {
        "colab": {
          "base_uri": "https://localhost:8080/"
        },
        "id": "AsNcffFOAmtS",
        "outputId": "9f0617fb-adcd-47d3-89fe-878c4ec8b816"
      },
      "source": [
        "!pip install -U yellowbrick"
      ],
      "execution_count": null,
      "outputs": [
        {
          "output_type": "stream",
          "text": [
            "Requirement already up-to-date: yellowbrick in /usr/local/lib/python3.7/dist-packages (1.3.post1)\n",
            "Requirement already satisfied, skipping upgrade: scipy>=1.0.0 in /usr/local/lib/python3.7/dist-packages (from yellowbrick) (1.4.1)\n",
            "Requirement already satisfied, skipping upgrade: scikit-learn>=0.20 in /usr/local/lib/python3.7/dist-packages (from yellowbrick) (0.22.2.post1)\n",
            "Requirement already satisfied, skipping upgrade: matplotlib!=3.0.0,>=2.0.2 in /usr/local/lib/python3.7/dist-packages (from yellowbrick) (3.2.2)\n",
            "Requirement already satisfied, skipping upgrade: cycler>=0.10.0 in /usr/local/lib/python3.7/dist-packages (from yellowbrick) (0.10.0)\n",
            "Requirement already satisfied, skipping upgrade: numpy<1.20,>=1.16.0 in /usr/local/lib/python3.7/dist-packages (from yellowbrick) (1.19.5)\n",
            "Requirement already satisfied, skipping upgrade: joblib>=0.11 in /usr/local/lib/python3.7/dist-packages (from scikit-learn>=0.20->yellowbrick) (1.0.1)\n",
            "Requirement already satisfied, skipping upgrade: kiwisolver>=1.0.1 in /usr/local/lib/python3.7/dist-packages (from matplotlib!=3.0.0,>=2.0.2->yellowbrick) (1.3.1)\n",
            "Requirement already satisfied, skipping upgrade: pyparsing!=2.0.4,!=2.1.2,!=2.1.6,>=2.0.1 in /usr/local/lib/python3.7/dist-packages (from matplotlib!=3.0.0,>=2.0.2->yellowbrick) (2.4.7)\n",
            "Requirement already satisfied, skipping upgrade: python-dateutil>=2.1 in /usr/local/lib/python3.7/dist-packages (from matplotlib!=3.0.0,>=2.0.2->yellowbrick) (2.8.1)\n",
            "Requirement already satisfied, skipping upgrade: six in /usr/local/lib/python3.7/dist-packages (from cycler>=0.10.0->yellowbrick) (1.15.0)\n"
          ],
          "name": "stdout"
        }
      ]
    },
    {
      "cell_type": "code",
      "metadata": {
        "colab": {
          "base_uri": "https://localhost:8080/",
          "height": 310
        },
        "id": "UGupbeHZ8XfY",
        "outputId": "60faa6b0-fdcf-4d6c-f0d4-b04541a87a82"
      },
      "source": [
        "#The number of clusters for people who have diabete\n",
        "from yellowbrick.cluster import KElbowVisualizer\n",
        "from sklearn.cluster import KMeans\n",
        "# Instantiate the clustering model and visualizer\n",
        "model = KMeans()\n",
        "visualizer = KElbowVisualizer(model, k=(2,20), metric='distortion', timings=False)\n",
        "\n",
        "visualizer.fit(People_Diabetes)        # Fit the data to the visualizer\n",
        "visualizer.show()"
      ],
      "execution_count": null,
      "outputs": [
        {
          "output_type": "display_data",
          "data": {
            "image/png": "[encoded data removed]",
            "text/plain": [
              "<Figure size 432x288 with 1 Axes>"
            ]
          },
          "metadata": {
            "tags": [],
            "needs_background": "light"
          }
        },
        {
          "output_type": "execute_result",
          "data": {
            "text/plain": [
              "<matplotlib.axes._subplots.AxesSubplot at 0x7f484a79ef90>"
            ]
          },
          "metadata": {
            "tags": []
          },
          "execution_count": 200
        }
      ]
    },
    {
      "cell_type": "markdown",
      "metadata": {
        "id": "bnJe4Rpocpit"
      },
      "source": [
        "K-means "
      ]
    },
    {
      "cell_type": "code",
      "metadata": {
        "id": "Q8H5_ojucoCU"
      },
      "source": [
        "K_People_Diabetes=KMeans(n_clusters=3)\n",
        "K_People_Diabetes = K_People_Diabetes.fit(People_Diabetes)\n",
        "y_labels_train = K_People_Diabetes.labels_"
      ],
      "execution_count": null,
      "outputs": []
    },
    {
      "cell_type": "code",
      "metadata": {
        "id": "YlHiWCtTdrcH"
      },
      "source": [
        "People_Diabetes['Outnew']=y_labels_train"
      ],
      "execution_count": null,
      "outputs": []
    },
    {
      "cell_type": "code",
      "metadata": {
        "colab": {
          "base_uri": "https://localhost:8080/",
          "height": 191
        },
        "id": "vjwL4I0jYcDr",
        "outputId": "30acbf3a-fead-4672-e11c-f204a7572863"
      },
      "source": [
        "People_Diabetes['Outnew']=People_Diabetes['Outnew'].map({0:'diab_0',1:'diab_1',2:'diab_2'})\n",
        "People_Diabetes.head()"
      ],
      "execution_count": null,
      "outputs": [
        {
          "output_type": "execute_result",
          "data": {
            "text/html": [
              "<div>\n",
              "<style scoped>\n",
              "    .dataframe tbody tr th:only-of-type {\n",
              "        vertical-align: middle;\n",
              "    }\n",
              "\n",
              "    .dataframe tbody tr th {\n",
              "        vertical-align: top;\n",
              "    }\n",
              "\n",
              "    .dataframe thead th {\n",
              "        text-align: right;\n",
              "    }\n",
              "</style>\n",
              "<table border=\"1\" class=\"dataframe\">\n",
              "  <thead>\n",
              "    <tr style=\"text-align: right;\">\n",
              "      <th></th>\n",
              "      <th>Pregnancies</th>\n",
              "      <th>Glucose</th>\n",
              "      <th>BloodPressure</th>\n",
              "      <th>BMI</th>\n",
              "      <th>DiabetesPedigreeFunction</th>\n",
              "      <th>Age</th>\n",
              "      <th>Outnew</th>\n",
              "    </tr>\n",
              "  </thead>\n",
              "  <tbody>\n",
              "    <tr>\n",
              "      <th>1</th>\n",
              "      <td>0</td>\n",
              "      <td>137.0</td>\n",
              "      <td>40.0</td>\n",
              "      <td>43.1</td>\n",
              "      <td>2.288</td>\n",
              "      <td>33</td>\n",
              "      <td>diab_1</td>\n",
              "    </tr>\n",
              "    <tr>\n",
              "      <th>2</th>\n",
              "      <td>3</td>\n",
              "      <td>78.0</td>\n",
              "      <td>50.0</td>\n",
              "      <td>31.0</td>\n",
              "      <td>0.248</td>\n",
              "      <td>26</td>\n",
              "      <td>diab_2</td>\n",
              "    </tr>\n",
              "    <tr>\n",
              "      <th>3</th>\n",
              "      <td>5</td>\n",
              "      <td>166.0</td>\n",
              "      <td>72.0</td>\n",
              "      <td>25.8</td>\n",
              "      <td>0.587</td>\n",
              "      <td>51</td>\n",
              "      <td>diab_0</td>\n",
              "    </tr>\n",
              "    <tr>\n",
              "      <th>4</th>\n",
              "      <td>0</td>\n",
              "      <td>118.0</td>\n",
              "      <td>84.0</td>\n",
              "      <td>45.8</td>\n",
              "      <td>0.551</td>\n",
              "      <td>31</td>\n",
              "      <td>diab_1</td>\n",
              "    </tr>\n",
              "    <tr>\n",
              "      <th>6</th>\n",
              "      <td>1</td>\n",
              "      <td>115.0</td>\n",
              "      <td>70.0</td>\n",
              "      <td>34.6</td>\n",
              "      <td>0.529</td>\n",
              "      <td>32</td>\n",
              "      <td>diab_2</td>\n",
              "    </tr>\n",
              "  </tbody>\n",
              "</table>\n",
              "</div>"
            ],
            "text/plain": [
              "   Pregnancies  Glucose  BloodPressure  ...  DiabetesPedigreeFunction  Age  Outnew\n",
              "1            0    137.0           40.0  ...                     2.288   33  diab_1\n",
              "2            3     78.0           50.0  ...                     0.248   26  diab_2\n",
              "3            5    166.0           72.0  ...                     0.587   51  diab_0\n",
              "4            0    118.0           84.0  ...                     0.551   31  diab_1\n",
              "6            1    115.0           70.0  ...                     0.529   32  diab_2\n",
              "\n",
              "[5 rows x 7 columns]"
            ]
          },
          "metadata": {
            "tags": []
          },
          "execution_count": 203
        }
      ]
    },
    {
      "cell_type": "code",
      "metadata": {
        "colab": {
          "base_uri": "https://localhost:8080/",
          "height": 310
        },
        "id": "3wTLa7NNV9xe",
        "outputId": "cc8823d8-f3f8-48af-d6f7-304203e44359"
      },
      "source": [
        "#The number of clusters for people who doesn't have diabete\n",
        "from yellowbrick.cluster import KElbowVisualizer\n",
        "from sklearn.cluster import KMeans\n",
        "# Instantiate the clustering model and visualizer\n",
        "model = KMeans()\n",
        "visualizer = KElbowVisualizer(model, k=(2,20), metric='distortion', timings=False)\n",
        "\n",
        "visualizer.fit(People_NDiabetes)        # Fit the data to the visualizer\n",
        "visualizer.show()"
      ],
      "execution_count": null,
      "outputs": [
        {
          "output_type": "display_data",
          "data": {
            "image/png": "[encoded data removed]",
            "text/plain": [
              "<Figure size 432x288 with 1 Axes>"
            ]
          },
          "metadata": {
            "tags": [],
            "needs_background": "light"
          }
        },
        {
          "output_type": "execute_result",
          "data": {
            "text/plain": [
              "<matplotlib.axes._subplots.AxesSubplot at 0x7f4855dd7b10>"
            ]
          },
          "metadata": {
            "tags": []
          },
          "execution_count": 204
        }
      ]
    },
    {
      "cell_type": "code",
      "metadata": {
        "id": "4VQsHzz3ZGN_"
      },
      "source": [
        "K_People_NDiabetes=KMeans(n_clusters=3)\n",
        "K_People_NDiabetes = K_People_NDiabetes.fit(People_NDiabetes)\n",
        "y_labels_train = K_People_NDiabetes.labels_"
      ],
      "execution_count": null,
      "outputs": []
    },
    {
      "cell_type": "code",
      "metadata": {
        "id": "V-HflriYZWn-"
      },
      "source": [
        "People_NDiabetes['Outnew']=y_labels_train"
      ],
      "execution_count": null,
      "outputs": []
    },
    {
      "cell_type": "code",
      "metadata": {
        "colab": {
          "base_uri": "https://localhost:8080/",
          "height": 191
        },
        "id": "bjrv7ZH4ZW23",
        "outputId": "4fdae873-8dee-4b54-92ae-ed72f1596cd2"
      },
      "source": [
        "People_NDiabetes['Outnew']=People_NDiabetes['Outnew'].map({0:'Ndiab_0',1:'Ndiab_1',2:'Ndiab_2'})\n",
        "People_NDiabetes.head()"
      ],
      "execution_count": null,
      "outputs": [
        {
          "output_type": "execute_result",
          "data": {
            "text/html": [
              "<div>\n",
              "<style scoped>\n",
              "    .dataframe tbody tr th:only-of-type {\n",
              "        vertical-align: middle;\n",
              "    }\n",
              "\n",
              "    .dataframe tbody tr th {\n",
              "        vertical-align: top;\n",
              "    }\n",
              "\n",
              "    .dataframe thead th {\n",
              "        text-align: right;\n",
              "    }\n",
              "</style>\n",
              "<table border=\"1\" class=\"dataframe\">\n",
              "  <thead>\n",
              "    <tr style=\"text-align: right;\">\n",
              "      <th></th>\n",
              "      <th>Pregnancies</th>\n",
              "      <th>Glucose</th>\n",
              "      <th>BloodPressure</th>\n",
              "      <th>BMI</th>\n",
              "      <th>DiabetesPedigreeFunction</th>\n",
              "      <th>Age</th>\n",
              "      <th>Outnew</th>\n",
              "    </tr>\n",
              "  </thead>\n",
              "  <tbody>\n",
              "    <tr>\n",
              "      <th>0</th>\n",
              "      <td>1</td>\n",
              "      <td>89.0</td>\n",
              "      <td>66.0</td>\n",
              "      <td>28.1</td>\n",
              "      <td>0.167</td>\n",
              "      <td>21</td>\n",
              "      <td>Ndiab_0</td>\n",
              "    </tr>\n",
              "    <tr>\n",
              "      <th>5</th>\n",
              "      <td>1</td>\n",
              "      <td>103.0</td>\n",
              "      <td>30.0</td>\n",
              "      <td>43.3</td>\n",
              "      <td>0.183</td>\n",
              "      <td>33</td>\n",
              "      <td>Ndiab_0</td>\n",
              "    </tr>\n",
              "    <tr>\n",
              "      <th>7</th>\n",
              "      <td>3</td>\n",
              "      <td>126.0</td>\n",
              "      <td>88.0</td>\n",
              "      <td>39.3</td>\n",
              "      <td>0.704</td>\n",
              "      <td>27</td>\n",
              "      <td>Ndiab_2</td>\n",
              "    </tr>\n",
              "    <tr>\n",
              "      <th>10</th>\n",
              "      <td>1</td>\n",
              "      <td>97.0</td>\n",
              "      <td>66.0</td>\n",
              "      <td>23.2</td>\n",
              "      <td>0.487</td>\n",
              "      <td>22</td>\n",
              "      <td>Ndiab_0</td>\n",
              "    </tr>\n",
              "    <tr>\n",
              "      <th>11</th>\n",
              "      <td>13</td>\n",
              "      <td>145.0</td>\n",
              "      <td>82.0</td>\n",
              "      <td>22.2</td>\n",
              "      <td>0.245</td>\n",
              "      <td>57</td>\n",
              "      <td>Ndiab_1</td>\n",
              "    </tr>\n",
              "  </tbody>\n",
              "</table>\n",
              "</div>"
            ],
            "text/plain": [
              "    Pregnancies  Glucose  BloodPressure  ...  DiabetesPedigreeFunction  Age   Outnew\n",
              "0             1     89.0           66.0  ...                     0.167   21  Ndiab_0\n",
              "5             1    103.0           30.0  ...                     0.183   33  Ndiab_0\n",
              "7             3    126.0           88.0  ...                     0.704   27  Ndiab_2\n",
              "10            1     97.0           66.0  ...                     0.487   22  Ndiab_0\n",
              "11           13    145.0           82.0  ...                     0.245   57  Ndiab_1\n",
              "\n",
              "[5 rows x 7 columns]"
            ]
          },
          "metadata": {
            "tags": []
          },
          "execution_count": 207
        }
      ]
    },
    {
      "cell_type": "code",
      "metadata": {
        "colab": {
          "base_uri": "https://localhost:8080/",
          "height": 191
        },
        "id": "z5FRgND6bII2",
        "outputId": "29c113ca-1fdb-4e75-87d5-c5e4f0ded013"
      },
      "source": [
        "df_final=pd.concat([People_Diabetes, People_NDiabetes],ignore_index=False)\n",
        "df_final.sort_index(inplace=True)\n",
        "df_final.head()"
      ],
      "execution_count": null,
      "outputs": [
        {
          "output_type": "execute_result",
          "data": {
            "text/html": [
              "<div>\n",
              "<style scoped>\n",
              "    .dataframe tbody tr th:only-of-type {\n",
              "        vertical-align: middle;\n",
              "    }\n",
              "\n",
              "    .dataframe tbody tr th {\n",
              "        vertical-align: top;\n",
              "    }\n",
              "\n",
              "    .dataframe thead th {\n",
              "        text-align: right;\n",
              "    }\n",
              "</style>\n",
              "<table border=\"1\" class=\"dataframe\">\n",
              "  <thead>\n",
              "    <tr style=\"text-align: right;\">\n",
              "      <th></th>\n",
              "      <th>Pregnancies</th>\n",
              "      <th>Glucose</th>\n",
              "      <th>BloodPressure</th>\n",
              "      <th>BMI</th>\n",
              "      <th>DiabetesPedigreeFunction</th>\n",
              "      <th>Age</th>\n",
              "      <th>Outnew</th>\n",
              "    </tr>\n",
              "  </thead>\n",
              "  <tbody>\n",
              "    <tr>\n",
              "      <th>0</th>\n",
              "      <td>1</td>\n",
              "      <td>89.0</td>\n",
              "      <td>66.0</td>\n",
              "      <td>28.1</td>\n",
              "      <td>0.167</td>\n",
              "      <td>21</td>\n",
              "      <td>Ndiab_0</td>\n",
              "    </tr>\n",
              "    <tr>\n",
              "      <th>1</th>\n",
              "      <td>0</td>\n",
              "      <td>137.0</td>\n",
              "      <td>40.0</td>\n",
              "      <td>43.1</td>\n",
              "      <td>2.288</td>\n",
              "      <td>33</td>\n",
              "      <td>diab_1</td>\n",
              "    </tr>\n",
              "    <tr>\n",
              "      <th>2</th>\n",
              "      <td>3</td>\n",
              "      <td>78.0</td>\n",
              "      <td>50.0</td>\n",
              "      <td>31.0</td>\n",
              "      <td>0.248</td>\n",
              "      <td>26</td>\n",
              "      <td>diab_2</td>\n",
              "    </tr>\n",
              "    <tr>\n",
              "      <th>3</th>\n",
              "      <td>5</td>\n",
              "      <td>166.0</td>\n",
              "      <td>72.0</td>\n",
              "      <td>25.8</td>\n",
              "      <td>0.587</td>\n",
              "      <td>51</td>\n",
              "      <td>diab_0</td>\n",
              "    </tr>\n",
              "    <tr>\n",
              "      <th>4</th>\n",
              "      <td>0</td>\n",
              "      <td>118.0</td>\n",
              "      <td>84.0</td>\n",
              "      <td>45.8</td>\n",
              "      <td>0.551</td>\n",
              "      <td>31</td>\n",
              "      <td>diab_1</td>\n",
              "    </tr>\n",
              "  </tbody>\n",
              "</table>\n",
              "</div>"
            ],
            "text/plain": [
              "   Pregnancies  Glucose  BloodPressure  ...  DiabetesPedigreeFunction  Age   Outnew\n",
              "0            1     89.0           66.0  ...                     0.167   21  Ndiab_0\n",
              "1            0    137.0           40.0  ...                     2.288   33   diab_1\n",
              "2            3     78.0           50.0  ...                     0.248   26   diab_2\n",
              "3            5    166.0           72.0  ...                     0.587   51   diab_0\n",
              "4            0    118.0           84.0  ...                     0.551   31   diab_1\n",
              "\n",
              "[5 rows x 7 columns]"
            ]
          },
          "metadata": {
            "tags": []
          },
          "execution_count": 208
        }
      ]
    },
    {
      "cell_type": "code",
      "metadata": {
        "colab": {
          "base_uri": "https://localhost:8080/",
          "height": 191
        },
        "id": "l1aCU1bjeSwV",
        "outputId": "f87804e6-12cf-4d87-add7-eadcab7e6436"
      },
      "source": [
        "df_final['Outnew']=df_final['Outnew'].map({'Ndiab_0':0,'Ndiab_1':1,'Ndiab_2':2,'diab_0':5,'diab_1':6,'diab_2':7})\n",
        "df_final.head()"
      ],
      "execution_count": null,
      "outputs": [
        {
          "output_type": "execute_result",
          "data": {
            "text/html": [
              "<div>\n",
              "<style scoped>\n",
              "    .dataframe tbody tr th:only-of-type {\n",
              "        vertical-align: middle;\n",
              "    }\n",
              "\n",
              "    .dataframe tbody tr th {\n",
              "        vertical-align: top;\n",
              "    }\n",
              "\n",
              "    .dataframe thead th {\n",
              "        text-align: right;\n",
              "    }\n",
              "</style>\n",
              "<table border=\"1\" class=\"dataframe\">\n",
              "  <thead>\n",
              "    <tr style=\"text-align: right;\">\n",
              "      <th></th>\n",
              "      <th>Pregnancies</th>\n",
              "      <th>Glucose</th>\n",
              "      <th>BloodPressure</th>\n",
              "      <th>BMI</th>\n",
              "      <th>DiabetesPedigreeFunction</th>\n",
              "      <th>Age</th>\n",
              "      <th>Outnew</th>\n",
              "    </tr>\n",
              "  </thead>\n",
              "  <tbody>\n",
              "    <tr>\n",
              "      <th>0</th>\n",
              "      <td>1</td>\n",
              "      <td>89.0</td>\n",
              "      <td>66.0</td>\n",
              "      <td>28.1</td>\n",
              "      <td>0.167</td>\n",
              "      <td>21</td>\n",
              "      <td>0</td>\n",
              "    </tr>\n",
              "    <tr>\n",
              "      <th>1</th>\n",
              "      <td>0</td>\n",
              "      <td>137.0</td>\n",
              "      <td>40.0</td>\n",
              "      <td>43.1</td>\n",
              "      <td>2.288</td>\n",
              "      <td>33</td>\n",
              "      <td>6</td>\n",
              "    </tr>\n",
              "    <tr>\n",
              "      <th>2</th>\n",
              "      <td>3</td>\n",
              "      <td>78.0</td>\n",
              "      <td>50.0</td>\n",
              "      <td>31.0</td>\n",
              "      <td>0.248</td>\n",
              "      <td>26</td>\n",
              "      <td>7</td>\n",
              "    </tr>\n",
              "    <tr>\n",
              "      <th>3</th>\n",
              "      <td>5</td>\n",
              "      <td>166.0</td>\n",
              "      <td>72.0</td>\n",
              "      <td>25.8</td>\n",
              "      <td>0.587</td>\n",
              "      <td>51</td>\n",
              "      <td>5</td>\n",
              "    </tr>\n",
              "    <tr>\n",
              "      <th>4</th>\n",
              "      <td>0</td>\n",
              "      <td>118.0</td>\n",
              "      <td>84.0</td>\n",
              "      <td>45.8</td>\n",
              "      <td>0.551</td>\n",
              "      <td>31</td>\n",
              "      <td>6</td>\n",
              "    </tr>\n",
              "  </tbody>\n",
              "</table>\n",
              "</div>"
            ],
            "text/plain": [
              "   Pregnancies  Glucose  BloodPressure  ...  DiabetesPedigreeFunction  Age  Outnew\n",
              "0            1     89.0           66.0  ...                     0.167   21       0\n",
              "1            0    137.0           40.0  ...                     2.288   33       6\n",
              "2            3     78.0           50.0  ...                     0.248   26       7\n",
              "3            5    166.0           72.0  ...                     0.587   51       5\n",
              "4            0    118.0           84.0  ...                     0.551   31       6\n",
              "\n",
              "[5 rows x 7 columns]"
            ]
          },
          "metadata": {
            "tags": []
          },
          "execution_count": 209
        }
      ]
    },
    {
      "cell_type": "code",
      "metadata": {
        "id": "bn2RKd1khv78"
      },
      "source": [
        "X_multiclass=df_final.iloc[:, :-1].values\n",
        "y_multiclass = df_final[\"Outnew\"].values\n",
        "X_multiclass_train, X_multiclass_test, y_multiclass_train, y_multiclass_test = train_test_split(X_multiclass, y_multiclass, test_size=0.1, random_state=11111)"
      ],
      "execution_count": null,
      "outputs": []
    },
    {
      "cell_type": "code",
      "metadata": {
        "id": "DKYZKUIAiVbK"
      },
      "source": [
        "#Normalisation des données \n",
        "normalizer = StandardScaler()\n",
        "X_multiclass_train_norm = normalizer.fit_transform(X_multiclass_train)\n",
        "X_multiclass_test_norm = normalizer.transform(X_multiclass_test)"
      ],
      "execution_count": null,
      "outputs": []
    },
    {
      "cell_type": "code",
      "metadata": {
        "id": "KZYnJNh9ixaO"
      },
      "source": [
        "#Testing with SVM"
      ],
      "execution_count": null,
      "outputs": []
    },
    {
      "cell_type": "code",
      "metadata": {
        "colab": {
          "base_uri": "https://localhost:8080/"
        },
        "id": "MrvJDbvyi2_9",
        "outputId": "ec2f4ca2-6721-4910-ece9-9388eda1a2b9"
      },
      "source": [
        "#Training the SVM Model with encoded features\n",
        "from sklearn.svm import SVC\n",
        "\n",
        "clf = SVC(kernel = 'sigmoid', C =1)\n",
        "clf.fit(X_multiclass_train_norm, y_multiclass_train)"
      ],
      "execution_count": null,
      "outputs": [
        {
          "output_type": "execute_result",
          "data": {
            "text/plain": [
              "SVC(C=1, break_ties=False, cache_size=200, class_weight=None, coef0=0.0,\n",
              "    decision_function_shape='ovr', degree=3, gamma='scale', kernel='sigmoid',\n",
              "    max_iter=-1, probability=False, random_state=None, shrinking=True,\n",
              "    tol=0.001, verbose=False)"
            ]
          },
          "metadata": {
            "tags": []
          },
          "execution_count": 213
        }
      ]
    },
    {
      "cell_type": "code",
      "metadata": {
        "colab": {
          "base_uri": "https://localhost:8080/"
        },
        "id": "dp0YTBWSjDue",
        "outputId": "53ba69c8-dd45-4cc6-8592-15912a3c91cd"
      },
      "source": [
        "y_pred_class_SVM_n = clf.predict(X_multiclass_test_norm)\n",
        "print('accuracy is {:.3f}'.format(accuracy_score(y_multiclass_test,y_pred_class_SVM_n)))"
      ],
      "execution_count": null,
      "outputs": [
        {
          "output_type": "stream",
          "text": [
            "accuracy is 0.757\n"
          ],
          "name": "stdout"
        }
      ]
    },
    {
      "cell_type": "markdown",
      "metadata": {
        "id": "tKkgNptRn8ut"
      },
      "source": [
        "Visualisation of clusters"
      ]
    },
    {
      "cell_type": "code",
      "metadata": {
        "id": "vRyYURrpoyW6"
      },
      "source": [
        "from sklearn.decomposition import PCA\n",
        "pca_diabetes = PCA(n_components=2)\n",
        "principalComponents_diabetes = pca_diabetes.fit_transform(X_new_train_norm)"
      ],
      "execution_count": null,
      "outputs": []
    },
    {
      "cell_type": "code",
      "metadata": {
        "id": "IlOcUpvoo9H8"
      },
      "source": [
        "#Ploting the clusters \n",
        "#plt.scatter(principalComponents_diabetes[K_meanse.labels_==0,0],principalComponents_diabetes[K_meanse.labels_==0,1],s=50,color='red')\n",
        "#plt.scatter(principalComponents_diabetes[K_meanse.labels_==1,0],principalComponents_diabetes[K_meanse.labels_==1,1],s=50,color='blue')\n",
        "#plt.scatter(principalComponents_diabetes[K_meanse.labels_==2,0],principalComponents_diabetes[K_meanse.labels_==2,1],s=50,color='yellow')\n",
        "#plt.scatter(principalComponents_diabetes[K_meanse.labels_==3,0],principalComponents_diabetes[K_meanse.labels_==3,1],s=50,color='cyan')\n",
        "#plt.scatter(principalComponents_diabetes[K_meanse.labels_==4,0],principalComponents_diabetes[K_meanse.labels_==4,1],s=50,color='green')\n",
        "#plt.scatter(principalComponents_diabetes[K_meanse.labels_==5,0],principalComponents_diabetes[K_meanse.labels_==5,1],s=50,color='orange')\n",
        "#plt.scatter(principalComponents_diabetes[K_meanse.labels_==6,0],principalComponents_diabetes[K_meanse.labels_==6,1],s=50,color='pink')\n",
        "#plt.scatter(principalComponents_diabetes[K_meanse.labels_==7,0],principalComponents_diabetes[K_meanse.labels_==7,1],s=50,color='purple')\n"
      ],
      "execution_count": null,
      "outputs": []
    },
    {
      "cell_type": "markdown",
      "metadata": {
        "id": "Ng5T3IOxZidL"
      },
      "source": [
        "Classification"
      ]
    },
    {
      "cell_type": "markdown",
      "metadata": {
        "id": "eyhK75s3A7FC"
      },
      "source": [
        "Using K-mean as new Class for our classifier model"
      ]
    },
    {
      "cell_type": "code",
      "metadata": {
        "id": "0uy9ibpEePr_"
      },
      "source": [
        "#df_train_norm=pd.DataFrame(X_new_train_norm,columns=df_diabetes_new.columns[:-1])\n",
        "#df_train_norm['y_kmeas_train']=y_labels_train\n",
        "#df_train_norm.head()"
      ],
      "execution_count": null,
      "outputs": []
    },
    {
      "cell_type": "code",
      "metadata": {
        "id": "PpZy-0K9Ytz3"
      },
      "source": [
        "#df_test_norm=pd.DataFrame(X_new_test_norm,columns=df_diabetes_new.columns[:-1])\n",
        "#df_test_norm['df_test_norm']=y_labels_test\n",
        "#df_test_norm.head()"
      ],
      "execution_count": null,
      "outputs": []
    },
    {
      "cell_type": "markdown",
      "metadata": {
        "id": "EnD0ZERdBs1I"
      },
      "source": [
        "Classification with new classes Obtained with K-Means"
      ]
    },
    {
      "cell_type": "code",
      "metadata": {
        "id": "3PxeF9YYBree"
      },
      "source": [
        "#Training the SVM Model with encoded features\n",
        "#from sklearn.svm import SVC\n",
        "#clf = SVC(kernel = 'sigmoid', C =1000, gamma = 0.0001 )\n",
        "#clf.fit(df_train_norm, y_labels_train)"
      ],
      "execution_count": null,
      "outputs": []
    },
    {
      "cell_type": "code",
      "metadata": {
        "id": "Yq5vVO9tB2lO"
      },
      "source": [
        "#y_pred_class_SVM_n = clf.predict(df_test_norm)\n",
        "#print('accuracy is {:.3f}'.format(accuracy_score(y_labels_test,y_pred_class_SVM_n)))"
      ],
      "execution_count": null,
      "outputs": []
    },
    {
      "cell_type": "markdown",
      "metadata": {
        "id": "H8vOvyMDI2HR"
      },
      "source": [
        "GridSearch For Estimating the parameters of the Model "
      ]
    },
    {
      "cell_type": "code",
      "metadata": {
        "id": "SiprvBfYdPVE"
      },
      "source": [
        "#from sklearn.model_selection import GridSearchCV\n",
        "  \n",
        "# defining parameter range\n",
        "#param_grid = {'C': [0.1, 1, 10, 100, 1000], \n",
        "             # 'gamma': [1, 0.1, 0.01, 0.09, 0.0001],\n",
        "             # 'kernel': ['rbf','sigmoid']} \n",
        "              \n",
        "#grid = GridSearchCV(SVC(), param_grid, refit = True, verbose = 3)\n",
        "  \n",
        "# fitting the model for grid search\n",
        "#grid.fit(df_train_norm, y_train)"
      ],
      "execution_count": null,
      "outputs": []
    },
    {
      "cell_type": "code",
      "metadata": {
        "id": "HQ9zDh1wghzv"
      },
      "source": [
        "# print best parameter after tuning\n",
        "#print(grid.best_params_)\n",
        "  \n",
        "# print how our model looks after hyper-parameter tuning\n",
        "#print(grid.best_estimator_)"
      ],
      "execution_count": null,
      "outputs": []
    },
    {
      "cell_type": "code",
      "metadata": {
        "id": "Ccb7YBvFjsNC"
      },
      "source": [
        "#df_result_gridSearch=pd.DataFrame(grid.cv_results_)\n",
        "#df_result_gridSearch[['param_C','param_gamma','param_kernel','mean_test_score']]"
      ],
      "execution_count": null,
      "outputs": []
    },
    {
      "cell_type": "markdown",
      "metadata": {
        "id": "-gu8D9q3VT5V"
      },
      "source": [
        "Decison Tree"
      ]
    },
    {
      "cell_type": "code",
      "metadata": {
        "colab": {
          "base_uri": "https://localhost:8080/"
        },
        "id": "ShWUYdUMR0Hh",
        "outputId": "877d775a-e93e-4da0-8288-64d329e15d8d"
      },
      "source": [
        "#Try decision Tree ! \n",
        "from sklearn.tree import DecisionTreeClassifier\n",
        "# Create Decision Tree classifer object\n",
        "clf = DecisionTreeClassifier(criterion=\"entropy\", max_depth=3)\n",
        "\n",
        "# Train Decision Tree Classifer\n",
        "clf = clf.fit(X_train_d, y_train_d)\n",
        "\n",
        "#Predict the response for test dataset\n",
        "y_pred = clf.predict(X_test_d)\n",
        "print(\"Accuracy:\",accuracy_score(y_test_d, y_pred))"
      ],
      "execution_count": null,
      "outputs": [
        {
          "output_type": "stream",
          "text": [
            "Accuracy: 0.7837837837837838\n"
          ],
          "name": "stdout"
        }
      ]
    },
    {
      "cell_type": "code",
      "metadata": {
        "colab": {
          "base_uri": "https://localhost:8080/"
        },
        "id": "MtKmNIN-SaDa",
        "outputId": "b838152c-7eae-4c2a-8148-42a1448fe3bb"
      },
      "source": [
        "!pip install graphviz"
      ],
      "execution_count": null,
      "outputs": [
        {
          "output_type": "stream",
          "text": [
            "Requirement already satisfied: graphviz in /usr/local/lib/python3.7/dist-packages (0.10.1)\n"
          ],
          "name": "stdout"
        }
      ]
    },
    {
      "cell_type": "code",
      "metadata": {
        "colab": {
          "base_uri": "https://localhost:8080/",
          "height": 537
        },
        "id": "B4juT4CfSfAM",
        "outputId": "f29bc610-9d6a-4fbd-f095-d3520ebf0421"
      },
      "source": [
        "from sklearn.tree import export_graphviz\n",
        "from sklearn.externals.six import StringIO  \n",
        "from IPython.display import Image  \n",
        "import pydotplus\n",
        "\n",
        "dot_data = StringIO()\n",
        "data_cols=['pregnant', 'glucose', 'bp', 'bmi', 'pedigree', 'age']\n",
        "export_graphviz(clf, out_file=dot_data,  \n",
        "                filled=True, rounded=True,\n",
        "                special_characters=True,feature_names = data_cols,class_names=['0','1'])\n",
        "graph = pydotplus.graph_from_dot_data(dot_data.getvalue())  \n",
        "graph.write_png('diabetes.png')\n",
        "Image(graph.create_png())"
      ],
      "execution_count": null,
      "outputs": [
        {
          "output_type": "execute_result",
          "data": {
            "image/png": "[encoded data removed]",
            "text/plain": [
              "<IPython.core.display.Image object>"
            ]
          },
          "metadata": {
            "tags": []
          },
          "execution_count": 226
        }
      ]
    },
    {
      "cell_type": "markdown",
      "metadata": {
        "id": "_JMua7rzc4-Z"
      },
      "source": [
        "Association rule mining "
      ]
    },
    {
      "cell_type": "code",
      "metadata": {
        "colab": {
          "base_uri": "https://localhost:8080/"
        },
        "id": "Dprx7ldyfC_p",
        "outputId": "095cc8b9-c0b5-4762-a1d2-895efea0e7a3"
      },
      "source": [
        "!pip install apyori"
      ],
      "execution_count": null,
      "outputs": [
        {
          "output_type": "stream",
          "text": [
            "Requirement already satisfied: apyori in /usr/local/lib/python3.7/dist-packages (1.1.2)\n"
          ],
          "name": "stdout"
        }
      ]
    },
    {
      "cell_type": "markdown",
      "metadata": {
        "id": "0ZaamdVxekd6"
      },
      "source": [
        "Change Continues Variables to Categorical Variables "
      ]
    },
    {
      "cell_type": "code",
      "metadata": {
        "colab": {
          "base_uri": "https://localhost:8080/",
          "height": 105
        },
        "id": "AKH1-Iexew4y",
        "outputId": "42207452-a5d3-4cc3-b081-51affc52ecf8"
      },
      "source": [
        "# Seee the ranges of each variables \n",
        "def minMax(x):\n",
        "    return pd.Series(index=['min','max'],data=[x.min(),x.max()])\n",
        "\n",
        "\n",
        "diabetes_df.apply(minMax)"
      ],
      "execution_count": null,
      "outputs": [
        {
          "output_type": "execute_result",
          "data": {
            "text/html": [
              "<div>\n",
              "<style scoped>\n",
              "    .dataframe tbody tr th:only-of-type {\n",
              "        vertical-align: middle;\n",
              "    }\n",
              "\n",
              "    .dataframe tbody tr th {\n",
              "        vertical-align: top;\n",
              "    }\n",
              "\n",
              "    .dataframe thead th {\n",
              "        text-align: right;\n",
              "    }\n",
              "</style>\n",
              "<table border=\"1\" class=\"dataframe\">\n",
              "  <thead>\n",
              "    <tr style=\"text-align: right;\">\n",
              "      <th></th>\n",
              "      <th>Pregnancies</th>\n",
              "      <th>Glucose</th>\n",
              "      <th>BloodPressure</th>\n",
              "      <th>SkinThickness</th>\n",
              "      <th>Insulin</th>\n",
              "      <th>BMI</th>\n",
              "      <th>DiabetesPedigreeFunction</th>\n",
              "      <th>Age</th>\n",
              "      <th>Outcome</th>\n",
              "    </tr>\n",
              "  </thead>\n",
              "  <tbody>\n",
              "    <tr>\n",
              "      <th>min</th>\n",
              "      <td>0</td>\n",
              "      <td>56.0</td>\n",
              "      <td>24.0</td>\n",
              "      <td>7.0</td>\n",
              "      <td>14.0</td>\n",
              "      <td>18.2</td>\n",
              "      <td>0.085</td>\n",
              "      <td>21</td>\n",
              "      <td>0</td>\n",
              "    </tr>\n",
              "    <tr>\n",
              "      <th>max</th>\n",
              "      <td>17</td>\n",
              "      <td>198.0</td>\n",
              "      <td>110.0</td>\n",
              "      <td>63.0</td>\n",
              "      <td>335.0</td>\n",
              "      <td>67.1</td>\n",
              "      <td>2.420</td>\n",
              "      <td>81</td>\n",
              "      <td>1</td>\n",
              "    </tr>\n",
              "  </tbody>\n",
              "</table>\n",
              "</div>"
            ],
            "text/plain": [
              "     Pregnancies  Glucose  ...  Age  Outcome\n",
              "min            0     56.0  ...   21        0\n",
              "max           17    198.0  ...   81        1\n",
              "\n",
              "[2 rows x 9 columns]"
            ]
          },
          "metadata": {
            "tags": []
          },
          "execution_count": 228
        }
      ]
    },
    {
      "cell_type": "code",
      "metadata": {
        "id": "h1t4LFeV1APR"
      },
      "source": [
        "diabetes_df_O=diabetes_df.copy()"
      ],
      "execution_count": null,
      "outputs": []
    },
    {
      "cell_type": "markdown",
      "metadata": {
        "id": "p6iZXZyzlZkI"
      },
      "source": [
        "Pregnant: low (1,2), medium (3,4,5), high (> 6) \n",
        "Plasma–Glucose: low (< 90), medium (90–150), \n",
        "high (> 150) \n",
        "Diastolic-BP: normal (< 80), Prehypertension (80–89), \n",
        "high (> 90) \n",
        "BMI: low (< 25), normal (25–30), obese (30–35), severely \n",
        "obese (> 35) \n",
        "Age: 20–39(young), 40–59(medium), 60 plus (high) \n",
        "DiabetesPedigreeFunctioN: low(<0.92) ,meduim(0.93 -1.755) ,high >1.176\n",
        "Insulin : low(<142 ) ,meduim (142-270) , high (271 >)\n",
        "Class: yes (1), no (0) \n"
      ]
    },
    {
      "cell_type": "code",
      "metadata": {
        "id": "mq0LQJ2vtH6D"
      },
      "source": [
        "df_diabetes_new['Pregnancies']=pd.cut(df_diabetes_new.Pregnancies,bins=[-1,2,5,17],labels=['Pregnant_Low','Pregnant_Medium','Pregnant_High'])\n",
        "\n",
        "df_diabetes_new['Glucose']=pd.cut(df_diabetes_new.Glucose,bins=[-1,89,150,199],labels=['Glucose_Low','Glucose_Medium','Glucose_High'])\n",
        "\n",
        "df_diabetes_new['BloodPressure']=pd.cut(df_diabetes_new.BloodPressure,bins=[-1,80,90,111],labels=['BloodPressure_Normal','BloodPressure_Prehypertension','BloodPressure_High'])\n",
        "\n",
        "df_diabetes_new['BMI']=pd.cut(df_diabetes_new.BMI,bins=[-1,24,30,35,68],labels=['BMI_Low','BMI_Normal','BMI_Obese','BMI_Severly_Obese'])\n",
        "\n",
        "df_diabetes_new['DiabetesPedigreeFunction']=pd.cut(df_diabetes_new.DiabetesPedigreeFunction,bins=[-1,0.39,0.8,2.42],labels=['DPF_Low','DPF_Medium','DPF_High'])\n",
        "\n",
        "#diabetes_df['Insulin']=pd.cut(diabetes_df.Insulin,bins=[-1,141,270,370.0],labels=['Insulin_Low','Insulin_Medium','Insulin_High'])\n",
        "\n",
        "#diabetes_df['SkinThickness']=pd.cut(diabetes_df.SkinThickness,bins=[-1,30,54,64],labels=['SkinThickness_Low','SkinThickness_Medium','SkinThickness_High'])\n",
        "\n",
        "df_diabetes_new['Age']=pd.cut(df_diabetes_new.Age,bins=[19,39,59,81],labels=['Young','Medium_age','Old'])\n",
        "\n",
        "df_diabetes_new['Outcome']=pd.cut(df_diabetes_new.Outcome,bins=[-1,0,2],labels=['No_Diabetes','Yes_Diabetes'])"
      ],
      "execution_count": null,
      "outputs": []
    },
    {
      "cell_type": "code",
      "metadata": {
        "colab": {
          "base_uri": "https://localhost:8080/",
          "height": 191
        },
        "id": "Iw9Sg23T0l-B",
        "outputId": "8b9b3854-9fb1-43ea-871c-ae3a89edc7c0"
      },
      "source": [
        "df_diabetes_new=df_diabetes_new.reset_index(drop=True)\n",
        "df_diabetes_new.head()"
      ],
      "execution_count": null,
      "outputs": [
        {
          "output_type": "execute_result",
          "data": {
            "text/html": [
              "<div>\n",
              "<style scoped>\n",
              "    .dataframe tbody tr th:only-of-type {\n",
              "        vertical-align: middle;\n",
              "    }\n",
              "\n",
              "    .dataframe tbody tr th {\n",
              "        vertical-align: top;\n",
              "    }\n",
              "\n",
              "    .dataframe thead th {\n",
              "        text-align: right;\n",
              "    }\n",
              "</style>\n",
              "<table border=\"1\" class=\"dataframe\">\n",
              "  <thead>\n",
              "    <tr style=\"text-align: right;\">\n",
              "      <th></th>\n",
              "      <th>Pregnancies</th>\n",
              "      <th>Glucose</th>\n",
              "      <th>BloodPressure</th>\n",
              "      <th>BMI</th>\n",
              "      <th>DiabetesPedigreeFunction</th>\n",
              "      <th>Age</th>\n",
              "      <th>Outcome</th>\n",
              "    </tr>\n",
              "  </thead>\n",
              "  <tbody>\n",
              "    <tr>\n",
              "      <th>0</th>\n",
              "      <td>Pregnant_Low</td>\n",
              "      <td>Glucose_Low</td>\n",
              "      <td>BloodPressure_Normal</td>\n",
              "      <td>BMI_Normal</td>\n",
              "      <td>DPF_Low</td>\n",
              "      <td>Young</td>\n",
              "      <td>No_Diabetes</td>\n",
              "    </tr>\n",
              "    <tr>\n",
              "      <th>1</th>\n",
              "      <td>Pregnant_Low</td>\n",
              "      <td>Glucose_Medium</td>\n",
              "      <td>BloodPressure_Normal</td>\n",
              "      <td>BMI_Severly_Obese</td>\n",
              "      <td>DPF_High</td>\n",
              "      <td>Young</td>\n",
              "      <td>Yes_Diabetes</td>\n",
              "    </tr>\n",
              "    <tr>\n",
              "      <th>2</th>\n",
              "      <td>Pregnant_Medium</td>\n",
              "      <td>Glucose_Low</td>\n",
              "      <td>BloodPressure_Normal</td>\n",
              "      <td>BMI_Obese</td>\n",
              "      <td>DPF_Low</td>\n",
              "      <td>Young</td>\n",
              "      <td>Yes_Diabetes</td>\n",
              "    </tr>\n",
              "    <tr>\n",
              "      <th>3</th>\n",
              "      <td>Pregnant_Medium</td>\n",
              "      <td>Glucose_High</td>\n",
              "      <td>BloodPressure_Normal</td>\n",
              "      <td>BMI_Normal</td>\n",
              "      <td>DPF_Medium</td>\n",
              "      <td>Medium_age</td>\n",
              "      <td>Yes_Diabetes</td>\n",
              "    </tr>\n",
              "    <tr>\n",
              "      <th>4</th>\n",
              "      <td>Pregnant_Low</td>\n",
              "      <td>Glucose_Medium</td>\n",
              "      <td>BloodPressure_Prehypertension</td>\n",
              "      <td>BMI_Severly_Obese</td>\n",
              "      <td>DPF_Medium</td>\n",
              "      <td>Young</td>\n",
              "      <td>Yes_Diabetes</td>\n",
              "    </tr>\n",
              "  </tbody>\n",
              "</table>\n",
              "</div>"
            ],
            "text/plain": [
              "       Pregnancies         Glucose  ...         Age       Outcome\n",
              "0     Pregnant_Low     Glucose_Low  ...       Young   No_Diabetes\n",
              "1     Pregnant_Low  Glucose_Medium  ...       Young  Yes_Diabetes\n",
              "2  Pregnant_Medium     Glucose_Low  ...       Young  Yes_Diabetes\n",
              "3  Pregnant_Medium    Glucose_High  ...  Medium_age  Yes_Diabetes\n",
              "4     Pregnant_Low  Glucose_Medium  ...       Young  Yes_Diabetes\n",
              "\n",
              "[5 rows x 7 columns]"
            ]
          },
          "metadata": {
            "tags": []
          },
          "execution_count": 231
        }
      ]
    },
    {
      "cell_type": "code",
      "metadata": {
        "id": "4qwT1zbBc_3s"
      },
      "source": [
        "from apyori import apriori\n",
        "\n",
        "l=df_diabetes_new.shape[0]\n",
        "c=df_diabetes_new.shape[1]\n",
        "\n",
        "records = []\n",
        "for i in range(0, l):\n",
        "    records.append([str(df_diabetes_new.values[i,j]) for j in range(0, c)])"
      ],
      "execution_count": null,
      "outputs": []
    },
    {
      "cell_type": "code",
      "metadata": {
        "id": "Y6gtwlv2dm_a"
      },
      "source": [
        "association_rules = apriori(records, min_support=0.040, min_confidence=0.75, min_lift=2, min_length=8)\n",
        "association_results = list(association_rules)"
      ],
      "execution_count": null,
      "outputs": []
    },
    {
      "cell_type": "code",
      "metadata": {
        "colab": {
          "base_uri": "https://localhost:8080/"
        },
        "id": "UJweWbQpfVzB",
        "outputId": "bc75c810-0a67-42f9-e8d8-6b01d594b117"
      },
      "source": [
        "print(len(association_results))"
      ],
      "execution_count": null,
      "outputs": [
        {
          "output_type": "stream",
          "text": [
            "21\n"
          ],
          "name": "stdout"
        }
      ]
    },
    {
      "cell_type": "code",
      "metadata": {
        "colab": {
          "base_uri": "https://localhost:8080/"
        },
        "id": "ec_n79TvfiML",
        "outputId": "df5ab69b-cd14-4350-f2c7-3a641066e658"
      },
      "source": [
        "print(association_results)"
      ],
      "execution_count": null,
      "outputs": [
        {
          "output_type": "stream",
          "text": [
            "[RelationRecord(items=frozenset({'Glucose_High', 'Yes_Diabetes'}), support=0.12771739130434784, ordered_statistics=[OrderedStatistic(items_base=frozenset({'Glucose_High'}), items_add=frozenset({'Yes_Diabetes'}), confidence=0.7580645161290324, lift=2.4258064516129036)]), RelationRecord(items=frozenset({'BMI_Severly_Obese', 'Glucose_High', 'Yes_Diabetes'}), support=0.059782608695652176, ordered_statistics=[OrderedStatistic(items_base=frozenset({'BMI_Severly_Obese', 'Glucose_High'}), items_add=frozenset({'Yes_Diabetes'}), confidence=0.7857142857142857, lift=2.5142857142857142)]), RelationRecord(items=frozenset({'BMI_Severly_Obese', 'Pregnant_High', 'Medium_age'}), support=0.06521739130434782, ordered_statistics=[OrderedStatistic(items_base=frozenset({'BMI_Severly_Obese', 'Medium_age'}), items_add=frozenset({'Pregnant_High'}), confidence=0.7999999999999999, lift=3.7743589743589743)]), RelationRecord(items=frozenset({'BloodPressure_Normal', 'Pregnant_High', 'Medium_age'}), support=0.08152173913043478, ordered_statistics=[OrderedStatistic(items_base=frozenset({'BloodPressure_Normal', 'Medium_age'}), items_add=frozenset({'Pregnant_High'}), confidence=0.75, lift=3.5384615384615383)]), RelationRecord(items=frozenset({'Pregnant_High', 'DPF_Low', 'Medium_age'}), support=0.051630434782608696, ordered_statistics=[OrderedStatistic(items_base=frozenset({'DPF_Low', 'Medium_age'}), items_add=frozenset({'Pregnant_High'}), confidence=0.76, lift=3.5856410256410256)]), RelationRecord(items=frozenset({'Glucose_High', 'Yes_Diabetes', 'DPF_Medium'}), support=0.0625, ordered_statistics=[OrderedStatistic(items_base=frozenset({'Glucose_High', 'DPF_Medium'}), items_add=frozenset({'Yes_Diabetes'}), confidence=0.8846153846153847, lift=2.830769230769231)]), RelationRecord(items=frozenset({'Pregnant_High', 'Medium_age', 'DPF_Medium'}), support=0.059782608695652176, ordered_statistics=[OrderedStatistic(items_base=frozenset({'Medium_age', 'DPF_Medium'}), items_add=frozenset({'Pregnant_High'}), confidence=0.8148148148148148, lift=3.844254510921177)]), RelationRecord(items=frozenset({'Glucose_High', 'Pregnant_High', 'Medium_age'}), support=0.04076086956521739, ordered_statistics=[OrderedStatistic(items_base=frozenset({'Glucose_High', 'Medium_age'}), items_add=frozenset({'Pregnant_High'}), confidence=0.75, lift=3.5384615384615383)]), RelationRecord(items=frozenset({'Glucose_High', 'Medium_age', 'Yes_Diabetes'}), support=0.043478260869565216, ordered_statistics=[OrderedStatistic(items_base=frozenset({'Glucose_High', 'Medium_age'}), items_add=frozenset({'Yes_Diabetes'}), confidence=0.8, lift=2.56)]), RelationRecord(items=frozenset({'Glucose_High', 'Pregnant_High', 'Yes_Diabetes'}), support=0.051630434782608696, ordered_statistics=[OrderedStatistic(items_base=frozenset({'Glucose_High', 'Pregnant_High'}), items_add=frozenset({'Yes_Diabetes'}), confidence=0.76, lift=2.432)]), RelationRecord(items=frozenset({'Glucose_High', 'Pregnant_Medium', 'Yes_Diabetes'}), support=0.043478260869565216, ordered_statistics=[OrderedStatistic(items_base=frozenset({'Glucose_High', 'Pregnant_Medium'}), items_add=frozenset({'Yes_Diabetes'}), confidence=0.8, lift=2.56)]), RelationRecord(items=frozenset({'BMI_Severly_Obese', 'Glucose_High', 'Yes_Diabetes', 'BloodPressure_Normal'}), support=0.04076086956521739, ordered_statistics=[OrderedStatistic(items_base=frozenset({'BMI_Severly_Obese', 'Glucose_High', 'BloodPressure_Normal'}), items_add=frozenset({'Yes_Diabetes'}), confidence=0.7894736842105263, lift=2.526315789473684)]), RelationRecord(items=frozenset({'BMI_Severly_Obese', 'Pregnant_High', 'Medium_age', 'BloodPressure_Normal'}), support=0.04076086956521739, ordered_statistics=[OrderedStatistic(items_base=frozenset({'BMI_Severly_Obese', 'Medium_age', 'BloodPressure_Normal'}), items_add=frozenset({'Pregnant_High'}), confidence=0.7894736842105263, lift=3.7246963562753037)]), RelationRecord(items=frozenset({'BMI_Severly_Obese', 'Pregnant_High', 'Yes_Diabetes', 'DPF_Medium'}), support=0.04076086956521739, ordered_statistics=[OrderedStatistic(items_base=frozenset({'BMI_Severly_Obese', 'Pregnant_High', 'DPF_Medium'}), items_add=frozenset({'Yes_Diabetes'}), confidence=0.8333333333333333, lift=2.6666666666666665)]), RelationRecord(items=frozenset({'BMI_Severly_Obese', 'Yes_Diabetes', 'Pregnant_High', 'Medium_age'}), support=0.04891304347826087, ordered_statistics=[OrderedStatistic(items_base=frozenset({'BMI_Severly_Obese', 'Pregnant_High', 'Medium_age'}), items_add=frozenset({'Yes_Diabetes'}), confidence=0.75, lift=2.4), OrderedStatistic(items_base=frozenset({'BMI_Severly_Obese', 'Yes_Diabetes', 'Medium_age'}), items_add=frozenset({'Pregnant_High'}), confidence=0.8571428571428572, lift=4.043956043956045), OrderedStatistic(items_base=frozenset({'BMI_Severly_Obese', 'Pregnant_High', 'Yes_Diabetes'}), items_add=frozenset({'Medium_age'}), confidence=0.8181818181818182, lift=4.704545454545455)]), RelationRecord(items=frozenset({'BloodPressure_Normal', 'Yes_Diabetes', 'Pregnant_High', 'Medium_age'}), support=0.04619565217391304, ordered_statistics=[OrderedStatistic(items_base=frozenset({'BloodPressure_Normal', 'Yes_Diabetes', 'Medium_age'}), items_add=frozenset({'Pregnant_High'}), confidence=0.7727272727272727, lift=3.6456876456876457)]), RelationRecord(items=frozenset({'Glucose_High', 'Young', 'Yes_Diabetes', 'DPF_Medium'}), support=0.043478260869565216, ordered_statistics=[OrderedStatistic(items_base=frozenset({'Glucose_High', 'Young', 'DPF_Medium'}), items_add=frozenset({'Yes_Diabetes'}), confidence=0.8888888888888888, lift=2.844444444444444)]), RelationRecord(items=frozenset({'Pregnant_High', 'Glucose_Medium', 'Medium_age', 'DPF_Medium'}), support=0.04076086956521739, ordered_statistics=[OrderedStatistic(items_base=frozenset({'Glucose_Medium', 'Medium_age', 'DPF_Medium'}), items_add=frozenset({'Pregnant_High'}), confidence=0.7894736842105263, lift=3.7246963562753037)]), RelationRecord(items=frozenset({'Yes_Diabetes', 'Pregnant_High', 'Medium_age', 'DPF_Medium'}), support=0.043478260869565216, ordered_statistics=[OrderedStatistic(items_base=frozenset({'Yes_Diabetes', 'Medium_age', 'DPF_Medium'}), items_add=frozenset({'Pregnant_High'}), confidence=0.8421052631578947, lift=3.973009446693657)]), RelationRecord(items=frozenset({'Yes_Diabetes', 'Pregnant_High', 'Glucose_Medium', 'Medium_age'}), support=0.043478260869565216, ordered_statistics=[OrderedStatistic(items_base=frozenset({'Pregnant_High', 'Glucose_Medium', 'Yes_Diabetes'}), items_add=frozenset({'Medium_age'}), confidence=0.761904761904762, lift=4.380952380952381)]), RelationRecord(items=frozenset({'BMI_Low', 'BloodPressure_Normal', 'Young', 'No_Diabetes', 'Glucose_Medium', 'Pregnant_Low'}), support=0.043478260869565216, ordered_statistics=[OrderedStatistic(items_base=frozenset({'BMI_Low', 'Pregnant_Low'}), items_add=frozenset({'BloodPressure_Normal', 'No_Diabetes', 'Young', 'Glucose_Medium'}), confidence=0.8, lift=2.058741258741259)])]\n"
          ],
          "name": "stdout"
        }
      ]
    },
    {
      "cell_type": "code",
      "metadata": {
        "colab": {
          "base_uri": "https://localhost:8080/"
        },
        "id": "4eus6cH5f0g4",
        "outputId": "f24e2021-98b5-4a05-ce44-2e27d6dd4c2d"
      },
      "source": [
        "for item in association_results:\n",
        "\n",
        "    # first index of the inner list\n",
        "    # Contains base item and add item\n",
        "    pair = item[0] \n",
        "    items = [x for x in pair]\n",
        "    if len(items)==2 and (('No_Diabetes' in items ) or 'Yes_Diabetes' in items ) :\n",
        "        print(\"Rule: \" + items[0] + \" -> \" + items[1])\n",
        "         #second index of the inner list\n",
        "        print(\"Support: \" + str(item[1]))\n",
        "\n",
        "        #third index of the list located at 0th\n",
        "        #of the third index of the inner list\n",
        "\n",
        "        print(\"Confidence: \" + str(item[2][0][2]))\n",
        "        print(\"Lift: \" + str(item[2][0][3]))\n",
        "        print(\"=====================================\")\n",
        "\n",
        "    if len(items)==3 and (('No_Diabetes' in items ) or 'Yes_Diabetes' in items ):\n",
        "        print(\"Rule: \" + items[0] + \" -> \" + items[1]+ \" -> \" + items[2])\n",
        "        #second index of the inner list\n",
        "        print(\"Support: \" + str(item[1]))\n",
        "\n",
        "        #third index of the list located at 0th\n",
        "        #of the third index of the inner list\n",
        "\n",
        "        print(\"Confidence: \" + str(item[2][0][2]))\n",
        "        print(\"Lift: \" + str(item[2][0][3]))\n",
        "        print(\"=====================================\")\n",
        "    \n",
        "    if len(items)==4 and (('No_Diabetes' in items ) or 'Yes_Diabetes' in items ):\n",
        "        print(\"Rule: \" + items[0] + \" -> \" + items[1]+ \" -> \" + items[2] + \" -> \" + items[3])\n",
        "        #second index of the inner list\n",
        "        print(\"Support: \" + str(item[1]))\n",
        "\n",
        "        #third index of the list located at 0th\n",
        "        #of the third index of the inner list\n",
        "\n",
        "        print(\"Confidence: \" + str(item[2][0][2]))\n",
        "        print(\"Lift: \" + str(item[2][0][3]))\n",
        "        print(\"=====================================\")\n",
        "        \n",
        "    if len(items)==5 and (('No_Diabetes' in items ) or 'Yes_Diabetes' in items ):\n",
        "        print(\"Rule: \" + items[0] + \" -> \" + items[1]+ \" -> \" + items[2] + \" -> \" + items[3] + \" -> \" + items[4])\n",
        "         #second index of the inner list\n",
        "        print(\"Support: \" + str(item[1]))\n",
        "\n",
        "        #third index of the list located at 0th\n",
        "        #of the third index of the inner list\n",
        "\n",
        "        print(\"Confidence: \" + str(item[2][0][2]))\n",
        "        print(\"Lift: \" + str(item[2][0][3]))\n",
        "        print(\"=====================================\")\n",
        "    \n",
        "    if len(items)==6 and (('No_Diabetes' in items ) or 'Yes_Diabetes' in items ):\n",
        "        print(\"Rule: \" + items[0] + \" -> \" + items[1]+ \" -> \" + items[2] + \" -> \" + items[3] + \" -> \" + items[4] + \" -> \" + items[5])\n",
        "         #second index of the inner list\n",
        "        print(\"Support: \" + str(item[1]))\n",
        "\n",
        "        #third index of the list located at 0th\n",
        "        #of the third index of the inner list\n",
        "\n",
        "        print(\"Confidence: \" + str(item[2][0][2]))\n",
        "        print(\"Lift: \" + str(item[2][0][3]))\n",
        "        print(\"=====================================\")\n",
        "\n",
        "    if len(items)==7 and (('No_Diabetes' in items ) or 'Yes_Diabetes' in items ):\n",
        "        print(\"Rule: \" + items[0] + \" -> \" + items[1]+ \" -> \" + items[2] + \" -> \" + items[3] + \" -> \" + items[4] + \" -> \" + items[5]  + \" -> \" + items[6])\n",
        "        #second index of the inner list\n",
        "        print(\"Support: \" + str(item[1]))\n",
        "\n",
        "        #third index of the list located at 0th\n",
        "        #of the third index of the inner list\n",
        "\n",
        "        print(\"Confidence: \" + str(item[2][0][2]))\n",
        "        print(\"Lift: \" + str(item[2][0][3]))\n",
        "        print(\"=====================================\")\n",
        "\n",
        "    if len(items)==8 and (('No_Diabetes' in items ) or 'Yes_Diabetes' in items ):\n",
        "        print(\"Rule: \" + items[0] + \" -> \" + items[1]+ \" -> \" + items[2] + \" -> \" + items[3] + \" -> \" + items[4] + \" -> \" + items[5]  + \" -> \" + items[6] + \" -> \" + items[7])\n",
        "         #second index of the inner list\n",
        "        print(\"Support: \" + str(item[1]))\n",
        "\n",
        "        #third index of the list located at 0th\n",
        "        #of the third index of the inner list\n",
        "\n",
        "        print(\"Confidence: \" + str(item[2][0][2]))\n",
        "        print(\"Lift: \" + str(item[2][0][3]))\n",
        "        print(\"=====================================\")\n",
        "   "
      ],
      "execution_count": null,
      "outputs": [
        {
          "output_type": "stream",
          "text": [
            "Rule: Glucose_High -> Yes_Diabetes\n",
            "Support: 0.12771739130434784\n",
            "Confidence: 0.7580645161290324\n",
            "Lift: 2.4258064516129036\n",
            "=====================================\n",
            "Rule: BMI_Severly_Obese -> Glucose_High -> Yes_Diabetes\n",
            "Support: 0.059782608695652176\n",
            "Confidence: 0.7857142857142857\n",
            "Lift: 2.5142857142857142\n",
            "=====================================\n",
            "Rule: Glucose_High -> Yes_Diabetes -> DPF_Medium\n",
            "Support: 0.0625\n",
            "Confidence: 0.8846153846153847\n",
            "Lift: 2.830769230769231\n",
            "=====================================\n",
            "Rule: Glucose_High -> Medium_age -> Yes_Diabetes\n",
            "Support: 0.043478260869565216\n",
            "Confidence: 0.8\n",
            "Lift: 2.56\n",
            "=====================================\n",
            "Rule: Glucose_High -> Pregnant_High -> Yes_Diabetes\n",
            "Support: 0.051630434782608696\n",
            "Confidence: 0.76\n",
            "Lift: 2.432\n",
            "=====================================\n",
            "Rule: Glucose_High -> Pregnant_Medium -> Yes_Diabetes\n",
            "Support: 0.043478260869565216\n",
            "Confidence: 0.8\n",
            "Lift: 2.56\n",
            "=====================================\n",
            "Rule: BMI_Severly_Obese -> Glucose_High -> Yes_Diabetes -> BloodPressure_Normal\n",
            "Support: 0.04076086956521739\n",
            "Confidence: 0.7894736842105263\n",
            "Lift: 2.526315789473684\n",
            "=====================================\n",
            "Rule: BMI_Severly_Obese -> Pregnant_High -> Yes_Diabetes -> DPF_Medium\n",
            "Support: 0.04076086956521739\n",
            "Confidence: 0.8333333333333333\n",
            "Lift: 2.6666666666666665\n",
            "=====================================\n",
            "Rule: BMI_Severly_Obese -> Yes_Diabetes -> Pregnant_High -> Medium_age\n",
            "Support: 0.04891304347826087\n",
            "Confidence: 0.75\n",
            "Lift: 2.4\n",
            "=====================================\n",
            "Rule: BloodPressure_Normal -> Yes_Diabetes -> Pregnant_High -> Medium_age\n",
            "Support: 0.04619565217391304\n",
            "Confidence: 0.7727272727272727\n",
            "Lift: 3.6456876456876457\n",
            "=====================================\n",
            "Rule: Glucose_High -> Young -> Yes_Diabetes -> DPF_Medium\n",
            "Support: 0.043478260869565216\n",
            "Confidence: 0.8888888888888888\n",
            "Lift: 2.844444444444444\n",
            "=====================================\n",
            "Rule: Yes_Diabetes -> Pregnant_High -> Medium_age -> DPF_Medium\n",
            "Support: 0.043478260869565216\n",
            "Confidence: 0.8421052631578947\n",
            "Lift: 3.973009446693657\n",
            "=====================================\n",
            "Rule: Yes_Diabetes -> Pregnant_High -> Glucose_Medium -> Medium_age\n",
            "Support: 0.043478260869565216\n",
            "Confidence: 0.761904761904762\n",
            "Lift: 4.380952380952381\n",
            "=====================================\n",
            "Rule: BMI_Low -> BloodPressure_Normal -> Young -> No_Diabetes -> Glucose_Medium -> Pregnant_Low\n",
            "Support: 0.043478260869565216\n",
            "Confidence: 0.8\n",
            "Lift: 2.058741258741259\n",
            "=====================================\n"
          ],
          "name": "stdout"
        }
      ]
    },
    {
      "cell_type": "markdown",
      "metadata": {
        "id": "9pjGcucyY39Y"
      },
      "source": [
        "TEST Association Rule Mining"
      ]
    },
    {
      "cell_type": "code",
      "metadata": {
        "id": "WOSMD3xnZrnd"
      },
      "source": [
        "from mlxtend.preprocessing import TransactionEncoder"
      ],
      "execution_count": null,
      "outputs": []
    },
    {
      "cell_type": "code",
      "metadata": {
        "colab": {
          "base_uri": "https://localhost:8080/",
          "height": 133
        },
        "id": "az-yEls9bQcD",
        "outputId": "89c780ab-0c80-43af-8435-7ad4196170bd"
      },
      "source": [
        "df_diabetes_new.groupby('Outcome').count()"
      ],
      "execution_count": null,
      "outputs": [
        {
          "output_type": "execute_result",
          "data": {
            "text/html": [
              "<div>\n",
              "<style scoped>\n",
              "    .dataframe tbody tr th:only-of-type {\n",
              "        vertical-align: middle;\n",
              "    }\n",
              "\n",
              "    .dataframe tbody tr th {\n",
              "        vertical-align: top;\n",
              "    }\n",
              "\n",
              "    .dataframe thead th {\n",
              "        text-align: right;\n",
              "    }\n",
              "</style>\n",
              "<table border=\"1\" class=\"dataframe\">\n",
              "  <thead>\n",
              "    <tr style=\"text-align: right;\">\n",
              "      <th></th>\n",
              "      <th>Pregnancies</th>\n",
              "      <th>Glucose</th>\n",
              "      <th>BloodPressure</th>\n",
              "      <th>BMI</th>\n",
              "      <th>DiabetesPedigreeFunction</th>\n",
              "      <th>Age</th>\n",
              "    </tr>\n",
              "    <tr>\n",
              "      <th>Outcome</th>\n",
              "      <th></th>\n",
              "      <th></th>\n",
              "      <th></th>\n",
              "      <th></th>\n",
              "      <th></th>\n",
              "      <th></th>\n",
              "    </tr>\n",
              "  </thead>\n",
              "  <tbody>\n",
              "    <tr>\n",
              "      <th>No_Diabetes</th>\n",
              "      <td>253</td>\n",
              "      <td>253</td>\n",
              "      <td>253</td>\n",
              "      <td>253</td>\n",
              "      <td>253</td>\n",
              "      <td>253</td>\n",
              "    </tr>\n",
              "    <tr>\n",
              "      <th>Yes_Diabetes</th>\n",
              "      <td>115</td>\n",
              "      <td>115</td>\n",
              "      <td>115</td>\n",
              "      <td>115</td>\n",
              "      <td>115</td>\n",
              "      <td>115</td>\n",
              "    </tr>\n",
              "  </tbody>\n",
              "</table>\n",
              "</div>"
            ],
            "text/plain": [
              "              Pregnancies  Glucose  ...  DiabetesPedigreeFunction  Age\n",
              "Outcome                             ...                               \n",
              "No_Diabetes           253      253  ...                       253  253\n",
              "Yes_Diabetes          115      115  ...                       115  115\n",
              "\n",
              "[2 rows x 6 columns]"
            ]
          },
          "metadata": {
            "tags": []
          },
          "execution_count": 238
        }
      ]
    },
    {
      "cell_type": "code",
      "metadata": {
        "colab": {
          "base_uri": "https://localhost:8080/"
        },
        "id": "XC2ssFfpZzk3",
        "outputId": "283b024d-6a74-43ec-d1ed-44d66495adcf"
      },
      "source": [
        "te=TransactionEncoder()\n",
        "te_aray=te.fit(df_diabetes_new.values).transform(df_diabetes_new.values)\n",
        "te_aray"
      ],
      "execution_count": null,
      "outputs": [
        {
          "output_type": "execute_result",
          "data": {
            "text/plain": [
              "array([[False,  True, False, ..., False, False,  True],\n",
              "       [False, False, False, ..., False,  True,  True],\n",
              "       [False, False,  True, ...,  True,  True,  True],\n",
              "       ...,\n",
              "       [False,  True, False, ..., False, False,  True],\n",
              "       [False, False,  True, ..., False, False, False],\n",
              "       [False,  True, False, ...,  True, False,  True]])"
            ]
          },
          "metadata": {
            "tags": []
          },
          "execution_count": 239
        }
      ]
    },
    {
      "cell_type": "code",
      "metadata": {
        "colab": {
          "base_uri": "https://localhost:8080/",
          "height": 411
        },
        "id": "qf_XV3zbaTJv",
        "outputId": "812552e3-6d92-4acd-c2c6-510277999136"
      },
      "source": [
        "df=pd.DataFrame(te_aray,columns=te.columns_)\n",
        "df"
      ],
      "execution_count": null,
      "outputs": [
        {
          "output_type": "execute_result",
          "data": {
            "text/html": [
              "<div>\n",
              "<style scoped>\n",
              "    .dataframe tbody tr th:only-of-type {\n",
              "        vertical-align: middle;\n",
              "    }\n",
              "\n",
              "    .dataframe tbody tr th {\n",
              "        vertical-align: top;\n",
              "    }\n",
              "\n",
              "    .dataframe thead th {\n",
              "        text-align: right;\n",
              "    }\n",
              "</style>\n",
              "<table border=\"1\" class=\"dataframe\">\n",
              "  <thead>\n",
              "    <tr style=\"text-align: right;\">\n",
              "      <th></th>\n",
              "      <th>BMI_Low</th>\n",
              "      <th>BMI_Normal</th>\n",
              "      <th>BMI_Obese</th>\n",
              "      <th>BMI_Severly_Obese</th>\n",
              "      <th>BloodPressure_High</th>\n",
              "      <th>BloodPressure_Normal</th>\n",
              "      <th>BloodPressure_Prehypertension</th>\n",
              "      <th>DPF_High</th>\n",
              "      <th>DPF_Low</th>\n",
              "      <th>DPF_Medium</th>\n",
              "      <th>Glucose_High</th>\n",
              "      <th>Glucose_Low</th>\n",
              "      <th>Glucose_Medium</th>\n",
              "      <th>Medium_age</th>\n",
              "      <th>No_Diabetes</th>\n",
              "      <th>Old</th>\n",
              "      <th>Pregnant_High</th>\n",
              "      <th>Pregnant_Low</th>\n",
              "      <th>Pregnant_Medium</th>\n",
              "      <th>Yes_Diabetes</th>\n",
              "      <th>Young</th>\n",
              "    </tr>\n",
              "  </thead>\n",
              "  <tbody>\n",
              "    <tr>\n",
              "      <th>0</th>\n",
              "      <td>False</td>\n",
              "      <td>True</td>\n",
              "      <td>False</td>\n",
              "      <td>False</td>\n",
              "      <td>False</td>\n",
              "      <td>True</td>\n",
              "      <td>False</td>\n",
              "      <td>False</td>\n",
              "      <td>True</td>\n",
              "      <td>False</td>\n",
              "      <td>False</td>\n",
              "      <td>True</td>\n",
              "      <td>False</td>\n",
              "      <td>False</td>\n",
              "      <td>True</td>\n",
              "      <td>False</td>\n",
              "      <td>False</td>\n",
              "      <td>True</td>\n",
              "      <td>False</td>\n",
              "      <td>False</td>\n",
              "      <td>True</td>\n",
              "    </tr>\n",
              "    <tr>\n",
              "      <th>1</th>\n",
              "      <td>False</td>\n",
              "      <td>False</td>\n",
              "      <td>False</td>\n",
              "      <td>True</td>\n",
              "      <td>False</td>\n",
              "      <td>True</td>\n",
              "      <td>False</td>\n",
              "      <td>True</td>\n",
              "      <td>False</td>\n",
              "      <td>False</td>\n",
              "      <td>False</td>\n",
              "      <td>False</td>\n",
              "      <td>True</td>\n",
              "      <td>False</td>\n",
              "      <td>False</td>\n",
              "      <td>False</td>\n",
              "      <td>False</td>\n",
              "      <td>True</td>\n",
              "      <td>False</td>\n",
              "      <td>True</td>\n",
              "      <td>True</td>\n",
              "    </tr>\n",
              "    <tr>\n",
              "      <th>2</th>\n",
              "      <td>False</td>\n",
              "      <td>False</td>\n",
              "      <td>True</td>\n",
              "      <td>False</td>\n",
              "      <td>False</td>\n",
              "      <td>True</td>\n",
              "      <td>False</td>\n",
              "      <td>False</td>\n",
              "      <td>True</td>\n",
              "      <td>False</td>\n",
              "      <td>False</td>\n",
              "      <td>True</td>\n",
              "      <td>False</td>\n",
              "      <td>False</td>\n",
              "      <td>False</td>\n",
              "      <td>False</td>\n",
              "      <td>False</td>\n",
              "      <td>False</td>\n",
              "      <td>True</td>\n",
              "      <td>True</td>\n",
              "      <td>True</td>\n",
              "    </tr>\n",
              "    <tr>\n",
              "      <th>3</th>\n",
              "      <td>False</td>\n",
              "      <td>True</td>\n",
              "      <td>False</td>\n",
              "      <td>False</td>\n",
              "      <td>False</td>\n",
              "      <td>True</td>\n",
              "      <td>False</td>\n",
              "      <td>False</td>\n",
              "      <td>False</td>\n",
              "      <td>True</td>\n",
              "      <td>True</td>\n",
              "      <td>False</td>\n",
              "      <td>False</td>\n",
              "      <td>True</td>\n",
              "      <td>False</td>\n",
              "      <td>False</td>\n",
              "      <td>False</td>\n",
              "      <td>False</td>\n",
              "      <td>True</td>\n",
              "      <td>True</td>\n",
              "      <td>False</td>\n",
              "    </tr>\n",
              "    <tr>\n",
              "      <th>4</th>\n",
              "      <td>False</td>\n",
              "      <td>False</td>\n",
              "      <td>False</td>\n",
              "      <td>True</td>\n",
              "      <td>False</td>\n",
              "      <td>False</td>\n",
              "      <td>True</td>\n",
              "      <td>False</td>\n",
              "      <td>False</td>\n",
              "      <td>True</td>\n",
              "      <td>False</td>\n",
              "      <td>False</td>\n",
              "      <td>True</td>\n",
              "      <td>False</td>\n",
              "      <td>False</td>\n",
              "      <td>False</td>\n",
              "      <td>False</td>\n",
              "      <td>True</td>\n",
              "      <td>False</td>\n",
              "      <td>True</td>\n",
              "      <td>True</td>\n",
              "    </tr>\n",
              "    <tr>\n",
              "      <th>...</th>\n",
              "      <td>...</td>\n",
              "      <td>...</td>\n",
              "      <td>...</td>\n",
              "      <td>...</td>\n",
              "      <td>...</td>\n",
              "      <td>...</td>\n",
              "      <td>...</td>\n",
              "      <td>...</td>\n",
              "      <td>...</td>\n",
              "      <td>...</td>\n",
              "      <td>...</td>\n",
              "      <td>...</td>\n",
              "      <td>...</td>\n",
              "      <td>...</td>\n",
              "      <td>...</td>\n",
              "      <td>...</td>\n",
              "      <td>...</td>\n",
              "      <td>...</td>\n",
              "      <td>...</td>\n",
              "      <td>...</td>\n",
              "      <td>...</td>\n",
              "    </tr>\n",
              "    <tr>\n",
              "      <th>363</th>\n",
              "      <td>False</td>\n",
              "      <td>False</td>\n",
              "      <td>False</td>\n",
              "      <td>True</td>\n",
              "      <td>False</td>\n",
              "      <td>True</td>\n",
              "      <td>False</td>\n",
              "      <td>False</td>\n",
              "      <td>True</td>\n",
              "      <td>False</td>\n",
              "      <td>False</td>\n",
              "      <td>False</td>\n",
              "      <td>True</td>\n",
              "      <td>False</td>\n",
              "      <td>True</td>\n",
              "      <td>False</td>\n",
              "      <td>False</td>\n",
              "      <td>True</td>\n",
              "      <td>False</td>\n",
              "      <td>False</td>\n",
              "      <td>True</td>\n",
              "    </tr>\n",
              "    <tr>\n",
              "      <th>364</th>\n",
              "      <td>False</td>\n",
              "      <td>False</td>\n",
              "      <td>False</td>\n",
              "      <td>True</td>\n",
              "      <td>False</td>\n",
              "      <td>False</td>\n",
              "      <td>True</td>\n",
              "      <td>True</td>\n",
              "      <td>False</td>\n",
              "      <td>False</td>\n",
              "      <td>False</td>\n",
              "      <td>False</td>\n",
              "      <td>True</td>\n",
              "      <td>False</td>\n",
              "      <td>False</td>\n",
              "      <td>False</td>\n",
              "      <td>False</td>\n",
              "      <td>True</td>\n",
              "      <td>False</td>\n",
              "      <td>True</td>\n",
              "      <td>True</td>\n",
              "    </tr>\n",
              "    <tr>\n",
              "      <th>365</th>\n",
              "      <td>False</td>\n",
              "      <td>True</td>\n",
              "      <td>False</td>\n",
              "      <td>False</td>\n",
              "      <td>False</td>\n",
              "      <td>True</td>\n",
              "      <td>False</td>\n",
              "      <td>False</td>\n",
              "      <td>False</td>\n",
              "      <td>True</td>\n",
              "      <td>False</td>\n",
              "      <td>True</td>\n",
              "      <td>False</td>\n",
              "      <td>False</td>\n",
              "      <td>True</td>\n",
              "      <td>False</td>\n",
              "      <td>False</td>\n",
              "      <td>True</td>\n",
              "      <td>False</td>\n",
              "      <td>False</td>\n",
              "      <td>True</td>\n",
              "    </tr>\n",
              "    <tr>\n",
              "      <th>366</th>\n",
              "      <td>False</td>\n",
              "      <td>False</td>\n",
              "      <td>True</td>\n",
              "      <td>False</td>\n",
              "      <td>False</td>\n",
              "      <td>True</td>\n",
              "      <td>False</td>\n",
              "      <td>False</td>\n",
              "      <td>True</td>\n",
              "      <td>False</td>\n",
              "      <td>False</td>\n",
              "      <td>False</td>\n",
              "      <td>True</td>\n",
              "      <td>False</td>\n",
              "      <td>True</td>\n",
              "      <td>True</td>\n",
              "      <td>True</td>\n",
              "      <td>False</td>\n",
              "      <td>False</td>\n",
              "      <td>False</td>\n",
              "      <td>False</td>\n",
              "    </tr>\n",
              "    <tr>\n",
              "      <th>367</th>\n",
              "      <td>False</td>\n",
              "      <td>True</td>\n",
              "      <td>False</td>\n",
              "      <td>False</td>\n",
              "      <td>False</td>\n",
              "      <td>True</td>\n",
              "      <td>False</td>\n",
              "      <td>False</td>\n",
              "      <td>True</td>\n",
              "      <td>False</td>\n",
              "      <td>False</td>\n",
              "      <td>False</td>\n",
              "      <td>True</td>\n",
              "      <td>False</td>\n",
              "      <td>True</td>\n",
              "      <td>False</td>\n",
              "      <td>False</td>\n",
              "      <td>False</td>\n",
              "      <td>True</td>\n",
              "      <td>False</td>\n",
              "      <td>True</td>\n",
              "    </tr>\n",
              "  </tbody>\n",
              "</table>\n",
              "<p>368 rows × 21 columns</p>\n",
              "</div>"
            ],
            "text/plain": [
              "     BMI_Low  BMI_Normal  BMI_Obese  ...  Pregnant_Medium  Yes_Diabetes  Young\n",
              "0      False        True      False  ...            False         False   True\n",
              "1      False       False      False  ...            False          True   True\n",
              "2      False       False       True  ...             True          True   True\n",
              "3      False        True      False  ...             True          True  False\n",
              "4      False       False      False  ...            False          True   True\n",
              "..       ...         ...        ...  ...              ...           ...    ...\n",
              "363    False       False      False  ...            False         False   True\n",
              "364    False       False      False  ...            False          True   True\n",
              "365    False        True      False  ...            False         False   True\n",
              "366    False       False       True  ...            False         False  False\n",
              "367    False        True      False  ...             True         False   True\n",
              "\n",
              "[368 rows x 21 columns]"
            ]
          },
          "metadata": {
            "tags": []
          },
          "execution_count": 240
        }
      ]
    },
    {
      "cell_type": "code",
      "metadata": {
        "colab": {
          "base_uri": "https://localhost:8080/"
        },
        "id": "kMobo43FY28l",
        "outputId": "13f1fb86-e934-4f13-dd98-ff5f70109412"
      },
      "source": [
        "from mlxtend.frequent_patterns import apriori,association_rules\n",
        "\n",
        "frq_items = apriori(df, min_support = 0.03, use_colnames = True) \n",
        "\n",
        "# Collecting the inferred rules in a dataframe \n",
        "rules = association_rules(frq_items, metric =\"lift\", min_threshold = 1) \n",
        "rules_ = rules.sort_values(['confidence', 'lift'], ascending =[False, False]) \n",
        "print(rules_[['antecedents','consequents']])"
      ],
      "execution_count": null,
      "outputs": [
        {
          "output_type": "stream",
          "text": [
            "                                            antecedents                                        consequents\n",
            "6758        (BMI_Severly_Obese, Medium_age, DPF_Medium)                      (Pregnant_High, Yes_Diabetes)\n",
            "3002        (BMI_Severly_Obese, Medium_age, DPF_Medium)                                    (Pregnant_High)\n",
            "6750  (BMI_Severly_Obese, Medium_age, Yes_Diabetes, ...                                    (Pregnant_High)\n",
            "3015        (BMI_Severly_Obese, Medium_age, DPF_Medium)                                     (Yes_Diabetes)\n",
            "6751  (BMI_Severly_Obese, Pregnant_High, Medium_age,...                                     (Yes_Diabetes)\n",
            "...                                                 ...                                                ...\n",
            "218                                             (Young)                              (BMI_Low, DPF_Medium)\n",
            "319                                             (Young)                             (BMI_Normal, DPF_High)\n",
            "1626                                            (Young)       (BloodPressure_Normal, DPF_High, BMI_Normal)\n",
            "7244                                            (Young)  (BloodPressure_Normal, Glucose_High, Yes_Diabe...\n",
            "7574                                            (Young)  (BloodPressure_Normal, Glucose_High, Pregnant_...\n",
            "\n",
            "[10334 rows x 2 columns]\n"
          ],
          "name": "stdout"
        }
      ]
    },
    {
      "cell_type": "code",
      "metadata": {
        "colab": {
          "base_uri": "https://localhost:8080/",
          "height": 1000
        },
        "id": "DN5hwxOCdb94",
        "outputId": "5672aa32-c1e1-4ccc-9abb-f6bf73f0c325"
      },
      "source": [
        "rules_[ (rules_['consequents'] == {'No_Diabetes'}) & (rules_['confidence'] == 1)]"
      ],
      "execution_count": null,
      "outputs": [
        {
          "output_type": "execute_result",
          "data": {
            "text/html": [
              "<div>\n",
              "<style scoped>\n",
              "    .dataframe tbody tr th:only-of-type {\n",
              "        vertical-align: middle;\n",
              "    }\n",
              "\n",
              "    .dataframe tbody tr th {\n",
              "        vertical-align: top;\n",
              "    }\n",
              "\n",
              "    .dataframe thead th {\n",
              "        text-align: right;\n",
              "    }\n",
              "</style>\n",
              "<table border=\"1\" class=\"dataframe\">\n",
              "  <thead>\n",
              "    <tr style=\"text-align: right;\">\n",
              "      <th></th>\n",
              "      <th>antecedents</th>\n",
              "      <th>consequents</th>\n",
              "      <th>antecedent support</th>\n",
              "      <th>consequent support</th>\n",
              "      <th>support</th>\n",
              "      <th>confidence</th>\n",
              "      <th>lift</th>\n",
              "      <th>leverage</th>\n",
              "      <th>conviction</th>\n",
              "    </tr>\n",
              "  </thead>\n",
              "  <tbody>\n",
              "    <tr>\n",
              "      <th>193</th>\n",
              "      <td>(BMI_Low, DPF_Low)</td>\n",
              "      <td>(No_Diabetes)</td>\n",
              "      <td>0.043478</td>\n",
              "      <td>0.6875</td>\n",
              "      <td>0.043478</td>\n",
              "      <td>1.0</td>\n",
              "      <td>1.454545</td>\n",
              "      <td>0.013587</td>\n",
              "      <td>inf</td>\n",
              "    </tr>\n",
              "    <tr>\n",
              "      <th>364</th>\n",
              "      <td>(BMI_Normal, Glucose_Low)</td>\n",
              "      <td>(No_Diabetes)</td>\n",
              "      <td>0.054348</td>\n",
              "      <td>0.6875</td>\n",
              "      <td>0.054348</td>\n",
              "      <td>1.0</td>\n",
              "      <td>1.454545</td>\n",
              "      <td>0.016984</td>\n",
              "      <td>inf</td>\n",
              "    </tr>\n",
              "    <tr>\n",
              "      <th>1380</th>\n",
              "      <td>(BMI_Low, DPF_Low, BloodPressure_Normal)</td>\n",
              "      <td>(No_Diabetes)</td>\n",
              "      <td>0.040761</td>\n",
              "      <td>0.6875</td>\n",
              "      <td>0.040761</td>\n",
              "      <td>1.0</td>\n",
              "      <td>1.454545</td>\n",
              "      <td>0.012738</td>\n",
              "      <td>inf</td>\n",
              "    </tr>\n",
              "    <tr>\n",
              "      <th>1506</th>\n",
              "      <td>(BMI_Low, DPF_Low, Glucose_Medium)</td>\n",
              "      <td>(No_Diabetes)</td>\n",
              "      <td>0.038043</td>\n",
              "      <td>0.6875</td>\n",
              "      <td>0.038043</td>\n",
              "      <td>1.0</td>\n",
              "      <td>1.454545</td>\n",
              "      <td>0.011889</td>\n",
              "      <td>inf</td>\n",
              "    </tr>\n",
              "    <tr>\n",
              "      <th>1534</th>\n",
              "      <td>(BMI_Low, DPF_Low, Young)</td>\n",
              "      <td>(No_Diabetes)</td>\n",
              "      <td>0.040761</td>\n",
              "      <td>0.6875</td>\n",
              "      <td>0.040761</td>\n",
              "      <td>1.0</td>\n",
              "      <td>1.454545</td>\n",
              "      <td>0.012738</td>\n",
              "      <td>inf</td>\n",
              "    </tr>\n",
              "    <tr>\n",
              "      <th>1546</th>\n",
              "      <td>(BMI_Low, Pregnant_Low, Glucose_Medium)</td>\n",
              "      <td>(No_Diabetes)</td>\n",
              "      <td>0.043478</td>\n",
              "      <td>0.6875</td>\n",
              "      <td>0.043478</td>\n",
              "      <td>1.0</td>\n",
              "      <td>1.454545</td>\n",
              "      <td>0.013587</td>\n",
              "      <td>inf</td>\n",
              "    </tr>\n",
              "    <tr>\n",
              "      <th>1742</th>\n",
              "      <td>(BloodPressure_Normal, BMI_Normal, Glucose_Low)</td>\n",
              "      <td>(No_Diabetes)</td>\n",
              "      <td>0.051630</td>\n",
              "      <td>0.6875</td>\n",
              "      <td>0.051630</td>\n",
              "      <td>1.0</td>\n",
              "      <td>1.454545</td>\n",
              "      <td>0.016135</td>\n",
              "      <td>inf</td>\n",
              "    </tr>\n",
              "    <tr>\n",
              "      <th>1913</th>\n",
              "      <td>(DPF_Low, BMI_Normal, Glucose_Low)</td>\n",
              "      <td>(No_Diabetes)</td>\n",
              "      <td>0.035326</td>\n",
              "      <td>0.6875</td>\n",
              "      <td>0.035326</td>\n",
              "      <td>1.0</td>\n",
              "      <td>1.454545</td>\n",
              "      <td>0.011039</td>\n",
              "      <td>inf</td>\n",
              "    </tr>\n",
              "    <tr>\n",
              "      <th>2075</th>\n",
              "      <td>(Pregnant_Low, BMI_Normal, Glucose_Low)</td>\n",
              "      <td>(No_Diabetes)</td>\n",
              "      <td>0.038043</td>\n",
              "      <td>0.6875</td>\n",
              "      <td>0.038043</td>\n",
              "      <td>1.0</td>\n",
              "      <td>1.454545</td>\n",
              "      <td>0.011889</td>\n",
              "      <td>inf</td>\n",
              "    </tr>\n",
              "    <tr>\n",
              "      <th>2089</th>\n",
              "      <td>(Young, BMI_Normal, Glucose_Low)</td>\n",
              "      <td>(No_Diabetes)</td>\n",
              "      <td>0.054348</td>\n",
              "      <td>0.6875</td>\n",
              "      <td>0.054348</td>\n",
              "      <td>1.0</td>\n",
              "      <td>1.454545</td>\n",
              "      <td>0.016984</td>\n",
              "      <td>inf</td>\n",
              "    </tr>\n",
              "    <tr>\n",
              "      <th>3978</th>\n",
              "      <td>(Pregnant_Low, DPF_Low, Glucose_Low)</td>\n",
              "      <td>(No_Diabetes)</td>\n",
              "      <td>0.040761</td>\n",
              "      <td>0.6875</td>\n",
              "      <td>0.040761</td>\n",
              "      <td>1.0</td>\n",
              "      <td>1.454545</td>\n",
              "      <td>0.012738</td>\n",
              "      <td>inf</td>\n",
              "    </tr>\n",
              "    <tr>\n",
              "      <th>4417</th>\n",
              "      <td>(BMI_Low, DPF_Low, Glucose_Medium, BloodPressu...</td>\n",
              "      <td>(No_Diabetes)</td>\n",
              "      <td>0.035326</td>\n",
              "      <td>0.6875</td>\n",
              "      <td>0.035326</td>\n",
              "      <td>1.0</td>\n",
              "      <td>1.454545</td>\n",
              "      <td>0.011039</td>\n",
              "      <td>inf</td>\n",
              "    </tr>\n",
              "    <tr>\n",
              "      <th>4476</th>\n",
              "      <td>(BMI_Low, Young, DPF_Low, BloodPressure_Normal)</td>\n",
              "      <td>(No_Diabetes)</td>\n",
              "      <td>0.040761</td>\n",
              "      <td>0.6875</td>\n",
              "      <td>0.040761</td>\n",
              "      <td>1.0</td>\n",
              "      <td>1.454545</td>\n",
              "      <td>0.012738</td>\n",
              "      <td>inf</td>\n",
              "    </tr>\n",
              "    <tr>\n",
              "      <th>4508</th>\n",
              "      <td>(BMI_Low, Pregnant_Low, Glucose_Medium, BloodP...</td>\n",
              "      <td>(No_Diabetes)</td>\n",
              "      <td>0.043478</td>\n",
              "      <td>0.6875</td>\n",
              "      <td>0.043478</td>\n",
              "      <td>1.0</td>\n",
              "      <td>1.454545</td>\n",
              "      <td>0.013587</td>\n",
              "      <td>inf</td>\n",
              "    </tr>\n",
              "    <tr>\n",
              "      <th>4627</th>\n",
              "      <td>(BMI_Low, DPF_Low, Glucose_Medium, Young)</td>\n",
              "      <td>(No_Diabetes)</td>\n",
              "      <td>0.035326</td>\n",
              "      <td>0.6875</td>\n",
              "      <td>0.035326</td>\n",
              "      <td>1.0</td>\n",
              "      <td>1.454545</td>\n",
              "      <td>0.011039</td>\n",
              "      <td>inf</td>\n",
              "    </tr>\n",
              "    <tr>\n",
              "      <th>4658</th>\n",
              "      <td>(BMI_Low, Pregnant_Low, Young, Glucose_Medium)</td>\n",
              "      <td>(No_Diabetes)</td>\n",
              "      <td>0.043478</td>\n",
              "      <td>0.6875</td>\n",
              "      <td>0.043478</td>\n",
              "      <td>1.0</td>\n",
              "      <td>1.454545</td>\n",
              "      <td>0.013587</td>\n",
              "      <td>inf</td>\n",
              "    </tr>\n",
              "    <tr>\n",
              "      <th>4687</th>\n",
              "      <td>(BloodPressure_Normal, DPF_Low, BMI_Normal, Gl...</td>\n",
              "      <td>(No_Diabetes)</td>\n",
              "      <td>0.032609</td>\n",
              "      <td>0.6875</td>\n",
              "      <td>0.032609</td>\n",
              "      <td>1.0</td>\n",
              "      <td>1.454545</td>\n",
              "      <td>0.010190</td>\n",
              "      <td>inf</td>\n",
              "    </tr>\n",
              "    <tr>\n",
              "      <th>5036</th>\n",
              "      <td>(BloodPressure_Normal, Pregnant_Low, BMI_Norma...</td>\n",
              "      <td>(No_Diabetes)</td>\n",
              "      <td>0.038043</td>\n",
              "      <td>0.6875</td>\n",
              "      <td>0.038043</td>\n",
              "      <td>1.0</td>\n",
              "      <td>1.454545</td>\n",
              "      <td>0.011889</td>\n",
              "      <td>inf</td>\n",
              "    </tr>\n",
              "    <tr>\n",
              "      <th>5065</th>\n",
              "      <td>(BloodPressure_Normal, Young, BMI_Normal, Gluc...</td>\n",
              "      <td>(No_Diabetes)</td>\n",
              "      <td>0.051630</td>\n",
              "      <td>0.6875</td>\n",
              "      <td>0.051630</td>\n",
              "      <td>1.0</td>\n",
              "      <td>1.454545</td>\n",
              "      <td>0.016135</td>\n",
              "      <td>inf</td>\n",
              "    </tr>\n",
              "    <tr>\n",
              "      <th>5319</th>\n",
              "      <td>(Glucose_Low, DPF_Low, BMI_Normal, Young)</td>\n",
              "      <td>(No_Diabetes)</td>\n",
              "      <td>0.035326</td>\n",
              "      <td>0.6875</td>\n",
              "      <td>0.035326</td>\n",
              "      <td>1.0</td>\n",
              "      <td>1.454545</td>\n",
              "      <td>0.011039</td>\n",
              "      <td>inf</td>\n",
              "    </tr>\n",
              "    <tr>\n",
              "      <th>5367</th>\n",
              "      <td>(Pregnant_Low, DPF_Low, BMI_Normal, Young)</td>\n",
              "      <td>(No_Diabetes)</td>\n",
              "      <td>0.054348</td>\n",
              "      <td>0.6875</td>\n",
              "      <td>0.054348</td>\n",
              "      <td>1.0</td>\n",
              "      <td>1.454545</td>\n",
              "      <td>0.016984</td>\n",
              "      <td>inf</td>\n",
              "    </tr>\n",
              "    <tr>\n",
              "      <th>5397</th>\n",
              "      <td>(Pregnant_Low, Glucose_Medium, BMI_Normal, DPF...</td>\n",
              "      <td>(No_Diabetes)</td>\n",
              "      <td>0.051630</td>\n",
              "      <td>0.6875</td>\n",
              "      <td>0.051630</td>\n",
              "      <td>1.0</td>\n",
              "      <td>1.454545</td>\n",
              "      <td>0.016135</td>\n",
              "      <td>inf</td>\n",
              "    </tr>\n",
              "    <tr>\n",
              "      <th>5516</th>\n",
              "      <td>(Pregnant_Low, Young, BMI_Normal, Glucose_Low)</td>\n",
              "      <td>(No_Diabetes)</td>\n",
              "      <td>0.038043</td>\n",
              "      <td>0.6875</td>\n",
              "      <td>0.038043</td>\n",
              "      <td>1.0</td>\n",
              "      <td>1.454545</td>\n",
              "      <td>0.011889</td>\n",
              "      <td>inf</td>\n",
              "    </tr>\n",
              "    <tr>\n",
              "      <th>5546</th>\n",
              "      <td>(Pregnant_Low, Young, BMI_Normal, Glucose_Medium)</td>\n",
              "      <td>(No_Diabetes)</td>\n",
              "      <td>0.103261</td>\n",
              "      <td>0.6875</td>\n",
              "      <td>0.103261</td>\n",
              "      <td>1.0</td>\n",
              "      <td>1.454545</td>\n",
              "      <td>0.032269</td>\n",
              "      <td>inf</td>\n",
              "    </tr>\n",
              "    <tr>\n",
              "      <th>6924</th>\n",
              "      <td>(BloodPressure_Normal, Pregnant_Low, DPF_Low, ...</td>\n",
              "      <td>(No_Diabetes)</td>\n",
              "      <td>0.038043</td>\n",
              "      <td>0.6875</td>\n",
              "      <td>0.038043</td>\n",
              "      <td>1.0</td>\n",
              "      <td>1.454545</td>\n",
              "      <td>0.011889</td>\n",
              "      <td>inf</td>\n",
              "    </tr>\n",
              "    <tr>\n",
              "      <th>7704</th>\n",
              "      <td>(Pregnant_Low, DPF_Low, Glucose_Low, Young)</td>\n",
              "      <td>(No_Diabetes)</td>\n",
              "      <td>0.040761</td>\n",
              "      <td>0.6875</td>\n",
              "      <td>0.040761</td>\n",
              "      <td>1.0</td>\n",
              "      <td>1.454545</td>\n",
              "      <td>0.012738</td>\n",
              "      <td>inf</td>\n",
              "    </tr>\n",
              "    <tr>\n",
              "      <th>7867</th>\n",
              "      <td>(BMI_Low, BloodPressure_Normal, DPF_Low, Young...</td>\n",
              "      <td>(No_Diabetes)</td>\n",
              "      <td>0.035326</td>\n",
              "      <td>0.6875</td>\n",
              "      <td>0.035326</td>\n",
              "      <td>1.0</td>\n",
              "      <td>1.454545</td>\n",
              "      <td>0.011039</td>\n",
              "      <td>inf</td>\n",
              "    </tr>\n",
              "    <tr>\n",
              "      <th>7930</th>\n",
              "      <td>(BMI_Low, BloodPressure_Normal, Young, Pregnan...</td>\n",
              "      <td>(No_Diabetes)</td>\n",
              "      <td>0.043478</td>\n",
              "      <td>0.6875</td>\n",
              "      <td>0.043478</td>\n",
              "      <td>1.0</td>\n",
              "      <td>1.454545</td>\n",
              "      <td>0.013587</td>\n",
              "      <td>inf</td>\n",
              "    </tr>\n",
              "    <tr>\n",
              "      <th>7991</th>\n",
              "      <td>(BMI_Normal, BloodPressure_Normal, DPF_Low, Yo...</td>\n",
              "      <td>(No_Diabetes)</td>\n",
              "      <td>0.032609</td>\n",
              "      <td>0.6875</td>\n",
              "      <td>0.032609</td>\n",
              "      <td>1.0</td>\n",
              "      <td>1.454545</td>\n",
              "      <td>0.010190</td>\n",
              "      <td>inf</td>\n",
              "    </tr>\n",
              "    <tr>\n",
              "      <th>8067</th>\n",
              "      <td>(BMI_Normal, BloodPressure_Normal, DPF_Low, Yo...</td>\n",
              "      <td>(No_Diabetes)</td>\n",
              "      <td>0.046196</td>\n",
              "      <td>0.6875</td>\n",
              "      <td>0.046196</td>\n",
              "      <td>1.0</td>\n",
              "      <td>1.454545</td>\n",
              "      <td>0.014436</td>\n",
              "      <td>inf</td>\n",
              "    </tr>\n",
              "    <tr>\n",
              "      <th>8127</th>\n",
              "      <td>(BMI_Normal, BloodPressure_Normal, Pregnant_Lo...</td>\n",
              "      <td>(No_Diabetes)</td>\n",
              "      <td>0.043478</td>\n",
              "      <td>0.6875</td>\n",
              "      <td>0.043478</td>\n",
              "      <td>1.0</td>\n",
              "      <td>1.454545</td>\n",
              "      <td>0.013587</td>\n",
              "      <td>inf</td>\n",
              "    </tr>\n",
              "    <tr>\n",
              "      <th>8374</th>\n",
              "      <td>(BMI_Normal, BloodPressure_Normal, Young, Preg...</td>\n",
              "      <td>(No_Diabetes)</td>\n",
              "      <td>0.038043</td>\n",
              "      <td>0.6875</td>\n",
              "      <td>0.038043</td>\n",
              "      <td>1.0</td>\n",
              "      <td>1.454545</td>\n",
              "      <td>0.011889</td>\n",
              "      <td>inf</td>\n",
              "    </tr>\n",
              "    <tr>\n",
              "      <th>8435</th>\n",
              "      <td>(BMI_Normal, BloodPressure_Normal, Young, Preg...</td>\n",
              "      <td>(No_Diabetes)</td>\n",
              "      <td>0.086957</td>\n",
              "      <td>0.6875</td>\n",
              "      <td>0.086957</td>\n",
              "      <td>1.0</td>\n",
              "      <td>1.454545</td>\n",
              "      <td>0.027174</td>\n",
              "      <td>inf</td>\n",
              "    </tr>\n",
              "    <tr>\n",
              "      <th>8497</th>\n",
              "      <td>(BMI_Normal, Young, Pregnant_Low, Glucose_Medi...</td>\n",
              "      <td>(No_Diabetes)</td>\n",
              "      <td>0.051630</td>\n",
              "      <td>0.6875</td>\n",
              "      <td>0.051630</td>\n",
              "      <td>1.0</td>\n",
              "      <td>1.454545</td>\n",
              "      <td>0.016135</td>\n",
              "      <td>inf</td>\n",
              "    </tr>\n",
              "    <tr>\n",
              "      <th>9576</th>\n",
              "      <td>(BloodPressure_Normal, DPF_Low, Young, Pregnan...</td>\n",
              "      <td>(No_Diabetes)</td>\n",
              "      <td>0.038043</td>\n",
              "      <td>0.6875</td>\n",
              "      <td>0.038043</td>\n",
              "      <td>1.0</td>\n",
              "      <td>1.454545</td>\n",
              "      <td>0.011889</td>\n",
              "      <td>inf</td>\n",
              "    </tr>\n",
              "    <tr>\n",
              "      <th>9875</th>\n",
              "      <td>(BMI_Normal, BloodPressure_Normal, Young, Preg...</td>\n",
              "      <td>(No_Diabetes)</td>\n",
              "      <td>0.043478</td>\n",
              "      <td>0.6875</td>\n",
              "      <td>0.043478</td>\n",
              "      <td>1.0</td>\n",
              "      <td>1.454545</td>\n",
              "      <td>0.013587</td>\n",
              "      <td>inf</td>\n",
              "    </tr>\n",
              "  </tbody>\n",
              "</table>\n",
              "</div>"
            ],
            "text/plain": [
              "                                            antecedents  ... conviction\n",
              "193                                  (BMI_Low, DPF_Low)  ...        inf\n",
              "364                           (BMI_Normal, Glucose_Low)  ...        inf\n",
              "1380           (BMI_Low, DPF_Low, BloodPressure_Normal)  ...        inf\n",
              "1506                 (BMI_Low, DPF_Low, Glucose_Medium)  ...        inf\n",
              "1534                          (BMI_Low, DPF_Low, Young)  ...        inf\n",
              "1546            (BMI_Low, Pregnant_Low, Glucose_Medium)  ...        inf\n",
              "1742    (BloodPressure_Normal, BMI_Normal, Glucose_Low)  ...        inf\n",
              "1913                 (DPF_Low, BMI_Normal, Glucose_Low)  ...        inf\n",
              "2075            (Pregnant_Low, BMI_Normal, Glucose_Low)  ...        inf\n",
              "2089                   (Young, BMI_Normal, Glucose_Low)  ...        inf\n",
              "3978               (Pregnant_Low, DPF_Low, Glucose_Low)  ...        inf\n",
              "4417  (BMI_Low, DPF_Low, Glucose_Medium, BloodPressu...  ...        inf\n",
              "4476    (BMI_Low, Young, DPF_Low, BloodPressure_Normal)  ...        inf\n",
              "4508  (BMI_Low, Pregnant_Low, Glucose_Medium, BloodP...  ...        inf\n",
              "4627          (BMI_Low, DPF_Low, Glucose_Medium, Young)  ...        inf\n",
              "4658     (BMI_Low, Pregnant_Low, Young, Glucose_Medium)  ...        inf\n",
              "4687  (BloodPressure_Normal, DPF_Low, BMI_Normal, Gl...  ...        inf\n",
              "5036  (BloodPressure_Normal, Pregnant_Low, BMI_Norma...  ...        inf\n",
              "5065  (BloodPressure_Normal, Young, BMI_Normal, Gluc...  ...        inf\n",
              "5319          (Glucose_Low, DPF_Low, BMI_Normal, Young)  ...        inf\n",
              "5367         (Pregnant_Low, DPF_Low, BMI_Normal, Young)  ...        inf\n",
              "5397  (Pregnant_Low, Glucose_Medium, BMI_Normal, DPF...  ...        inf\n",
              "5516     (Pregnant_Low, Young, BMI_Normal, Glucose_Low)  ...        inf\n",
              "5546  (Pregnant_Low, Young, BMI_Normal, Glucose_Medium)  ...        inf\n",
              "6924  (BloodPressure_Normal, Pregnant_Low, DPF_Low, ...  ...        inf\n",
              "7704        (Pregnant_Low, DPF_Low, Glucose_Low, Young)  ...        inf\n",
              "7867  (BMI_Low, BloodPressure_Normal, DPF_Low, Young...  ...        inf\n",
              "7930  (BMI_Low, BloodPressure_Normal, Young, Pregnan...  ...        inf\n",
              "7991  (BMI_Normal, BloodPressure_Normal, DPF_Low, Yo...  ...        inf\n",
              "8067  (BMI_Normal, BloodPressure_Normal, DPF_Low, Yo...  ...        inf\n",
              "8127  (BMI_Normal, BloodPressure_Normal, Pregnant_Lo...  ...        inf\n",
              "8374  (BMI_Normal, BloodPressure_Normal, Young, Preg...  ...        inf\n",
              "8435  (BMI_Normal, BloodPressure_Normal, Young, Preg...  ...        inf\n",
              "8497  (BMI_Normal, Young, Pregnant_Low, Glucose_Medi...  ...        inf\n",
              "9576  (BloodPressure_Normal, DPF_Low, Young, Pregnan...  ...        inf\n",
              "9875  (BMI_Normal, BloodPressure_Normal, Young, Preg...  ...        inf\n",
              "\n",
              "[36 rows x 9 columns]"
            ]
          },
          "metadata": {
            "tags": []
          },
          "execution_count": 242
        }
      ]
    },
    {
      "cell_type": "code",
      "metadata": {
        "colab": {
          "base_uri": "https://localhost:8080/",
          "height": 680
        },
        "id": "bZaoRWCnPJdb",
        "outputId": "4207307a-b87b-4241-e2bc-9e9ddc69e9ca"
      },
      "source": [
        "rules_[ (rules_['consequents'] == {'Yes_Diabetes'}) & (rules_['confidence'] >= 0.75) & (rules_['lift'] >= 1) ]"
      ],
      "execution_count": null,
      "outputs": [
        {
          "output_type": "execute_result",
          "data": {
            "text/html": [
              "<div>\n",
              "<style scoped>\n",
              "    .dataframe tbody tr th:only-of-type {\n",
              "        vertical-align: middle;\n",
              "    }\n",
              "\n",
              "    .dataframe tbody tr th {\n",
              "        vertical-align: top;\n",
              "    }\n",
              "\n",
              "    .dataframe thead th {\n",
              "        text-align: right;\n",
              "    }\n",
              "</style>\n",
              "<table border=\"1\" class=\"dataframe\">\n",
              "  <thead>\n",
              "    <tr style=\"text-align: right;\">\n",
              "      <th></th>\n",
              "      <th>antecedents</th>\n",
              "      <th>consequents</th>\n",
              "      <th>antecedent support</th>\n",
              "      <th>consequent support</th>\n",
              "      <th>support</th>\n",
              "      <th>confidence</th>\n",
              "      <th>lift</th>\n",
              "      <th>leverage</th>\n",
              "      <th>conviction</th>\n",
              "    </tr>\n",
              "  </thead>\n",
              "  <tbody>\n",
              "    <tr>\n",
              "      <th>3015</th>\n",
              "      <td>(BMI_Severly_Obese, Medium_age, DPF_Medium)</td>\n",
              "      <td>(Yes_Diabetes)</td>\n",
              "      <td>0.032609</td>\n",
              "      <td>0.3125</td>\n",
              "      <td>0.032609</td>\n",
              "      <td>1.000000</td>\n",
              "      <td>3.200000</td>\n",
              "      <td>0.022418</td>\n",
              "      <td>inf</td>\n",
              "    </tr>\n",
              "    <tr>\n",
              "      <th>6751</th>\n",
              "      <td>(BMI_Severly_Obese, Pregnant_High, Medium_age,...</td>\n",
              "      <td>(Yes_Diabetes)</td>\n",
              "      <td>0.032609</td>\n",
              "      <td>0.3125</td>\n",
              "      <td>0.032609</td>\n",
              "      <td>1.000000</td>\n",
              "      <td>3.200000</td>\n",
              "      <td>0.022418</td>\n",
              "      <td>inf</td>\n",
              "    </tr>\n",
              "    <tr>\n",
              "      <th>4123</th>\n",
              "      <td>(Glucose_High, Young, DPF_Medium)</td>\n",
              "      <td>(Yes_Diabetes)</td>\n",
              "      <td>0.048913</td>\n",
              "      <td>0.3125</td>\n",
              "      <td>0.043478</td>\n",
              "      <td>0.888889</td>\n",
              "      <td>2.844444</td>\n",
              "      <td>0.028193</td>\n",
              "      <td>6.187500</td>\n",
              "    </tr>\n",
              "    <tr>\n",
              "      <th>1141</th>\n",
              "      <td>(Glucose_High, DPF_Medium)</td>\n",
              "      <td>(Yes_Diabetes)</td>\n",
              "      <td>0.070652</td>\n",
              "      <td>0.3125</td>\n",
              "      <td>0.062500</td>\n",
              "      <td>0.884615</td>\n",
              "      <td>2.830769</td>\n",
              "      <td>0.040421</td>\n",
              "      <td>5.958333</td>\n",
              "    </tr>\n",
              "    <tr>\n",
              "      <th>4314</th>\n",
              "      <td>(Glucose_High, Pregnant_High, Medium_age)</td>\n",
              "      <td>(Yes_Diabetes)</td>\n",
              "      <td>0.040761</td>\n",
              "      <td>0.3125</td>\n",
              "      <td>0.035326</td>\n",
              "      <td>0.866667</td>\n",
              "      <td>2.773333</td>\n",
              "      <td>0.022588</td>\n",
              "      <td>5.156250</td>\n",
              "    </tr>\n",
              "    <tr>\n",
              "      <th>2973</th>\n",
              "      <td>(BMI_Severly_Obese, Glucose_High, DPF_Medium)</td>\n",
              "      <td>(Yes_Diabetes)</td>\n",
              "      <td>0.038043</td>\n",
              "      <td>0.3125</td>\n",
              "      <td>0.032609</td>\n",
              "      <td>0.857143</td>\n",
              "      <td>2.742857</td>\n",
              "      <td>0.020720</td>\n",
              "      <td>4.812500</td>\n",
              "    </tr>\n",
              "    <tr>\n",
              "      <th>7226</th>\n",
              "      <td>(BloodPressure_Normal, Glucose_High, Young, DP...</td>\n",
              "      <td>(Yes_Diabetes)</td>\n",
              "      <td>0.038043</td>\n",
              "      <td>0.3125</td>\n",
              "      <td>0.032609</td>\n",
              "      <td>0.857143</td>\n",
              "      <td>2.742857</td>\n",
              "      <td>0.020720</td>\n",
              "      <td>4.812500</td>\n",
              "    </tr>\n",
              "    <tr>\n",
              "      <th>3037</th>\n",
              "      <td>(BMI_Severly_Obese, Pregnant_High, DPF_Medium)</td>\n",
              "      <td>(Yes_Diabetes)</td>\n",
              "      <td>0.048913</td>\n",
              "      <td>0.3125</td>\n",
              "      <td>0.040761</td>\n",
              "      <td>0.833333</td>\n",
              "      <td>2.666667</td>\n",
              "      <td>0.025476</td>\n",
              "      <td>4.125000</td>\n",
              "    </tr>\n",
              "    <tr>\n",
              "      <th>3442</th>\n",
              "      <td>(BloodPressure_Normal, Glucose_High, DPF_Medium)</td>\n",
              "      <td>(Yes_Diabetes)</td>\n",
              "      <td>0.046196</td>\n",
              "      <td>0.3125</td>\n",
              "      <td>0.038043</td>\n",
              "      <td>0.823529</td>\n",
              "      <td>2.635294</td>\n",
              "      <td>0.023607</td>\n",
              "      <td>3.895833</td>\n",
              "    </tr>\n",
              "    <tr>\n",
              "      <th>1238</th>\n",
              "      <td>(Glucose_High, Medium_age)</td>\n",
              "      <td>(Yes_Diabetes)</td>\n",
              "      <td>0.054348</td>\n",
              "      <td>0.3125</td>\n",
              "      <td>0.043478</td>\n",
              "      <td>0.800000</td>\n",
              "      <td>2.560000</td>\n",
              "      <td>0.026495</td>\n",
              "      <td>3.437500</td>\n",
              "    </tr>\n",
              "    <tr>\n",
              "      <th>1256</th>\n",
              "      <td>(Glucose_High, Pregnant_Medium)</td>\n",
              "      <td>(Yes_Diabetes)</td>\n",
              "      <td>0.054348</td>\n",
              "      <td>0.3125</td>\n",
              "      <td>0.043478</td>\n",
              "      <td>0.800000</td>\n",
              "      <td>2.560000</td>\n",
              "      <td>0.026495</td>\n",
              "      <td>3.437500</td>\n",
              "    </tr>\n",
              "    <tr>\n",
              "      <th>4328</th>\n",
              "      <td>(Glucose_High, Pregnant_Low, Young)</td>\n",
              "      <td>(Yes_Diabetes)</td>\n",
              "      <td>0.040761</td>\n",
              "      <td>0.3125</td>\n",
              "      <td>0.032609</td>\n",
              "      <td>0.800000</td>\n",
              "      <td>2.560000</td>\n",
              "      <td>0.019871</td>\n",
              "      <td>3.437500</td>\n",
              "    </tr>\n",
              "    <tr>\n",
              "      <th>2738</th>\n",
              "      <td>(BMI_Severly_Obese, Glucose_High, BloodPressur...</td>\n",
              "      <td>(Yes_Diabetes)</td>\n",
              "      <td>0.051630</td>\n",
              "      <td>0.3125</td>\n",
              "      <td>0.040761</td>\n",
              "      <td>0.789474</td>\n",
              "      <td>2.526316</td>\n",
              "      <td>0.024626</td>\n",
              "      <td>3.265625</td>\n",
              "    </tr>\n",
              "    <tr>\n",
              "      <th>720</th>\n",
              "      <td>(BMI_Severly_Obese, Glucose_High)</td>\n",
              "      <td>(Yes_Diabetes)</td>\n",
              "      <td>0.076087</td>\n",
              "      <td>0.3125</td>\n",
              "      <td>0.059783</td>\n",
              "      <td>0.785714</td>\n",
              "      <td>2.514286</td>\n",
              "      <td>0.036005</td>\n",
              "      <td>3.208333</td>\n",
              "    </tr>\n",
              "    <tr>\n",
              "      <th>3658</th>\n",
              "      <td>(BloodPressure_Normal, Glucose_High, Pregnant_...</td>\n",
              "      <td>(Yes_Diabetes)</td>\n",
              "      <td>0.048913</td>\n",
              "      <td>0.3125</td>\n",
              "      <td>0.038043</td>\n",
              "      <td>0.777778</td>\n",
              "      <td>2.488889</td>\n",
              "      <td>0.022758</td>\n",
              "      <td>3.093750</td>\n",
              "    </tr>\n",
              "    <tr>\n",
              "      <th>2543</th>\n",
              "      <td>(Glucose_High, Young, BMI_Obese)</td>\n",
              "      <td>(Yes_Diabetes)</td>\n",
              "      <td>0.046196</td>\n",
              "      <td>0.3125</td>\n",
              "      <td>0.035326</td>\n",
              "      <td>0.764706</td>\n",
              "      <td>2.447059</td>\n",
              "      <td>0.020890</td>\n",
              "      <td>2.921875</td>\n",
              "    </tr>\n",
              "    <tr>\n",
              "      <th>3136</th>\n",
              "      <td>(BMI_Severly_Obese, Pregnant_High, Glucose_Med...</td>\n",
              "      <td>(Yes_Diabetes)</td>\n",
              "      <td>0.046196</td>\n",
              "      <td>0.3125</td>\n",
              "      <td>0.035326</td>\n",
              "      <td>0.764706</td>\n",
              "      <td>2.447059</td>\n",
              "      <td>0.020890</td>\n",
              "      <td>2.921875</td>\n",
              "    </tr>\n",
              "    <tr>\n",
              "      <th>4338</th>\n",
              "      <td>(Glucose_High, Young, Pregnant_Medium)</td>\n",
              "      <td>(Yes_Diabetes)</td>\n",
              "      <td>0.046196</td>\n",
              "      <td>0.3125</td>\n",
              "      <td>0.035326</td>\n",
              "      <td>0.764706</td>\n",
              "      <td>2.447059</td>\n",
              "      <td>0.020890</td>\n",
              "      <td>2.921875</td>\n",
              "    </tr>\n",
              "    <tr>\n",
              "      <th>1244</th>\n",
              "      <td>(Glucose_High, Pregnant_High)</td>\n",
              "      <td>(Yes_Diabetes)</td>\n",
              "      <td>0.067935</td>\n",
              "      <td>0.3125</td>\n",
              "      <td>0.051630</td>\n",
              "      <td>0.760000</td>\n",
              "      <td>2.432000</td>\n",
              "      <td>0.030401</td>\n",
              "      <td>2.864583</td>\n",
              "    </tr>\n",
              "    <tr>\n",
              "      <th>120</th>\n",
              "      <td>(Glucose_High)</td>\n",
              "      <td>(Yes_Diabetes)</td>\n",
              "      <td>0.168478</td>\n",
              "      <td>0.3125</td>\n",
              "      <td>0.127717</td>\n",
              "      <td>0.758065</td>\n",
              "      <td>2.425806</td>\n",
              "      <td>0.075068</td>\n",
              "      <td>2.841667</td>\n",
              "    </tr>\n",
              "    <tr>\n",
              "      <th>3174</th>\n",
              "      <td>(BMI_Severly_Obese, Pregnant_High, Medium_age)</td>\n",
              "      <td>(Yes_Diabetes)</td>\n",
              "      <td>0.065217</td>\n",
              "      <td>0.3125</td>\n",
              "      <td>0.048913</td>\n",
              "      <td>0.750000</td>\n",
              "      <td>2.400000</td>\n",
              "      <td>0.028533</td>\n",
              "      <td>2.750000</td>\n",
              "    </tr>\n",
              "    <tr>\n",
              "      <th>7550</th>\n",
              "      <td>(BloodPressure_Normal, Glucose_High, Young, Pr...</td>\n",
              "      <td>(Yes_Diabetes)</td>\n",
              "      <td>0.043478</td>\n",
              "      <td>0.3125</td>\n",
              "      <td>0.032609</td>\n",
              "      <td>0.750000</td>\n",
              "      <td>2.400000</td>\n",
              "      <td>0.019022</td>\n",
              "      <td>2.750000</td>\n",
              "    </tr>\n",
              "  </tbody>\n",
              "</table>\n",
              "</div>"
            ],
            "text/plain": [
              "                                            antecedents  ... conviction\n",
              "3015        (BMI_Severly_Obese, Medium_age, DPF_Medium)  ...        inf\n",
              "6751  (BMI_Severly_Obese, Pregnant_High, Medium_age,...  ...        inf\n",
              "4123                  (Glucose_High, Young, DPF_Medium)  ...   6.187500\n",
              "1141                         (Glucose_High, DPF_Medium)  ...   5.958333\n",
              "4314          (Glucose_High, Pregnant_High, Medium_age)  ...   5.156250\n",
              "2973      (BMI_Severly_Obese, Glucose_High, DPF_Medium)  ...   4.812500\n",
              "7226  (BloodPressure_Normal, Glucose_High, Young, DP...  ...   4.812500\n",
              "3037     (BMI_Severly_Obese, Pregnant_High, DPF_Medium)  ...   4.125000\n",
              "3442   (BloodPressure_Normal, Glucose_High, DPF_Medium)  ...   3.895833\n",
              "1238                         (Glucose_High, Medium_age)  ...   3.437500\n",
              "1256                    (Glucose_High, Pregnant_Medium)  ...   3.437500\n",
              "4328                (Glucose_High, Pregnant_Low, Young)  ...   3.437500\n",
              "2738  (BMI_Severly_Obese, Glucose_High, BloodPressur...  ...   3.265625\n",
              "720                   (BMI_Severly_Obese, Glucose_High)  ...   3.208333\n",
              "3658  (BloodPressure_Normal, Glucose_High, Pregnant_...  ...   3.093750\n",
              "2543                   (Glucose_High, Young, BMI_Obese)  ...   2.921875\n",
              "3136  (BMI_Severly_Obese, Pregnant_High, Glucose_Med...  ...   2.921875\n",
              "4338             (Glucose_High, Young, Pregnant_Medium)  ...   2.921875\n",
              "1244                      (Glucose_High, Pregnant_High)  ...   2.864583\n",
              "120                                      (Glucose_High)  ...   2.841667\n",
              "3174     (BMI_Severly_Obese, Pregnant_High, Medium_age)  ...   2.750000\n",
              "7550  (BloodPressure_Normal, Glucose_High, Young, Pr...  ...   2.750000\n",
              "\n",
              "[22 rows x 9 columns]"
            ]
          },
          "metadata": {
            "tags": []
          },
          "execution_count": 243
        }
      ]
    },
    {
      "cell_type": "markdown",
      "metadata": {
        "id": "wR83ARCdjNiE"
      },
      "source": [
        "Eclat Algorithm "
      ]
    },
    {
      "cell_type": "code",
      "metadata": {
        "id": "1KMkJohzjP4g"
      },
      "source": [
        "frequent_itemsets = apriori(df, min_support=0.015, use_colnames=True)\n",
        "#bulid association rules using support metric\n",
        "rules_Eclat = association_rules(frequent_itemsets, metric=\"support\", support_only=True, min_threshold=0.04)\n",
        "#use only support metric in Eclat algo using apriori"
      ],
      "execution_count": null,
      "outputs": []
    },
    {
      "cell_type": "code",
      "metadata": {
        "colab": {
          "base_uri": "https://localhost:8080/",
          "height": 277
        },
        "id": "DpjPhLM4ReqR",
        "outputId": "ab8e9dab-1d90-431b-b2bb-09b55c489965"
      },
      "source": [
        "rules_Eclat[ (rules_Eclat['consequents'] == {'No_Diabetes'}) & (rules_Eclat['support'] >=0.40)]"
      ],
      "execution_count": null,
      "outputs": [
        {
          "output_type": "execute_result",
          "data": {
            "text/html": [
              "<div>\n",
              "<style scoped>\n",
              "    .dataframe tbody tr th:only-of-type {\n",
              "        vertical-align: middle;\n",
              "    }\n",
              "\n",
              "    .dataframe tbody tr th {\n",
              "        vertical-align: top;\n",
              "    }\n",
              "\n",
              "    .dataframe thead th {\n",
              "        text-align: right;\n",
              "    }\n",
              "</style>\n",
              "<table border=\"1\" class=\"dataframe\">\n",
              "  <thead>\n",
              "    <tr style=\"text-align: right;\">\n",
              "      <th></th>\n",
              "      <th>antecedents</th>\n",
              "      <th>consequents</th>\n",
              "      <th>antecedent support</th>\n",
              "      <th>consequent support</th>\n",
              "      <th>support</th>\n",
              "      <th>confidence</th>\n",
              "      <th>lift</th>\n",
              "      <th>leverage</th>\n",
              "      <th>conviction</th>\n",
              "    </tr>\n",
              "  </thead>\n",
              "  <tbody>\n",
              "    <tr>\n",
              "      <th>108</th>\n",
              "      <td>(BloodPressure_Normal)</td>\n",
              "      <td>(No_Diabetes)</td>\n",
              "      <td>NaN</td>\n",
              "      <td>NaN</td>\n",
              "      <td>0.589674</td>\n",
              "      <td>NaN</td>\n",
              "      <td>NaN</td>\n",
              "      <td>NaN</td>\n",
              "      <td>NaN</td>\n",
              "    </tr>\n",
              "    <tr>\n",
              "      <th>213</th>\n",
              "      <td>(Glucose_Medium)</td>\n",
              "      <td>(No_Diabetes)</td>\n",
              "      <td>NaN</td>\n",
              "      <td>NaN</td>\n",
              "      <td>0.505435</td>\n",
              "      <td>NaN</td>\n",
              "      <td>NaN</td>\n",
              "      <td>NaN</td>\n",
              "      <td>NaN</td>\n",
              "    </tr>\n",
              "    <tr>\n",
              "      <th>232</th>\n",
              "      <td>(Pregnant_Low)</td>\n",
              "      <td>(No_Diabetes)</td>\n",
              "      <td>NaN</td>\n",
              "      <td>NaN</td>\n",
              "      <td>0.429348</td>\n",
              "      <td>NaN</td>\n",
              "      <td>NaN</td>\n",
              "      <td>NaN</td>\n",
              "      <td>NaN</td>\n",
              "    </tr>\n",
              "    <tr>\n",
              "      <th>237</th>\n",
              "      <td>(Young)</td>\n",
              "      <td>(No_Diabetes)</td>\n",
              "      <td>NaN</td>\n",
              "      <td>NaN</td>\n",
              "      <td>0.611413</td>\n",
              "      <td>NaN</td>\n",
              "      <td>NaN</td>\n",
              "      <td>NaN</td>\n",
              "      <td>NaN</td>\n",
              "    </tr>\n",
              "    <tr>\n",
              "      <th>1201</th>\n",
              "      <td>(BloodPressure_Normal, Glucose_Medium)</td>\n",
              "      <td>(No_Diabetes)</td>\n",
              "      <td>NaN</td>\n",
              "      <td>NaN</td>\n",
              "      <td>0.432065</td>\n",
              "      <td>NaN</td>\n",
              "      <td>NaN</td>\n",
              "      <td>NaN</td>\n",
              "      <td>NaN</td>\n",
              "    </tr>\n",
              "    <tr>\n",
              "      <th>1273</th>\n",
              "      <td>(BloodPressure_Normal, Young)</td>\n",
              "      <td>(No_Diabetes)</td>\n",
              "      <td>NaN</td>\n",
              "      <td>NaN</td>\n",
              "      <td>0.532609</td>\n",
              "      <td>NaN</td>\n",
              "      <td>NaN</td>\n",
              "      <td>NaN</td>\n",
              "      <td>NaN</td>\n",
              "    </tr>\n",
              "    <tr>\n",
              "      <th>1790</th>\n",
              "      <td>(Glucose_Medium, Young)</td>\n",
              "      <td>(No_Diabetes)</td>\n",
              "      <td>NaN</td>\n",
              "      <td>NaN</td>\n",
              "      <td>0.448370</td>\n",
              "      <td>NaN</td>\n",
              "      <td>NaN</td>\n",
              "      <td>NaN</td>\n",
              "      <td>NaN</td>\n",
              "    </tr>\n",
              "    <tr>\n",
              "      <th>1848</th>\n",
              "      <td>(Pregnant_Low, Young)</td>\n",
              "      <td>(No_Diabetes)</td>\n",
              "      <td>NaN</td>\n",
              "      <td>NaN</td>\n",
              "      <td>0.418478</td>\n",
              "      <td>NaN</td>\n",
              "      <td>NaN</td>\n",
              "      <td>NaN</td>\n",
              "      <td>NaN</td>\n",
              "    </tr>\n",
              "  </tbody>\n",
              "</table>\n",
              "</div>"
            ],
            "text/plain": [
              "                                 antecedents  ... conviction\n",
              "108                   (BloodPressure_Normal)  ...        NaN\n",
              "213                         (Glucose_Medium)  ...        NaN\n",
              "232                           (Pregnant_Low)  ...        NaN\n",
              "237                                  (Young)  ...        NaN\n",
              "1201  (BloodPressure_Normal, Glucose_Medium)  ...        NaN\n",
              "1273           (BloodPressure_Normal, Young)  ...        NaN\n",
              "1790                 (Glucose_Medium, Young)  ...        NaN\n",
              "1848                   (Pregnant_Low, Young)  ...        NaN\n",
              "\n",
              "[8 rows x 9 columns]"
            ]
          },
          "metadata": {
            "tags": []
          },
          "execution_count": 245
        }
      ]
    },
    {
      "cell_type": "code",
      "metadata": {
        "colab": {
          "base_uri": "https://localhost:8080/",
          "height": 391
        },
        "id": "qTUMJSAAR7R3",
        "outputId": "fc5041e4-20dd-43f6-a8c2-30c5749bbdec"
      },
      "source": [
        "rules_Eclat[ (rules_Eclat['consequents'] == {'Yes_Diabetes'})]"
      ],
      "execution_count": null,
      "outputs": [
        {
          "output_type": "execute_result",
          "data": {
            "text/html": [
              "<div>\n",
              "<style scoped>\n",
              "    .dataframe tbody tr th:only-of-type {\n",
              "        vertical-align: middle;\n",
              "    }\n",
              "\n",
              "    .dataframe tbody tr th {\n",
              "        vertical-align: top;\n",
              "    }\n",
              "\n",
              "    .dataframe thead th {\n",
              "        text-align: right;\n",
              "    }\n",
              "</style>\n",
              "<table border=\"1\" class=\"dataframe\">\n",
              "  <thead>\n",
              "    <tr style=\"text-align: right;\">\n",
              "      <th></th>\n",
              "      <th>antecedents</th>\n",
              "      <th>consequents</th>\n",
              "      <th>antecedent support</th>\n",
              "      <th>consequent support</th>\n",
              "      <th>support</th>\n",
              "      <th>confidence</th>\n",
              "      <th>lift</th>\n",
              "      <th>leverage</th>\n",
              "      <th>conviction</th>\n",
              "    </tr>\n",
              "  </thead>\n",
              "  <tbody>\n",
              "    <tr>\n",
              "      <th>31</th>\n",
              "      <td>(BMI_Normal)</td>\n",
              "      <td>(Yes_Diabetes)</td>\n",
              "      <td>NaN</td>\n",
              "      <td>NaN</td>\n",
              "      <td>0.043478</td>\n",
              "      <td>NaN</td>\n",
              "      <td>NaN</td>\n",
              "      <td>NaN</td>\n",
              "      <td>NaN</td>\n",
              "    </tr>\n",
              "    <tr>\n",
              "      <th>61</th>\n",
              "      <td>(BMI_Obese)</td>\n",
              "      <td>(Yes_Diabetes)</td>\n",
              "      <td>NaN</td>\n",
              "      <td>NaN</td>\n",
              "      <td>0.114130</td>\n",
              "      <td>NaN</td>\n",
              "      <td>NaN</td>\n",
              "      <td>NaN</td>\n",
              "      <td>NaN</td>\n",
              "    </tr>\n",
              "    <tr>\n",
              "      <th>90</th>\n",
              "      <td>(BMI_Severly_Obese)</td>\n",
              "      <td>(Yes_Diabetes)</td>\n",
              "      <td>NaN</td>\n",
              "      <td>NaN</td>\n",
              "      <td>0.149457</td>\n",
              "      <td>NaN</td>\n",
              "      <td>NaN</td>\n",
              "      <td>NaN</td>\n",
              "      <td>NaN</td>\n",
              "    </tr>\n",
              "    <tr>\n",
              "      <th>116</th>\n",
              "      <td>(BloodPressure_Normal)</td>\n",
              "      <td>(Yes_Diabetes)</td>\n",
              "      <td>NaN</td>\n",
              "      <td>NaN</td>\n",
              "      <td>0.217391</td>\n",
              "      <td>NaN</td>\n",
              "      <td>NaN</td>\n",
              "      <td>NaN</td>\n",
              "      <td>NaN</td>\n",
              "    </tr>\n",
              "    <tr>\n",
              "      <th>136</th>\n",
              "      <td>(BloodPressure_Prehypertension)</td>\n",
              "      <td>(Yes_Diabetes)</td>\n",
              "      <td>NaN</td>\n",
              "      <td>NaN</td>\n",
              "      <td>0.076087</td>\n",
              "      <td>NaN</td>\n",
              "      <td>NaN</td>\n",
              "      <td>NaN</td>\n",
              "      <td>NaN</td>\n",
              "    </tr>\n",
              "    <tr>\n",
              "      <th>...</th>\n",
              "      <td>...</td>\n",
              "      <td>...</td>\n",
              "      <td>...</td>\n",
              "      <td>...</td>\n",
              "      <td>...</td>\n",
              "      <td>...</td>\n",
              "      <td>...</td>\n",
              "      <td>...</td>\n",
              "      <td>...</td>\n",
              "    </tr>\n",
              "    <tr>\n",
              "      <th>7117</th>\n",
              "      <td>(BloodPressure_Normal, BMI_Severly_Obese, Preg...</td>\n",
              "      <td>(Yes_Diabetes)</td>\n",
              "      <td>NaN</td>\n",
              "      <td>NaN</td>\n",
              "      <td>0.040761</td>\n",
              "      <td>NaN</td>\n",
              "      <td>NaN</td>\n",
              "      <td>NaN</td>\n",
              "      <td>NaN</td>\n",
              "    </tr>\n",
              "    <tr>\n",
              "      <th>7388</th>\n",
              "      <td>(BMI_Severly_Obese, Pregnant_Low, Young, Gluco...</td>\n",
              "      <td>(Yes_Diabetes)</td>\n",
              "      <td>NaN</td>\n",
              "      <td>NaN</td>\n",
              "      <td>0.040761</td>\n",
              "      <td>NaN</td>\n",
              "      <td>NaN</td>\n",
              "      <td>NaN</td>\n",
              "      <td>NaN</td>\n",
              "    </tr>\n",
              "    <tr>\n",
              "      <th>7928</th>\n",
              "      <td>(BloodPressure_Normal, DPF_Medium, Young, Gluc...</td>\n",
              "      <td>(Yes_Diabetes)</td>\n",
              "      <td>NaN</td>\n",
              "      <td>NaN</td>\n",
              "      <td>0.040761</td>\n",
              "      <td>NaN</td>\n",
              "      <td>NaN</td>\n",
              "      <td>NaN</td>\n",
              "      <td>NaN</td>\n",
              "    </tr>\n",
              "    <tr>\n",
              "      <th>7988</th>\n",
              "      <td>(BloodPressure_Normal, Pregnant_Low, Young, DP...</td>\n",
              "      <td>(Yes_Diabetes)</td>\n",
              "      <td>NaN</td>\n",
              "      <td>NaN</td>\n",
              "      <td>0.043478</td>\n",
              "      <td>NaN</td>\n",
              "      <td>NaN</td>\n",
              "      <td>NaN</td>\n",
              "      <td>NaN</td>\n",
              "    </tr>\n",
              "    <tr>\n",
              "      <th>8108</th>\n",
              "      <td>(BloodPressure_Normal, Pregnant_Low, Young, Gl...</td>\n",
              "      <td>(Yes_Diabetes)</td>\n",
              "      <td>NaN</td>\n",
              "      <td>NaN</td>\n",
              "      <td>0.048913</td>\n",
              "      <td>NaN</td>\n",
              "      <td>NaN</td>\n",
              "      <td>NaN</td>\n",
              "      <td>NaN</td>\n",
              "    </tr>\n",
              "  </tbody>\n",
              "</table>\n",
              "<p>102 rows × 9 columns</p>\n",
              "</div>"
            ],
            "text/plain": [
              "                                            antecedents  ... conviction\n",
              "31                                         (BMI_Normal)  ...        NaN\n",
              "61                                          (BMI_Obese)  ...        NaN\n",
              "90                                  (BMI_Severly_Obese)  ...        NaN\n",
              "116                              (BloodPressure_Normal)  ...        NaN\n",
              "136                     (BloodPressure_Prehypertension)  ...        NaN\n",
              "...                                                 ...  ...        ...\n",
              "7117  (BloodPressure_Normal, BMI_Severly_Obese, Preg...  ...        NaN\n",
              "7388  (BMI_Severly_Obese, Pregnant_Low, Young, Gluco...  ...        NaN\n",
              "7928  (BloodPressure_Normal, DPF_Medium, Young, Gluc...  ...        NaN\n",
              "7988  (BloodPressure_Normal, Pregnant_Low, Young, DP...  ...        NaN\n",
              "8108  (BloodPressure_Normal, Pregnant_Low, Young, Gl...  ...        NaN\n",
              "\n",
              "[102 rows x 9 columns]"
            ]
          },
          "metadata": {
            "tags": []
          },
          "execution_count": 246
        }
      ]
    },
    {
      "cell_type": "markdown",
      "metadata": {
        "id": "MbwESSEiy_Pk"
      },
      "source": [
        "FP-Growth Algorithm"
      ]
    },
    {
      "cell_type": "code",
      "metadata": {
        "colab": {
          "base_uri": "https://localhost:8080/"
        },
        "id": "xQ4ooknlQE3x",
        "outputId": "dd3b1425-7b25-4544-d5dc-a1b865165cbb"
      },
      "source": [
        "!pip install -U mlxtend"
      ],
      "execution_count": null,
      "outputs": [
        {
          "output_type": "stream",
          "text": [
            "Requirement already up-to-date: mlxtend in /usr/local/lib/python3.7/dist-packages (0.18.0)\n",
            "Requirement already satisfied, skipping upgrade: scikit-learn>=0.20.3 in /usr/local/lib/python3.7/dist-packages (from mlxtend) (0.22.2.post1)\n",
            "Requirement already satisfied, skipping upgrade: joblib>=0.13.2 in /usr/local/lib/python3.7/dist-packages (from mlxtend) (1.0.1)\n",
            "Requirement already satisfied, skipping upgrade: numpy>=1.16.2 in /usr/local/lib/python3.7/dist-packages (from mlxtend) (1.19.5)\n",
            "Requirement already satisfied, skipping upgrade: pandas>=0.24.2 in /usr/local/lib/python3.7/dist-packages (from mlxtend) (1.1.5)\n",
            "Requirement already satisfied, skipping upgrade: setuptools in /usr/local/lib/python3.7/dist-packages (from mlxtend) (56.1.0)\n",
            "Requirement already satisfied, skipping upgrade: matplotlib>=3.0.0 in /usr/local/lib/python3.7/dist-packages (from mlxtend) (3.2.2)\n",
            "Requirement already satisfied, skipping upgrade: scipy>=1.2.1 in /usr/local/lib/python3.7/dist-packages (from mlxtend) (1.4.1)\n",
            "Requirement already satisfied, skipping upgrade: pytz>=2017.2 in /usr/local/lib/python3.7/dist-packages (from pandas>=0.24.2->mlxtend) (2018.9)\n",
            "Requirement already satisfied, skipping upgrade: python-dateutil>=2.7.3 in /usr/local/lib/python3.7/dist-packages (from pandas>=0.24.2->mlxtend) (2.8.1)\n",
            "Requirement already satisfied, skipping upgrade: kiwisolver>=1.0.1 in /usr/local/lib/python3.7/dist-packages (from matplotlib>=3.0.0->mlxtend) (1.3.1)\n",
            "Requirement already satisfied, skipping upgrade: cycler>=0.10 in /usr/local/lib/python3.7/dist-packages (from matplotlib>=3.0.0->mlxtend) (0.10.0)\n",
            "Requirement already satisfied, skipping upgrade: pyparsing!=2.0.4,!=2.1.2,!=2.1.6,>=2.0.1 in /usr/local/lib/python3.7/dist-packages (from matplotlib>=3.0.0->mlxtend) (2.4.7)\n",
            "Requirement already satisfied, skipping upgrade: six>=1.5 in /usr/local/lib/python3.7/dist-packages (from python-dateutil>=2.7.3->pandas>=0.24.2->mlxtend) (1.15.0)\n"
          ],
          "name": "stdout"
        }
      ]
    },
    {
      "cell_type": "code",
      "metadata": {
        "id": "LKowsWyzzMIk"
      },
      "source": [
        "from mlxtend.frequent_patterns.fpgrowth import fpgrowth\n",
        "\n",
        "fpgrowth_item=fpgrowth(df, min_support=0.045, use_colnames=True)"
      ],
      "execution_count": null,
      "outputs": []
    },
    {
      "cell_type": "code",
      "metadata": {
        "colab": {
          "base_uri": "https://localhost:8080/",
          "height": 191
        },
        "id": "euMUp9h_y-Tu",
        "outputId": "8572c314-9a5d-4a47-82bf-e22e1cf13cf2"
      },
      "source": [
        "fpgrowth_rules=association_rules(fpgrowth_item, metric=\"confidence\", min_threshold=0.75)\n",
        "fpgrowth_item.tail()"
      ],
      "execution_count": null,
      "outputs": [
        {
          "output_type": "execute_result",
          "data": {
            "text/html": [
              "<div>\n",
              "<style scoped>\n",
              "    .dataframe tbody tr th:only-of-type {\n",
              "        vertical-align: middle;\n",
              "    }\n",
              "\n",
              "    .dataframe tbody tr th {\n",
              "        vertical-align: top;\n",
              "    }\n",
              "\n",
              "    .dataframe thead th {\n",
              "        text-align: right;\n",
              "    }\n",
              "</style>\n",
              "<table border=\"1\" class=\"dataframe\">\n",
              "  <thead>\n",
              "    <tr style=\"text-align: right;\">\n",
              "      <th></th>\n",
              "      <th>support</th>\n",
              "      <th>itemsets</th>\n",
              "    </tr>\n",
              "  </thead>\n",
              "  <tbody>\n",
              "    <tr>\n",
              "      <th>657</th>\n",
              "      <td>0.051630</td>\n",
              "      <td>(BMI_Low, Pregnant_Low, No_Diabetes)</td>\n",
              "    </tr>\n",
              "    <tr>\n",
              "      <th>658</th>\n",
              "      <td>0.054348</td>\n",
              "      <td>(BMI_Low, Pregnant_Low, Young, BloodPressure_N...</td>\n",
              "    </tr>\n",
              "    <tr>\n",
              "      <th>659</th>\n",
              "      <td>0.051630</td>\n",
              "      <td>(BMI_Low, Pregnant_Low, Young, No_Diabetes)</td>\n",
              "    </tr>\n",
              "    <tr>\n",
              "      <th>660</th>\n",
              "      <td>0.051630</td>\n",
              "      <td>(BMI_Low, Pregnant_Low, BloodPressure_Normal, ...</td>\n",
              "    </tr>\n",
              "    <tr>\n",
              "      <th>661</th>\n",
              "      <td>0.051630</td>\n",
              "      <td>(BMI_Low, BloodPressure_Normal, Young, No_Diab...</td>\n",
              "    </tr>\n",
              "  </tbody>\n",
              "</table>\n",
              "</div>"
            ],
            "text/plain": [
              "      support                                           itemsets\n",
              "657  0.051630               (BMI_Low, Pregnant_Low, No_Diabetes)\n",
              "658  0.054348  (BMI_Low, Pregnant_Low, Young, BloodPressure_N...\n",
              "659  0.051630        (BMI_Low, Pregnant_Low, Young, No_Diabetes)\n",
              "660  0.051630  (BMI_Low, Pregnant_Low, BloodPressure_Normal, ...\n",
              "661  0.051630  (BMI_Low, BloodPressure_Normal, Young, No_Diab..."
            ]
          },
          "metadata": {
            "tags": []
          },
          "execution_count": 249
        }
      ]
    },
    {
      "cell_type": "code",
      "metadata": {
        "colab": {
          "base_uri": "https://localhost:8080/"
        },
        "id": "rXgALKMI3U3V",
        "outputId": "3a341219-1bea-4558-b008-32b88a048518"
      },
      "source": [
        "fpgrowth_rules_ = fpgrowth_rules.sort_values(['confidence', 'lift'], ascending =[False, False]) \n",
        "print(fpgrowth_rules_[['antecedents','consequents']])"
      ],
      "execution_count": null,
      "outputs": [
        {
          "output_type": "stream",
          "text": [
            "                                           antecedents             consequents\n",
            "279  (Pregnant_Low, Glucose_Medium, BMI_Normal, DPF...    (No_Diabetes, Young)\n",
            "358                          (BMI_Normal, Glucose_Low)    (No_Diabetes, Young)\n",
            "368    (BloodPressure_Normal, BMI_Normal, Glucose_Low)    (No_Diabetes, Young)\n",
            "145  (Pregnant_Low, Young, BMI_Normal, Glucose_Medium)           (No_Diabetes)\n",
            "154  (BMI_Normal, BloodPressure_Normal, Young, Preg...           (No_Diabetes)\n",
            "..                                                 ...                     ...\n",
            "412           (BMI_Severly_Obese, Pregnant_Low, Young)  (BloodPressure_Normal)\n",
            "822                          (No_Diabetes, Medium_age)  (BloodPressure_Normal)\n",
            "831                          (Glucose_High, BMI_Obese)  (BloodPressure_Normal)\n",
            "845                        (Pregnant_High, DPF_Medium)  (BloodPressure_Normal)\n",
            "484                       (BMI_Severly_Obese, DPF_Low)                 (Young)\n",
            "\n",
            "[932 rows x 2 columns]\n"
          ],
          "name": "stdout"
        }
      ]
    },
    {
      "cell_type": "code",
      "metadata": {
        "colab": {
          "base_uri": "https://localhost:8080/",
          "height": 335
        },
        "id": "oGyJbmVxQdiS",
        "outputId": "aadb3a89-b848-448c-b36f-882ad1089851"
      },
      "source": [
        "fpgrowth_rules_[ (fpgrowth_rules_['consequents'] == {'No_Diabetes'}) & (fpgrowth_rules_['confidence'] == 1)]"
      ],
      "execution_count": null,
      "outputs": [
        {
          "output_type": "execute_result",
          "data": {
            "text/html": [
              "<div>\n",
              "<style scoped>\n",
              "    .dataframe tbody tr th:only-of-type {\n",
              "        vertical-align: middle;\n",
              "    }\n",
              "\n",
              "    .dataframe tbody tr th {\n",
              "        vertical-align: top;\n",
              "    }\n",
              "\n",
              "    .dataframe thead th {\n",
              "        text-align: right;\n",
              "    }\n",
              "</style>\n",
              "<table border=\"1\" class=\"dataframe\">\n",
              "  <thead>\n",
              "    <tr style=\"text-align: right;\">\n",
              "      <th></th>\n",
              "      <th>antecedents</th>\n",
              "      <th>consequents</th>\n",
              "      <th>antecedent support</th>\n",
              "      <th>consequent support</th>\n",
              "      <th>support</th>\n",
              "      <th>confidence</th>\n",
              "      <th>lift</th>\n",
              "      <th>leverage</th>\n",
              "      <th>conviction</th>\n",
              "    </tr>\n",
              "  </thead>\n",
              "  <tbody>\n",
              "    <tr>\n",
              "      <th>145</th>\n",
              "      <td>(Pregnant_Low, Young, BMI_Normal, Glucose_Medium)</td>\n",
              "      <td>(No_Diabetes)</td>\n",
              "      <td>0.103261</td>\n",
              "      <td>0.6875</td>\n",
              "      <td>0.103261</td>\n",
              "      <td>1.0</td>\n",
              "      <td>1.454545</td>\n",
              "      <td>0.032269</td>\n",
              "      <td>inf</td>\n",
              "    </tr>\n",
              "    <tr>\n",
              "      <th>154</th>\n",
              "      <td>(BMI_Normal, BloodPressure_Normal, Young, Preg...</td>\n",
              "      <td>(No_Diabetes)</td>\n",
              "      <td>0.086957</td>\n",
              "      <td>0.6875</td>\n",
              "      <td>0.086957</td>\n",
              "      <td>1.0</td>\n",
              "      <td>1.454545</td>\n",
              "      <td>0.027174</td>\n",
              "      <td>inf</td>\n",
              "    </tr>\n",
              "    <tr>\n",
              "      <th>181</th>\n",
              "      <td>(Pregnant_Low, DPF_Low, BMI_Normal, Young)</td>\n",
              "      <td>(No_Diabetes)</td>\n",
              "      <td>0.054348</td>\n",
              "      <td>0.6875</td>\n",
              "      <td>0.054348</td>\n",
              "      <td>1.0</td>\n",
              "      <td>1.454545</td>\n",
              "      <td>0.016984</td>\n",
              "      <td>inf</td>\n",
              "    </tr>\n",
              "    <tr>\n",
              "      <th>190</th>\n",
              "      <td>(BMI_Normal, BloodPressure_Normal, DPF_Low, Yo...</td>\n",
              "      <td>(No_Diabetes)</td>\n",
              "      <td>0.046196</td>\n",
              "      <td>0.6875</td>\n",
              "      <td>0.046196</td>\n",
              "      <td>1.0</td>\n",
              "      <td>1.454545</td>\n",
              "      <td>0.014436</td>\n",
              "      <td>inf</td>\n",
              "    </tr>\n",
              "    <tr>\n",
              "      <th>269</th>\n",
              "      <td>(Pregnant_Low, Glucose_Medium, BMI_Normal, DPF...</td>\n",
              "      <td>(No_Diabetes)</td>\n",
              "      <td>0.051630</td>\n",
              "      <td>0.6875</td>\n",
              "      <td>0.051630</td>\n",
              "      <td>1.0</td>\n",
              "      <td>1.454545</td>\n",
              "      <td>0.016135</td>\n",
              "      <td>inf</td>\n",
              "    </tr>\n",
              "    <tr>\n",
              "      <th>275</th>\n",
              "      <td>(BMI_Normal, Young, Pregnant_Low, Glucose_Medi...</td>\n",
              "      <td>(No_Diabetes)</td>\n",
              "      <td>0.051630</td>\n",
              "      <td>0.6875</td>\n",
              "      <td>0.051630</td>\n",
              "      <td>1.0</td>\n",
              "      <td>1.454545</td>\n",
              "      <td>0.016135</td>\n",
              "      <td>inf</td>\n",
              "    </tr>\n",
              "    <tr>\n",
              "      <th>354</th>\n",
              "      <td>(BMI_Normal, Glucose_Low)</td>\n",
              "      <td>(No_Diabetes)</td>\n",
              "      <td>0.054348</td>\n",
              "      <td>0.6875</td>\n",
              "      <td>0.054348</td>\n",
              "      <td>1.0</td>\n",
              "      <td>1.454545</td>\n",
              "      <td>0.016984</td>\n",
              "      <td>inf</td>\n",
              "    </tr>\n",
              "    <tr>\n",
              "      <th>357</th>\n",
              "      <td>(Young, BMI_Normal, Glucose_Low)</td>\n",
              "      <td>(No_Diabetes)</td>\n",
              "      <td>0.054348</td>\n",
              "      <td>0.6875</td>\n",
              "      <td>0.054348</td>\n",
              "      <td>1.0</td>\n",
              "      <td>1.454545</td>\n",
              "      <td>0.016984</td>\n",
              "      <td>inf</td>\n",
              "    </tr>\n",
              "    <tr>\n",
              "      <th>362</th>\n",
              "      <td>(BloodPressure_Normal, BMI_Normal, Glucose_Low)</td>\n",
              "      <td>(No_Diabetes)</td>\n",
              "      <td>0.051630</td>\n",
              "      <td>0.6875</td>\n",
              "      <td>0.051630</td>\n",
              "      <td>1.0</td>\n",
              "      <td>1.454545</td>\n",
              "      <td>0.016135</td>\n",
              "      <td>inf</td>\n",
              "    </tr>\n",
              "    <tr>\n",
              "      <th>365</th>\n",
              "      <td>(BloodPressure_Normal, Young, BMI_Normal, Gluc...</td>\n",
              "      <td>(No_Diabetes)</td>\n",
              "      <td>0.051630</td>\n",
              "      <td>0.6875</td>\n",
              "      <td>0.051630</td>\n",
              "      <td>1.0</td>\n",
              "      <td>1.454545</td>\n",
              "      <td>0.016135</td>\n",
              "      <td>inf</td>\n",
              "    </tr>\n",
              "  </tbody>\n",
              "</table>\n",
              "</div>"
            ],
            "text/plain": [
              "                                           antecedents  ... conviction\n",
              "145  (Pregnant_Low, Young, BMI_Normal, Glucose_Medium)  ...        inf\n",
              "154  (BMI_Normal, BloodPressure_Normal, Young, Preg...  ...        inf\n",
              "181         (Pregnant_Low, DPF_Low, BMI_Normal, Young)  ...        inf\n",
              "190  (BMI_Normal, BloodPressure_Normal, DPF_Low, Yo...  ...        inf\n",
              "269  (Pregnant_Low, Glucose_Medium, BMI_Normal, DPF...  ...        inf\n",
              "275  (BMI_Normal, Young, Pregnant_Low, Glucose_Medi...  ...        inf\n",
              "354                          (BMI_Normal, Glucose_Low)  ...        inf\n",
              "357                   (Young, BMI_Normal, Glucose_Low)  ...        inf\n",
              "362    (BloodPressure_Normal, BMI_Normal, Glucose_Low)  ...        inf\n",
              "365  (BloodPressure_Normal, Young, BMI_Normal, Gluc...  ...        inf\n",
              "\n",
              "[10 rows x 9 columns]"
            ]
          },
          "metadata": {
            "tags": []
          },
          "execution_count": 251
        }
      ]
    },
    {
      "cell_type": "code",
      "metadata": {
        "colab": {
          "base_uri": "https://localhost:8080/",
          "height": 191
        },
        "id": "QlV5cVn9Qr-n",
        "outputId": "cbf945b9-250b-480b-e444-af55277014a8"
      },
      "source": [
        "fpgrowth_rules_[ (fpgrowth_rules_['consequents'] == {'Yes_Diabetes'}) & (fpgrowth_rules_['confidence'] >= 0.75) & (fpgrowth_rules_['lift'] >= 1) ]"
      ],
      "execution_count": null,
      "outputs": [
        {
          "output_type": "execute_result",
          "data": {
            "text/html": [
              "<div>\n",
              "<style scoped>\n",
              "    .dataframe tbody tr th:only-of-type {\n",
              "        vertical-align: middle;\n",
              "    }\n",
              "\n",
              "    .dataframe tbody tr th {\n",
              "        vertical-align: top;\n",
              "    }\n",
              "\n",
              "    .dataframe thead th {\n",
              "        text-align: right;\n",
              "    }\n",
              "</style>\n",
              "<table border=\"1\" class=\"dataframe\">\n",
              "  <thead>\n",
              "    <tr style=\"text-align: right;\">\n",
              "      <th></th>\n",
              "      <th>antecedents</th>\n",
              "      <th>consequents</th>\n",
              "      <th>antecedent support</th>\n",
              "      <th>consequent support</th>\n",
              "      <th>support</th>\n",
              "      <th>confidence</th>\n",
              "      <th>lift</th>\n",
              "      <th>leverage</th>\n",
              "      <th>conviction</th>\n",
              "    </tr>\n",
              "  </thead>\n",
              "  <tbody>\n",
              "    <tr>\n",
              "      <th>824</th>\n",
              "      <td>(Glucose_High, DPF_Medium)</td>\n",
              "      <td>(Yes_Diabetes)</td>\n",
              "      <td>0.070652</td>\n",
              "      <td>0.3125</td>\n",
              "      <td>0.062500</td>\n",
              "      <td>0.884615</td>\n",
              "      <td>2.830769</td>\n",
              "      <td>0.040421</td>\n",
              "      <td>5.958333</td>\n",
              "    </tr>\n",
              "    <tr>\n",
              "      <th>833</th>\n",
              "      <td>(BMI_Severly_Obese, Glucose_High)</td>\n",
              "      <td>(Yes_Diabetes)</td>\n",
              "      <td>0.076087</td>\n",
              "      <td>0.3125</td>\n",
              "      <td>0.059783</td>\n",
              "      <td>0.785714</td>\n",
              "      <td>2.514286</td>\n",
              "      <td>0.036005</td>\n",
              "      <td>3.208333</td>\n",
              "    </tr>\n",
              "    <tr>\n",
              "      <th>834</th>\n",
              "      <td>(Glucose_High, Pregnant_High)</td>\n",
              "      <td>(Yes_Diabetes)</td>\n",
              "      <td>0.067935</td>\n",
              "      <td>0.3125</td>\n",
              "      <td>0.051630</td>\n",
              "      <td>0.760000</td>\n",
              "      <td>2.432000</td>\n",
              "      <td>0.030401</td>\n",
              "      <td>2.864583</td>\n",
              "    </tr>\n",
              "    <tr>\n",
              "      <th>823</th>\n",
              "      <td>(Glucose_High)</td>\n",
              "      <td>(Yes_Diabetes)</td>\n",
              "      <td>0.168478</td>\n",
              "      <td>0.3125</td>\n",
              "      <td>0.127717</td>\n",
              "      <td>0.758065</td>\n",
              "      <td>2.425806</td>\n",
              "      <td>0.075068</td>\n",
              "      <td>2.841667</td>\n",
              "    </tr>\n",
              "    <tr>\n",
              "      <th>818</th>\n",
              "      <td>(BMI_Severly_Obese, Pregnant_High, Medium_age)</td>\n",
              "      <td>(Yes_Diabetes)</td>\n",
              "      <td>0.065217</td>\n",
              "      <td>0.3125</td>\n",
              "      <td>0.048913</td>\n",
              "      <td>0.750000</td>\n",
              "      <td>2.400000</td>\n",
              "      <td>0.028533</td>\n",
              "      <td>2.750000</td>\n",
              "    </tr>\n",
              "  </tbody>\n",
              "</table>\n",
              "</div>"
            ],
            "text/plain": [
              "                                        antecedents  ... conviction\n",
              "824                      (Glucose_High, DPF_Medium)  ...   5.958333\n",
              "833               (BMI_Severly_Obese, Glucose_High)  ...   3.208333\n",
              "834                   (Glucose_High, Pregnant_High)  ...   2.864583\n",
              "823                                  (Glucose_High)  ...   2.841667\n",
              "818  (BMI_Severly_Obese, Pregnant_High, Medium_age)  ...   2.750000\n",
              "\n",
              "[5 rows x 9 columns]"
            ]
          },
          "metadata": {
            "tags": []
          },
          "execution_count": 252
        }
      ]
    }
  ]
}